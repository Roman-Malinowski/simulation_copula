{
 "cells": [
  {
   "cell_type": "code",
   "execution_count": 1,
   "metadata": {},
   "outputs": [],
   "source": [
    "%config Completer.use_jedi = False"
   ]
  },
  {
   "cell_type": "code",
   "execution_count": 2,
   "metadata": {},
   "outputs": [],
   "source": [
    "import pandas as pd\n",
    "import matplotlib.pyplot as plt\n",
    "import matplotlib as mpl\n",
    "import numpy as np\n",
    "import os.path"
   ]
  },
  {
   "cell_type": "code",
   "execution_count": 3,
   "metadata": {},
   "outputs": [],
   "source": [
    "out_path = \"/work/scratch/malinoro/simulation_copula/out\"\n",
    "# out_path = \"/Users/roman/Code/simulation_copula/out/backup\""
   ]
  },
  {
   "cell_type": "markdown",
   "metadata": {},
   "source": [
    "## Multiple figures"
   ]
  },
  {
   "cell_type": "code",
   "execution_count": 4,
   "metadata": {},
   "outputs": [],
   "source": [
    "def plot_possibilities(a, b):\n",
    "\n",
    "    fig, axes = plt.subplots(1, 2, figsize=(15,5))\n",
    "\n",
    "    axes[0].scatter(range(len(a)), a.values(), marker='+', s=10*mpl.rcParams['lines.markersize'] ** 2, c=\"blue\")\n",
    "    axes[0].set_title(\"X poss\")\n",
    "    \n",
    "    axes[0].set_xticks(ticks=range(len(a)))\n",
    "    axes[0].set_xticklabels(labels=list(a.keys()))\n",
    "    axes[0].set_yticks(ticks=list(a.values()))\n",
    "    axes[0].set_yticklabels(labels=list(a.values()))\n",
    "    \n",
    "    \n",
    "    axes[1].scatter(range(len(b)), b.values(), marker='+', s=10*mpl.rcParams['lines.markersize'] ** 2, c=\"orange\")\n",
    "    axes[1].set_title(\"Y poss\")\n",
    "    \n",
    "    axes[1].set_xticks(ticks=range(len(b)))\n",
    "    axes[1].set_xticklabels(labels=list(b.keys()))\n",
    "    axes[1].set_yticks(ticks=list(b.values()))\n",
    "    axes[1].set_yticklabels(labels=list(b.values()))\n",
    "    \n",
    "    if order_a is not None or order_b is not None:\n",
    "        for k in order_a.keys():\n",
    "            for i in [int(i) for i in \"\".join(k.split(\",\")).split(\"x\") if i!=\"\"]:\n",
    "                axes[2].plot([i - 0.5, i + 0.5], order_a[k], c=\"blue\")\n",
    "        axes[2].set_title(\"X Order\")\n",
    "        \n",
    "        for k in order_b.keys():\n",
    "            for i in [int(i) for i in \"\".join(k.split(\",\")).split(\"x\") if i!=\"\"]:\n",
    "                axes[3].plot([i - 0.5, i + 0.5], order_b[k], c=\"orange\")\n",
    "        axes[3].set_title(\"Y Order\")\n",
    "    \n",
    "    fig.show()\n",
    "    \n",
    "    \n",
    "def plot_possibilities(a, b, order_a, order_b):\n",
    "    \n",
    "    fig, axes = plt.subplots(2, 2, figsize=(15,10))\n",
    "\n",
    "    axes[0,0].scatter(range(len(a)), a.values(), marker='+', s=10*mpl.rcParams['lines.markersize'] ** 2, c=\"blue\")\n",
    "    axes[0,0].set_title(\"X poss\")\n",
    "    \n",
    "    axes[0,0].set_xticks(ticks=range(len(a)))\n",
    "    axes[0,0].set_xticklabels(labels=list(a.keys()))\n",
    "    axes[0,0].set_yticks(ticks=list(a.values()))\n",
    "    axes[0,0].set_yticklabels(labels=list(a.values()))\n",
    "    \n",
    "    \n",
    "    axes[0,1].scatter(range(len(b)), b.values(), marker='+', s=10*mpl.rcParams['lines.markersize'] ** 2, c=\"orange\")\n",
    "    axes[0,1].set_title(\"Y poss\")\n",
    "    \n",
    "    axes[0,1].set_xticks(ticks=range(len(b)))\n",
    "    axes[0,1].set_xticklabels(labels=list(b.keys()))\n",
    "    axes[0,1].set_yticks(ticks=list(b.values()))\n",
    "    axes[0,1].set_yticklabels(labels=list(b.values()))\n",
    "    \n",
    "    for k in order_a.keys():\n",
    "        for i in [int(i) for i in \"\".join(k.split(\",\")).split(\"x\") if i!=\"\"]:\n",
    "            axes[1,0].plot([i-0.5,i+0.5], [order_a[k]]*2, c=\"blue\")\n",
    "    axes[1,0].set_title(\"X Order\")\n",
    "    axes[1,0].set_xticks(ticks=range(1, len(a)+1))\n",
    "    axes[1,0].set_xticklabels(labels=list(a.keys()))\n",
    "    axes[1,0].set_yticks(ticks=list(order_a.values()))\n",
    "    axes[1,0].set_yticklabels(labels=list(order_a.values()))\n",
    "\n",
    "    for k in order_b.keys():\n",
    "        for i in [int(i) for i in \"\".join(k.split(\",\")).split(\"y\") if i!=\"\"]:\n",
    "            axes[1,1].plot([i-0.5,i+0.5], [order_b[k]]*2, c=\"orange\")\n",
    "    axes[1,1].set_title(\"Y Order\")\n",
    "    axes[1,1].set_xticks(ticks=range(1, len(b)+1))\n",
    "    axes[1,1].set_xticklabels(labels=list(b.keys()))\n",
    "    axes[1,1].set_yticks(ticks=list(order_b.values()))\n",
    "    axes[1,1].set_yticklabels(labels=list(order_b.values()))\n",
    "    \n",
    "    fig.show()\n",
    "\n",
    "    \n",
    "def plot_multiple_orders(df, row):\n",
    "    assert df.loc[row, ('focal_sets', 'X')].isnull().any() , \"The row you passed has no working order\"\n",
    "    atoms = [k[1] for k in df.columns if k[0]==\"poss\"]\n",
    "    keys_x = [k for k in atoms if \"x\" in k]\n",
    "    keys_y = [k for k in atoms if \"y\" in k]\n",
    "    \n",
    "    # Reading the possibility distributions\n",
    "    poss_x = {i: df.loc[(row, 0), (\"poss\", i)] for i in keys_x}\n",
    "    poss_y = {i: df.loc[(row, 0), (\"poss\", i)] for i in keys_y}\n",
    "    \n",
    "    # Counting the number of orders to plot\n",
    "    n_orders = max(df.loc[(row,), :].index) + 1\n",
    "    \n",
    "    # Init figure + plotting possibility distribution\n",
    "    fig, axes = plt.subplots(n_orders + 1, 2, figsize=(15, 5 * (n_orders + 1)))\n",
    "    axes[0,0].scatter(range(len(poss_x)), poss_x.values(), marker='+', s=10*mpl.rcParams['lines.markersize'] ** 2, c=\"blue\")\n",
    "    axes[0,0].set_title(\"X poss\")\n",
    "    \n",
    "    axes[0,0].set_xticks(ticks=range(len(poss_x)))\n",
    "    axes[0,0].set_xticklabels(labels=list(poss_x.keys()))\n",
    "    axes[0,0].set_yticks(ticks=list(poss_x.values()))\n",
    "    axes[0,0].set_yticklabels(labels=list(poss_x.values()))\n",
    "    \n",
    "    \n",
    "    axes[0,1].scatter(range(len(poss_y)), poss_y.values(), marker='+', s=10*mpl.rcParams['lines.markersize'] ** 2, c=\"orange\")\n",
    "    axes[0,1].set_title(\"Y poss\")\n",
    "    \n",
    "    axes[0,1].set_xticks(ticks=range(len(poss_y)))\n",
    "    axes[0,1].set_xticklabels(labels=list(poss_y.keys()))\n",
    "    axes[0,1].set_yticks(ticks=list(poss_y.values()))\n",
    "    axes[0,1].set_yticklabels(labels=list(poss_y.values()))\n",
    "    \n",
    "    for i_ord in range(n_orders):\n",
    "        order_x = df.loc[(row, i_ord), (\"focal_sets\", \"X\")].split(\"<\")\n",
    "        order_x = {order_x[i]: i + 1 for i in range(len(order_x))}\n",
    "        \n",
    "        order_y = df.loc[(row, i_ord), (\"focal_sets\", \"Y\")].split(\"<\") \n",
    "        order_y = {order_y[i]: i + 1 for i in range(len(order_y))}\n",
    "        \n",
    "        for k in order_x.keys():\n",
    "            for i in [int(i) for i in \"\".join(k.split(\",\")).split(\"x\") if i!=\"\"]:\n",
    "                axes[i_ord + 1, 0].plot([i-0.5,i+0.5], [order_x[k]]*2, c=\"blue\")\n",
    "        axes[i_ord + 1, 0].set_title(\"X Order\")\n",
    "        axes[i_ord + 1, 0].set_xticks(ticks=range(1, len(poss_x)+1))\n",
    "        axes[i_ord + 1, 0].set_xticklabels(labels=list(poss_x.keys()))\n",
    "        axes[i_ord + 1, 0].set_yticks(ticks=list(order_x.values()))\n",
    "        axes[i_ord + 1, 0].set_yticklabels(labels=list(order_x.values()))\n",
    "\n",
    "        for k in order_y.keys():\n",
    "            for i in [int(i) for i in \"\".join(k.split(\",\")).split(\"y\") if i!=\"\"]:\n",
    "                axes[i_ord + 1, 1].plot([i-0.5,i+0.5], [order_y[k]]*2, c=\"orange\")\n",
    "        axes[i_ord + 1, 1].set_title(\"Y Order\")\n",
    "        axes[i_ord + 1, 1].set_xticks(ticks=range(1, len(poss_y)+1))\n",
    "        axes[i_ord + 1, 1].set_xticklabels(labels=list(poss_y.keys()))\n",
    "        axes[i_ord + 1, 1].set_yticks(ticks=list(order_y.values()))\n",
    "        axes[i_ord + 1, 1].set_yticklabels(labels=list(order_y.values()))\n",
    "    \n",
    "    fig.show()"
   ]
  },
  {
   "cell_type": "markdown",
   "metadata": {},
   "source": [
    "# Analyse if df have the same possibilities "
   ]
  },
  {
   "cell_type": "code",
   "execution_count": 5,
   "metadata": {},
   "outputs": [],
   "source": [
    "df_1 = pd.read_csv(os.path.join(out_path, \"random_orders_N3_clayton_2.csv\"), header=[0,1], index_col=[0,1])\n",
    "df_2 = pd.read_csv(os.path.join(out_path, \"random_orders_N3_amh_05.csv\"), header=[0,1], index_col=[0,1])\n",
    "\n",
    "# Sorting the dataframe in order to create an lexical order. This improve performants when locating data later on\n",
    "\n",
    "df_1 = df_1.sort_values(by=[\"Object\", \"Space\"], axis=1) \n",
    "df_2 = df_2.sort_values(by=[\"Object\", \"Space\"], axis=1) "
   ]
  },
  {
   "cell_type": "code",
   "execution_count": 7,
   "metadata": {},
   "outputs": [
    {
     "name": "stdout",
     "output_type": "stream",
     "text": [
      "df_1 is longer than df_2\n"
     ]
    }
   ],
   "source": [
    "unique_poss_1 = df_1.xs(key=0, level=\"order\", axis=0, drop_level=False).drop(axis=1, columns=[\"focal_sets\"])\n",
    "unique_poss_2 = df_2.xs(key=0, level=\"order\", axis=0, drop_level=False).drop(axis=1, columns=[\"focal_sets\"])\n",
    "\n",
    "max_1 = max(df_1.index.get_level_values(level=\"poss\"))\n",
    "max_2 = max(df_2.index.get_level_values(level=\"poss\"))\n",
    "\n",
    "# Checking if one is larger than the other (i.e. had more simulation time or easier computations)\n",
    "if max_1<max_2:\n",
    "    print(\"df_2 is longer than df_1\")\n",
    "    unique_poss_1, unique_poss_2 = unique_poss_2, unique_poss_1\n",
    "elif max_1>max_2:\n",
    "    print(\"df_1 is longer than df_2\")"
   ]
  },
  {
   "cell_type": "code",
   "execution_count": 8,
   "metadata": {},
   "outputs": [
    {
     "data": {
      "text/plain": [
       "True"
      ]
     },
     "execution_count": 8,
     "metadata": {},
     "output_type": "execute_result"
    }
   ],
   "source": [
    "(unique_poss_1.loc[unique_poss_2.index,:] == unique_poss_2).all().all()"
   ]
  },
  {
   "cell_type": "markdown",
   "metadata": {},
   "source": [
    "# Checking orders"
   ]
  },
  {
   "cell_type": "code",
   "execution_count": 5,
   "metadata": {},
   "outputs": [],
   "source": [
    "def keep_max_n_orders(df, n=1):\n",
    "    cross_selection = df.xs(key=n, level=\"order\", axis=0)\n",
    "    index = df.index.sort_values()\n",
    "    return index.drop(cross_selection.index, errors='ignore')\n",
    "\n",
    "def get_max_orders(df):\n",
    "    poss = df.index.get_level_values(level=\"poss\").drop_duplicates()\n",
    "    max_index = [max(df.xs(key=k, level=\"poss\", axis=0).index) for k in poss]\n",
    "    return pd.MultiIndex.from_arrays([poss, max_index])\n",
    "\n",
    "def split_orders_nan(df: pd.DataFrame):\n",
    "    mask = df[(\"focal_sets\", \"X\")].isnull()\n",
    "    return df[~mask], df[mask]"
   ]
  },
  {
   "cell_type": "code",
   "execution_count": 12,
   "metadata": {},
   "outputs": [],
   "source": [
    "a, b = split_orders_nan(df_1)"
   ]
  },
  {
   "cell_type": "code",
   "execution_count": 13,
   "metadata": {},
   "outputs": [
    {
     "data": {
      "text/html": [
       "<div>\n",
       "<style scoped>\n",
       "    .dataframe tbody tr th:only-of-type {\n",
       "        vertical-align: middle;\n",
       "    }\n",
       "\n",
       "    .dataframe tbody tr th {\n",
       "        vertical-align: top;\n",
       "    }\n",
       "\n",
       "    .dataframe thead th {\n",
       "        text-align: right;\n",
       "    }\n",
       "</style>\n",
       "<table border=\"1\" class=\"dataframe\">\n",
       "  <thead>\n",
       "    <tr style=\"text-align: right;\">\n",
       "      <th></th>\n",
       "      <th>Space</th>\n",
       "      <th>x1</th>\n",
       "      <th>x2</th>\n",
       "      <th>x3</th>\n",
       "      <th>y1</th>\n",
       "      <th>y2</th>\n",
       "      <th>y3</th>\n",
       "    </tr>\n",
       "    <tr>\n",
       "      <th>poss</th>\n",
       "      <th>order</th>\n",
       "      <th></th>\n",
       "      <th></th>\n",
       "      <th></th>\n",
       "      <th></th>\n",
       "      <th></th>\n",
       "      <th></th>\n",
       "    </tr>\n",
       "  </thead>\n",
       "  <tbody>\n",
       "    <tr>\n",
       "      <th>5</th>\n",
       "      <th>0</th>\n",
       "      <td>0.26</td>\n",
       "      <td>1.00</td>\n",
       "      <td>0.75</td>\n",
       "      <td>0.19</td>\n",
       "      <td>1.00</td>\n",
       "      <td>0.35</td>\n",
       "    </tr>\n",
       "    <tr>\n",
       "      <th>118</th>\n",
       "      <th>0</th>\n",
       "      <td>0.21</td>\n",
       "      <td>1.00</td>\n",
       "      <td>0.99</td>\n",
       "      <td>0.44</td>\n",
       "      <td>1.00</td>\n",
       "      <td>0.62</td>\n",
       "    </tr>\n",
       "    <tr>\n",
       "      <th>183</th>\n",
       "      <th>0</th>\n",
       "      <td>0.12</td>\n",
       "      <td>1.00</td>\n",
       "      <td>0.52</td>\n",
       "      <td>0.24</td>\n",
       "      <td>1.00</td>\n",
       "      <td>0.90</td>\n",
       "    </tr>\n",
       "    <tr>\n",
       "      <th>197</th>\n",
       "      <th>0</th>\n",
       "      <td>1.00</td>\n",
       "      <td>0.43</td>\n",
       "      <td>1.00</td>\n",
       "      <td>0.15</td>\n",
       "      <td>1.00</td>\n",
       "      <td>0.57</td>\n",
       "    </tr>\n",
       "    <tr>\n",
       "      <th>289</th>\n",
       "      <th>0</th>\n",
       "      <td>0.40</td>\n",
       "      <td>1.00</td>\n",
       "      <td>0.90</td>\n",
       "      <td>0.70</td>\n",
       "      <td>1.00</td>\n",
       "      <td>0.79</td>\n",
       "    </tr>\n",
       "    <tr>\n",
       "      <th>430</th>\n",
       "      <th>0</th>\n",
       "      <td>0.01</td>\n",
       "      <td>1.00</td>\n",
       "      <td>0.80</td>\n",
       "      <td>0.08</td>\n",
       "      <td>1.00</td>\n",
       "      <td>0.78</td>\n",
       "    </tr>\n",
       "    <tr>\n",
       "      <th>469</th>\n",
       "      <th>0</th>\n",
       "      <td>0.04</td>\n",
       "      <td>1.00</td>\n",
       "      <td>0.88</td>\n",
       "      <td>1.00</td>\n",
       "      <td>0.36</td>\n",
       "      <td>1.00</td>\n",
       "    </tr>\n",
       "    <tr>\n",
       "      <th>677</th>\n",
       "      <th>0</th>\n",
       "      <td>1.00</td>\n",
       "      <td>0.30</td>\n",
       "      <td>0.97</td>\n",
       "      <td>0.61</td>\n",
       "      <td>1.00</td>\n",
       "      <td>0.67</td>\n",
       "    </tr>\n",
       "    <tr>\n",
       "      <th>740</th>\n",
       "      <th>0</th>\n",
       "      <td>0.74</td>\n",
       "      <td>0.52</td>\n",
       "      <td>1.00</td>\n",
       "      <td>0.06</td>\n",
       "      <td>1.00</td>\n",
       "      <td>0.88</td>\n",
       "    </tr>\n",
       "    <tr>\n",
       "      <th>765</th>\n",
       "      <th>0</th>\n",
       "      <td>0.66</td>\n",
       "      <td>1.00</td>\n",
       "      <td>0.79</td>\n",
       "      <td>0.56</td>\n",
       "      <td>1.00</td>\n",
       "      <td>0.99</td>\n",
       "    </tr>\n",
       "  </tbody>\n",
       "</table>\n",
       "</div>"
      ],
      "text/plain": [
       "Space         x1    x2    x3    y1    y2    y3\n",
       "poss order                                    \n",
       "5    0      0.26  1.00  0.75  0.19  1.00  0.35\n",
       "118  0      0.21  1.00  0.99  0.44  1.00  0.62\n",
       "183  0      0.12  1.00  0.52  0.24  1.00  0.90\n",
       "197  0      1.00  0.43  1.00  0.15  1.00  0.57\n",
       "289  0      0.40  1.00  0.90  0.70  1.00  0.79\n",
       "430  0      0.01  1.00  0.80  0.08  1.00  0.78\n",
       "469  0      0.04  1.00  0.88  1.00  0.36  1.00\n",
       "677  0      1.00  0.30  0.97  0.61  1.00  0.67\n",
       "740  0      0.74  0.52  1.00  0.06  1.00  0.88\n",
       "765  0      0.66  1.00  0.79  0.56  1.00  0.99"
      ]
     },
     "execution_count": 13,
     "metadata": {},
     "output_type": "execute_result"
    }
   ],
   "source": [
    "k=0\n",
    "b.loc[b.index[10*k:10*(k+1)], (\"poss\",)] "
   ]
  },
  {
   "cell_type": "code",
   "execution_count": 9,
   "metadata": {},
   "outputs": [
    {
     "name": "stdout",
     "output_type": "stream",
     "text": [
      "[   3    5   11   52   97  111  118  123  127  161  183  185  214  226\n",
      "  245  249  263  285  289  335  354  361  418  430  445  477  491  512\n",
      "  551  563  572  574  597  619  623  640  655  676  677  692  694  704\n",
      "  720  740  765  774  786  822  823  887  897  900  919  934  936 1049\n",
      " 1081 1096 1205 1265 1298 1352 1368 1402 1431 1450 1459 1485 1507 1548\n",
      " 1586 1657 1678 1709 1762 1767 1792 1798 1800 1819 1853 1897 1962 2034\n",
      " 2057 2072 2078 2080 2102 2152 2172 2194 2195 2205 2230 2258 2272 2294\n",
      " 2322 2323 2328 2339 2342 2360 2388 2398 2412 2434 2450 2474 2498 2499\n",
      " 2509 2562 2566 2568 2574 2605 2656 2694 2700 2721 2751 2781 2792 2801\n",
      " 2808 2847 2850 2853 2881 2958 3006 3042 3054 3070 3100 3130 3158 3204\n",
      " 3227 3301 3306 3321 3324 3328 3360 3392 3404 3415 3421 3504 3509 3535\n",
      " 3549 3558 3613 3620 3661 3680 3682 3713 3717 3728 3744 3755 3785 3792\n",
      " 3818 3827 3832 3840 3869 3892 3903 3906 3922 3926 3927 3996 4003 4044\n",
      " 4047]\n"
     ]
    }
   ],
   "source": [
    "m1, m2 = get_max_orders(df_1), get_max_orders(df_2)\n",
    "\n",
    "row = np.array([-1])\n",
    "score = np.array([np.inf])\n",
    "\n",
    "n_dim = len([i for i in df_1.columns.get_level_values(\"Space\") if \"x\" in i])\n",
    "\n",
    "for i, j in zip(m1, m2):\n",
    "    nx_focal_sets = len(df_1.loc[i, (\"focal_sets\", \"X\")].split(\"<\"))\n",
    "    ny_focal_sets = len(df_1.loc[i, (\"focal_sets\", \"Y\")].split(\"<\"))\n",
    "    \n",
    "    # We minimize the number of different working orders for both dataframes and adding a penality if there are too few focal sets\n",
    "    if i[1]**2 + j[1]**2 + (2*n_dim - nx_focal_sets - ny_focal_sets)**2 <= score[-1]:\n",
    "        score = np.hstack((score, np.array([i[1]**2+j[1]**2])))\n",
    "        row = np.hstack((row, np.array([i[0]])))\n",
    "mask = score == score.min()\n",
    "score = score[mask]\n",
    "row = row[mask]\n",
    "\n",
    "print(row)"
   ]
  },
  {
   "cell_type": "code",
   "execution_count": 10,
   "metadata": {},
   "outputs": [
    {
     "name": "stdout",
     "output_type": "stream",
     "text": [
      "Row:  2\n"
     ]
    },
    {
     "data": {
      "text/html": [
       "<div>\n",
       "<style scoped>\n",
       "    .dataframe tbody tr th:only-of-type {\n",
       "        vertical-align: middle;\n",
       "    }\n",
       "\n",
       "    .dataframe tbody tr th {\n",
       "        vertical-align: top;\n",
       "    }\n",
       "\n",
       "    .dataframe thead tr th {\n",
       "        text-align: left;\n",
       "    }\n",
       "\n",
       "    .dataframe thead tr:last-of-type th {\n",
       "        text-align: right;\n",
       "    }\n",
       "</style>\n",
       "<table border=\"1\" class=\"dataframe\">\n",
       "  <thead>\n",
       "    <tr>\n",
       "      <th>Object</th>\n",
       "      <th colspan=\"2\" halign=\"left\">focal_sets</th>\n",
       "      <th colspan=\"6\" halign=\"left\">poss</th>\n",
       "    </tr>\n",
       "    <tr>\n",
       "      <th>Space</th>\n",
       "      <th>X</th>\n",
       "      <th>Y</th>\n",
       "      <th>x1</th>\n",
       "      <th>x2</th>\n",
       "      <th>x3</th>\n",
       "      <th>y1</th>\n",
       "      <th>y2</th>\n",
       "      <th>y3</th>\n",
       "    </tr>\n",
       "    <tr>\n",
       "      <th>order</th>\n",
       "      <th></th>\n",
       "      <th></th>\n",
       "      <th></th>\n",
       "      <th></th>\n",
       "      <th></th>\n",
       "      <th></th>\n",
       "      <th></th>\n",
       "      <th></th>\n",
       "    </tr>\n",
       "  </thead>\n",
       "  <tbody>\n",
       "    <tr>\n",
       "      <th>0</th>\n",
       "      <td>x1,x2,x3&lt;x2,x3&lt;x2</td>\n",
       "      <td>y1,y2,y3&lt;y1,y2&lt;y2</td>\n",
       "      <td>0.03</td>\n",
       "      <td>1.0</td>\n",
       "      <td>0.75</td>\n",
       "      <td>0.66</td>\n",
       "      <td>1.0</td>\n",
       "      <td>0.56</td>\n",
       "    </tr>\n",
       "    <tr>\n",
       "      <th>1</th>\n",
       "      <td>x2&lt;x2,x3&lt;x1,x2,x3</td>\n",
       "      <td>y2&lt;y1,y2&lt;y1,y2,y3</td>\n",
       "      <td>0.03</td>\n",
       "      <td>1.0</td>\n",
       "      <td>0.75</td>\n",
       "      <td>0.66</td>\n",
       "      <td>1.0</td>\n",
       "      <td>0.56</td>\n",
       "    </tr>\n",
       "  </tbody>\n",
       "</table>\n",
       "</div>"
      ],
      "text/plain": [
       "Object         focal_sets                     poss                            \n",
       "Space                   X                  Y    x1   x2    x3    y1   y2    y3\n",
       "order                                                                         \n",
       "0       x1,x2,x3<x2,x3<x2  y1,y2,y3<y1,y2<y2  0.03  1.0  0.75  0.66  1.0  0.56\n",
       "1       x2<x2,x3<x1,x2,x3  y2<y1,y2<y1,y2,y3  0.03  1.0  0.75  0.66  1.0  0.56"
      ]
     },
     "execution_count": 10,
     "metadata": {},
     "output_type": "execute_result"
    },
    {
     "data": {
      "image/png": "[encoded data removed]",
      "text/plain": [
       "<Figure size 1080x1080 with 6 Axes>"
      ]
     },
     "metadata": {
      "needs_background": "light"
     },
     "output_type": "display_data"
    }
   ],
   "source": [
    "# k = row[2]\n",
    "k = 2\n",
    "\n",
    "print(\"Row: \", k)\n",
    "plot_multiple_orders(df_1, k)\n",
    "df_1.loc[(k,), :].head()"
   ]
  },
  {
   "cell_type": "markdown",
   "metadata": {},
   "source": [
    "# Checking if smallest -> biggest orders work"
   ]
  },
  {
   "cell_type": "code",
   "execution_count": 6,
   "metadata": {},
   "outputs": [],
   "source": [
    "# Function that check if the focal sets are ordered such with increasing size\n",
    "def is_size_ordered(string):\n",
    "    s = string.split(\"<\")\n",
    "    s = np.array([len(s_.split(\",\")) for s_ in s])\n",
    "    if (s == np.sort(s)).all():\n",
    "        return \"s->b\" # smallest to biggest\n",
    "    elif (s == np.flip(np.sort(s))).all():\n",
    "        return \"b->s\" # biggest to smallest\n",
    "    else:\n",
    "        return None"
   ]
  },
  {
   "cell_type": "markdown",
   "metadata": {},
   "source": [
    "### Countermonotonic: s->b X b->s  and  b->s X s->b "
   ]
  },
  {
   "cell_type": "code",
   "execution_count": 7,
   "metadata": {},
   "outputs": [],
   "source": [
    "def check_countermonotonic_order(df):\n",
    "    for poss_ind in range(max(df.index.get_level_values(\"poss\"))):\n",
    "        max_order = max(df.loc[(poss_ind, ), :].index.get_level_values(\"order\"))\n",
    "        list_is_ordered = [[is_size_ordered(df.loc[(poss_ind, i), ('focal_sets', 'X')]), is_size_ordered(df.loc[(poss_ind, i), ('focal_sets', 'Y')])] for i in range(max_order + 1)]\n",
    "        flag = (['b->s', 's->b'] in list_is_ordered) & (['s->b', 'b->s'] in list_is_ordered)\n",
    "        if not flag:\n",
    "            print(\"Check row %s\"%poss_ind)\n",
    "            break\n",
    "    if flag:\n",
    "        print(\"Counter monotonic order is working\")"
   ]
  },
  {
   "cell_type": "code",
   "execution_count": 16,
   "metadata": {},
   "outputs": [
    {
     "name": "stdout",
     "output_type": "stream",
     "text": [
      "Check row 0\n"
     ]
    }
   ],
   "source": [
    "check_countermonotonic_order(df_2)"
   ]
  },
  {
   "cell_type": "markdown",
   "metadata": {},
   "source": [
    "### Comonotonic: s->b X s->b  and  b->s X b->s "
   ]
  },
  {
   "cell_type": "code",
   "execution_count": 8,
   "metadata": {},
   "outputs": [],
   "source": [
    "def check_comonotonic_order(df):\n",
    "    for poss_ind in range(max(df.index.get_level_values(\"poss\"))):\n",
    "        max_order = max(df.loc[(poss_ind, ), :].index.get_level_values(\"order\"))\n",
    "        list_is_ordered = [[is_size_ordered(df.loc[(poss_ind, i), ('focal_sets', 'X')]), is_size_ordered(df.loc[(poss_ind, i), ('focal_sets', 'Y')])] for i in range(max_order + 1)]\n",
    "        flag = (['b->s', 'b->s'] in list_is_ordered) & (['s->b', 's->b'] in list_is_ordered)\n",
    "        if not flag:\n",
    "            print(\"Check row %s\"%poss_ind)\n",
    "            break\n",
    "    if flag:\n",
    "        print(\"Comonotonic order is working\")"
   ]
  },
  {
   "cell_type": "code",
   "execution_count": 18,
   "metadata": {},
   "outputs": [
    {
     "name": "stdout",
     "output_type": "stream",
     "text": [
      "Check row 0\n"
     ]
    }
   ],
   "source": [
    "check_comonotonic_order(df_1)"
   ]
  },
  {
   "cell_type": "markdown",
   "metadata": {},
   "source": [
    "# TEMP"
   ]
  },
  {
   "cell_type": "code",
   "execution_count": 19,
   "metadata": {},
   "outputs": [],
   "source": [
    "#\"random_orders_N3_amh_-05.csv\", \"random_orders_N3_amh_05.csv\",\n",
    "#\"random_orders_N3_frank_-5.csv\", \"random_orders_N3_frank_5.csv\",\n",
    "#\"random_orders_N3_min.csv\", \"random_orders_N3_luka.csv\"\n",
    "#\"random_orders_N4_min.csv\", \"random_orders_N4_luka.csv\",\n",
    "#\"random_orders_N3_clayton_-05.csv\", \"random_orders_N3_clayton_2.csv\",\n",
    "#\"random_orders_N3_gumbel_05.csv\",\n",
    "\n",
    "# Those copulas can produce non working orders :\n",
    "list_csv = [\"random_orders_N3_amh_05.csv\", \"random_orders_N3_clayton_-05.csv\", \"random_orders_N3_clayton_2.csv\", \"random_orders_N3_gumbel_05.csv\"]\n",
    "list_index = []\n",
    "for csv in list_csv:\n",
    "    df = pd.read_csv(os.path.join(out_path, csv), header=[0,1], index_col=[0,1])\n",
    "    _, b = split_orders_nan(df)\n",
    "    list_index += [b.index]\n"
   ]
  },
  {
   "cell_type": "code",
   "execution_count": 20,
   "metadata": {},
   "outputs": [
    {
     "name": "stdout",
     "output_type": "stream",
     "text": [
      "97 81\n",
      "39\n"
     ]
    }
   ],
   "source": [
    "print(len(list_index[1]), len(list_index[2]))\n",
    "print(len([k for k in list_index[1] if k in list_index[2]]))\n"
   ]
  },
  {
   "cell_type": "code",
   "execution_count": 11,
   "metadata": {},
   "outputs": [],
   "source": [
    "df = pd.read_csv(os.path.join(out_path, \"random_orders_N3_clayton_-05.csv\"), header=[0,1], index_col=[0,1])\n",
    "_, a = split_orders_nan(df)\n",
    "df = pd.read_csv(os.path.join(out_path, \"random_orders_N3_clayton_2.csv\"), header=[0,1], index_col=[0,1])\n",
    "_, b = split_orders_nan(df)"
   ]
  },
  {
   "cell_type": "markdown",
   "metadata": {},
   "source": [
    "# Finding handy event that illustrate that no order is working"
   ]
  },
  {
   "cell_type": "code",
   "execution_count": 9,
   "metadata": {},
   "outputs": [],
   "source": [
    "import itertools\n",
    "\n",
    "from necessity_functions import NecessityUnivariate, NecessityBivariate\n",
    "from robust_set_sampling import RobustCredalSetUnivariate, RobustCredalSetBivariate\n",
    "from random_ordering_focal_set_importance import random_generator_poss\n",
    "from copulas import min_copula, lukaciewicz_copula, frank_copula, ali_mikhail_haq_copula, clayton_copula, gumbel_copula"
   ]
  },
  {
   "cell_type": "markdown",
   "metadata": {},
   "source": [
    "### Test orders on a given couple of possibilities"
   ]
  },
  {
   "cell_type": "code",
   "execution_count": 10,
   "metadata": {},
   "outputs": [],
   "source": [
    "x_space = [\"x1\", \"x2\", \"x3\"]\n",
    "y_space = [\"y1\", \"y2\", \"y3\"]\n",
    "\n",
    "poss_x = {'x1':0.2, \"x2\":1, \"x3\":0.7}\n",
    "poss_y = {'y1':0.2, \"y2\":1, 'y3': 0.7}\n",
    "\n",
    "order_x_precise = pd.DataFrame(columns=[\"order\"], index=x_space, data=range(1, len(x_space) + 1))\n",
    "order_y_precise = pd.DataFrame(columns=[\"order\"], index=y_space, data=range(1, len(y_space) + 1))"
   ]
  },
  {
   "cell_type": "code",
   "execution_count": 11,
   "metadata": {},
   "outputs": [],
   "source": [
    "theta = 2\n",
    "def copula(u, v):\n",
    "    return clayton_copula(u, v, theta)"
   ]
  },
  {
   "cell_type": "code",
   "execution_count": 12,
   "metadata": {},
   "outputs": [],
   "source": [
    "# Initializing the dataframe that stores results\n",
    "multi_col = pd.MultiIndex.from_tuples(list(\n",
    "    zip([\"poss\"] * (len(x_space) + len(y_space)) + [\"focal_sets\", \"focal_sets\"],\n",
    "        x_space + y_space + [\"X\", \"Y\"])), names=[\"Object\", \"Space\"])\n",
    "multi_index = pd.MultiIndex.from_product([pd.Index(name = \"poss\", data=[]), pd.Index(name=\"order\", data=[])])\n",
    "\n",
    "final_df = pd.DataFrame(columns=multi_col, index=multi_index, data=np.nan)"
   ]
  },
  {
   "cell_type": "code",
   "execution_count": 13,
   "metadata": {},
   "outputs": [],
   "source": [
    "# Finding focal sets\n",
    "nec_x_vanilla = NecessityUnivariate(poss_x)\n",
    "rob_x = RobustCredalSetUnivariate(nec_x_vanilla, samples_per_interval=10)\n",
    "\n",
    "nec_y_vanilla = NecessityUnivariate(poss_y)\n",
    "rob_y = RobustCredalSetUnivariate(nec_y_vanilla, samples_per_interval=10)\n",
    "\n",
    "rob_xy = RobustCredalSetBivariate(rob_x, rob_y, order_x_precise, order_y_precise, copula)"
   ]
  },
  {
   "cell_type": "code",
   "execution_count": 14,
   "metadata": {},
   "outputs": [
    {
     "name": "stdout",
     "output_type": "stream",
     "text": [
      "CSV loaded, you should not run the following cells\n"
     ]
    }
   ],
   "source": [
    "if os.path.exists(\"/work/scratch/malinoro/simulation_copula/robust_xy_clayton_2.csv\"):\n",
    "    nec_xy_inf = pd.read_csv(\"/work/scratch/malinoro/simulation_copula/nec_inf_clayton_2.csv\", index_col=[0, 1], header=[0, 1])\n",
    "    rob_xy.approximation = pd.read_csv(\"/work/scratch/malinoro/simulation_copula/robust_xy_clayton_2.csv\", index_col=[0, 1])\n",
    "    print(\"CSV loaded, you should not run the following cells\")\n",
    "else:\n",
    "    print(\"Could not find the .csv files, maybe check path or run following cells to create them\")"
   ]
  },
  {
   "cell_type": "code",
   "execution_count": null,
   "metadata": {},
   "outputs": [],
   "source": [
    "print(\"Computing robust credal set...\")\n",
    "rob_xy.approximate_robust_credal_set()\n",
    "print(\"Done.\")"
   ]
  },
  {
   "cell_type": "code",
   "execution_count": 7,
   "metadata": {},
   "outputs": [],
   "source": [
    "rob_xy.approximation.to_csv(\"/work/scratch/malinoro/simulation_copula/robust_xy_clayton_2.csv\")"
   ]
  },
  {
   "cell_type": "code",
   "execution_count": 20,
   "metadata": {},
   "outputs": [
    {
     "name": "stdout",
     "output_type": "stream",
     "text": [
      "Starting permutations\n",
      "No order is working!\n"
     ]
    }
   ],
   "source": [
    "# Testing orders\n",
    "flag_order_work = False\n",
    "\n",
    "# Creating a complex dataframe: rows being events and columns being different orders on focal sets\n",
    "i1 = []\n",
    "for perm_x in itertools.permutations(range(1, len(nec_x_vanilla.mass.index) + 1)):\n",
    "    order_x = pd.DataFrame(columns=[\"order\"], index=nec_x_vanilla.mass.index, data=perm_x)\n",
    "    i1 += [\"<\".join(order_x.sort_values(by=\"order\").index)]\n",
    "    \n",
    "i2 = []\n",
    "for perm_y in itertools.permutations(range(1, len(nec_y_vanilla.mass.index) + 1)):\n",
    "    order_y = pd.DataFrame(columns=[\"order\"], index=nec_y_vanilla.mass.index, data=perm_y)\n",
    "    [\"<\".join(order_y.sort_values(by=\"order\").index)]\n",
    "    \n",
    "col_multi = pd.MultiIndex.from_product([i1, i2], names=[\"order_X\", \"order_Y\"])\n",
    "\n",
    "nec_xy_inf = pd.DataFrame(index=rob_xy.approximation.index, columns=col_multi)\n",
    "nec_xy_inf.fillna(value=2, inplace=True)\n",
    "\n",
    "print(\"Starting permutations\") \n",
    "for perm_x in itertools.permutations(range(1, len(nec_x_vanilla.mass.index) + 1)):\n",
    "    order_x = pd.DataFrame(columns=[\"order\"], index=nec_x_vanilla.mass.index, data=perm_x)\n",
    "    nec_x = NecessityUnivariate(poss_x, order_x)\n",
    "\n",
    "    for perm_y in itertools.permutations(range(1, len(nec_y_vanilla.mass.index) + 1)):\n",
    "        order_y = pd.DataFrame(columns=[\"order\"], index=nec_y_vanilla.mass.index, data=perm_y)\n",
    "        nec_y = NecessityUnivariate(poss_y, order_y)\n",
    "\n",
    "        nec_xy = NecessityBivariate(nec_x, nec_y, copula)\n",
    "        \n",
    "        key_x = \"<\".join(order_x.sort_values(by=\"order\").index)\n",
    "        key_y = \"<\".join(order_y.sort_values(by=\"order\").index)\n",
    "        nec_xy_inf.loc[:, (key_x, key_y)] = np.array(nec_xy.necessity.loc[nec_xy.necessity.index, \"Nec\"])\n",
    "\n",
    "        if ((rob_xy.approximation[\"P_inf\"] - nec_xy.necessity[\"Nec\"]) > - rob_xy.rob_x.epsilon).all():\n",
    "            flag_order_work = True\n",
    "\n",
    "if not flag_order_work:\n",
    "    print(\"No order is working!\")"
   ]
  },
  {
   "cell_type": "code",
   "execution_count": 21,
   "metadata": {},
   "outputs": [],
   "source": [
    "nec_xy_inf.to_csv(\"nec_inf_clayton_2.csv\")"
   ]
  },
  {
   "cell_type": "markdown",
   "metadata": {},
   "source": [
    "## Finding two couples of events such that Nec cannot be inferior to P_inf on those two events at the same time"
   ]
  },
  {
   "cell_type": "code",
   "execution_count": 15,
   "metadata": {},
   "outputs": [
    {
     "name": "stdout",
     "output_type": "stream",
     "text": [
      "[(('x1,x2', 'y2,y3'), ('x2,x3', 'y1,y2')), (('x2,x3', 'y1,y2'), ('x1,x2', 'y2,y3')), (('x2,x3', 'y2'), ('x1,x2', 'y2,y3')), (('x2', 'y2,y3'), ('x2,x3', 'y1,y2')), (('x1,x2', 'y2,y3'), ('x2,x3', 'y2')), (('x2,x3', 'y2'), ('x2', 'y2,y3')), (('x2,x3', 'y1,y2'), ('x2', 'y2,y3')), (('x2', 'y2,y3'), ('x2,x3', 'y2'))]\n"
     ]
    }
   ],
   "source": [
    "list_event = []\n",
    "\n",
    "for xy1 in nec_xy_inf.index:\n",
    "    rob_1 = rob_xy.approximation.loc[xy1, \"P_inf\"]\n",
    "    \n",
    "    for xy2 in nec_xy_inf.index:\n",
    "        rob_2 = rob_xy.approximation.loc[xy2, \"P_inf\"]\n",
    "\n",
    "                \n",
    "        arr_bool_1 = nec_xy_inf.loc[xy1, :] > (rob_1 + rob_xy.rob_x.epsilon)\n",
    "        arr_bool_2 = nec_xy_inf.loc[xy2, :] > (rob_2 + rob_xy.rob_y.epsilon)\n",
    "\n",
    "        if (arr_bool_1 | arr_bool_2).all():\n",
    "            list_event += [(xy1, xy2)]\n",
    "\n",
    "list_event = list(set(list_event))\n",
    "\n",
    "print(list_event)"
   ]
  },
  {
   "cell_type": "code",
   "execution_count": 16,
   "metadata": {},
   "outputs": [
    {
     "name": "stdout",
     "output_type": "stream",
     "text": [
      "X      Y    \n",
      "x2     y2,y3    0.131237\n",
      "x2,x3  y2       0.131237\n",
      "Name: P_inf, dtype: float64\n"
     ]
    }
   ],
   "source": [
    "print(rob_xy.approximation.loc[[('x2', 'y2,y3'), ('x2,x3', 'y2')], \"P_inf\"])\n",
    "nec_1 = pd.DataFrame(index=nec_xy_inf.columns.get_level_values(level=\"order_X\").drop_duplicates(), columns=nec_xy_inf.columns.get_level_values(level=\"order_Y\").drop_duplicates())\n",
    "nec_2 = pd.DataFrame(index=nec_xy_inf.columns.get_level_values(level=\"order_X\").drop_duplicates(), columns=nec_xy_inf.columns.get_level_values(level=\"order_Y\").drop_duplicates())\n",
    "\n",
    "for x_i, y_i in nec_xy_inf.columns:\n",
    "    nec_1.loc[x_i, y_i] = nec_xy_inf.loc[('x2', 'y2,y3'), (x_i, y_i)]\n",
    "    nec_2.loc[x_i, y_i] = nec_xy_inf.loc[('x2,x3', 'y2'), (x_i, y_i)]\n",
    "\n",
    "nec_1 = nec_1.astype(float).round(3)\n",
    "nec_2 = nec_2.astype(float).round(3)\n",
    "\n",
    "nec_1.index.name, nec_1.columns.name = \"\", \"\"\n",
    "nec_2.index.name, nec_2.columns.name = \"\", \"\""
   ]
  },
  {
   "cell_type": "code",
   "execution_count": 17,
   "metadata": {},
   "outputs": [
    {
     "data": {
      "text/html": [
       "<div>\n",
       "<style scoped>\n",
       "    .dataframe tbody tr th:only-of-type {\n",
       "        vertical-align: middle;\n",
       "    }\n",
       "\n",
       "    .dataframe tbody tr th {\n",
       "        vertical-align: top;\n",
       "    }\n",
       "\n",
       "    .dataframe thead th {\n",
       "        text-align: right;\n",
       "    }\n",
       "</style>\n",
       "<table border=\"1\" class=\"dataframe\">\n",
       "  <thead>\n",
       "    <tr style=\"text-align: right;\">\n",
       "      <th></th>\n",
       "      <th>y1,y2,y3&lt;y2,y3&lt;y2</th>\n",
       "      <th>y1,y2,y3&lt;y2&lt;y2,y3</th>\n",
       "      <th>y2,y3&lt;y1,y2,y3&lt;y2</th>\n",
       "      <th>y2&lt;y1,y2,y3&lt;y2,y3</th>\n",
       "      <th>y2,y3&lt;y2&lt;y1,y2,y3</th>\n",
       "      <th>y2&lt;y2,y3&lt;y1,y2,y3</th>\n",
       "    </tr>\n",
       "    <tr>\n",
       "      <th></th>\n",
       "      <th></th>\n",
       "      <th></th>\n",
       "      <th></th>\n",
       "      <th></th>\n",
       "      <th></th>\n",
       "      <th></th>\n",
       "    </tr>\n",
       "  </thead>\n",
       "  <tbody>\n",
       "    <tr>\n",
       "      <th>x1,x2,x3&lt;x2,x3&lt;x2</th>\n",
       "      <td>0.296</td>\n",
       "      <td>0.296</td>\n",
       "      <td>0.224</td>\n",
       "      <td>0.259</td>\n",
       "      <td>0.180</td>\n",
       "      <td>0.180</td>\n",
       "    </tr>\n",
       "    <tr>\n",
       "      <th>x1,x2,x3&lt;x2&lt;x2,x3</th>\n",
       "      <td>0.254</td>\n",
       "      <td>0.254</td>\n",
       "      <td>0.240</td>\n",
       "      <td>0.208</td>\n",
       "      <td>0.270</td>\n",
       "      <td>0.270</td>\n",
       "    </tr>\n",
       "    <tr>\n",
       "      <th>x2,x3&lt;x1,x2,x3&lt;x2</th>\n",
       "      <td>0.296</td>\n",
       "      <td>0.296</td>\n",
       "      <td>0.224</td>\n",
       "      <td>0.259</td>\n",
       "      <td>0.180</td>\n",
       "      <td>0.180</td>\n",
       "    </tr>\n",
       "    <tr>\n",
       "      <th>x2&lt;x1,x2,x3&lt;x2,x3</th>\n",
       "      <td>0.131</td>\n",
       "      <td>0.131</td>\n",
       "      <td>0.279</td>\n",
       "      <td>0.251</td>\n",
       "      <td>0.293</td>\n",
       "      <td>0.293</td>\n",
       "    </tr>\n",
       "    <tr>\n",
       "      <th>x2,x3&lt;x2&lt;x1,x2,x3</th>\n",
       "      <td>0.291</td>\n",
       "      <td>0.291</td>\n",
       "      <td>0.216</td>\n",
       "      <td>0.236</td>\n",
       "      <td>0.218</td>\n",
       "      <td>0.218</td>\n",
       "    </tr>\n",
       "    <tr>\n",
       "      <th>x2&lt;x2,x3&lt;x1,x2,x3</th>\n",
       "      <td>0.131</td>\n",
       "      <td>0.131</td>\n",
       "      <td>0.279</td>\n",
       "      <td>0.251</td>\n",
       "      <td>0.293</td>\n",
       "      <td>0.293</td>\n",
       "    </tr>\n",
       "  </tbody>\n",
       "</table>\n",
       "</div>"
      ],
      "text/plain": [
       "                   y1,y2,y3<y2,y3<y2  y1,y2,y3<y2<y2,y3  y2,y3<y1,y2,y3<y2  \\\n",
       "                                                                             \n",
       "x1,x2,x3<x2,x3<x2              0.296              0.296              0.224   \n",
       "x1,x2,x3<x2<x2,x3              0.254              0.254              0.240   \n",
       "x2,x3<x1,x2,x3<x2              0.296              0.296              0.224   \n",
       "x2<x1,x2,x3<x2,x3              0.131              0.131              0.279   \n",
       "x2,x3<x2<x1,x2,x3              0.291              0.291              0.216   \n",
       "x2<x2,x3<x1,x2,x3              0.131              0.131              0.279   \n",
       "\n",
       "                   y2<y1,y2,y3<y2,y3  y2,y3<y2<y1,y2,y3  y2<y2,y3<y1,y2,y3  \n",
       "                                                                            \n",
       "x1,x2,x3<x2,x3<x2              0.259              0.180              0.180  \n",
       "x1,x2,x3<x2<x2,x3              0.208              0.270              0.270  \n",
       "x2,x3<x1,x2,x3<x2              0.259              0.180              0.180  \n",
       "x2<x1,x2,x3<x2,x3              0.251              0.293              0.293  \n",
       "x2,x3<x2<x1,x2,x3              0.236              0.218              0.218  \n",
       "x2<x2,x3<x1,x2,x3              0.251              0.293              0.293  "
      ]
     },
     "execution_count": 17,
     "metadata": {},
     "output_type": "execute_result"
    }
   ],
   "source": [
    "nec_1"
   ]
  },
  {
   "cell_type": "markdown",
   "metadata": {},
   "source": [
    "## Augmenting the resolution for Rob_XY and Clayton theta=2"
   ]
  },
  {
   "cell_type": "code",
   "execution_count": 4,
   "metadata": {},
   "outputs": [],
   "source": [
    "def rob_e(Px1, Px2, Py1):\n",
    "    if Px1+Px2>1:\n",
    "        return np.nan\n",
    "    if Py1==0:\n",
    "        return Px2\n",
    "    elif Px1==0:\n",
    "        return Px2 - Px2*Py1/(Px2**2+Py1**2-(Px2**2)*(Py1**2))**0.5\n",
    "    else:\n",
    "        return Px2 + Px1*Py1/(Px1**2+Py1**2-(Px1**2)*(Py1**2))**0.5 - (Px2+Px1)*Py1/((Px2+Px1)**2+Py1**2-((Px2+Px1)**2)*(Py1**2))**0.5\n",
    "    \n",
    "def cartesian_prod(arrays):\n",
    "    cartesian_product = np.empty([len(a) for a in arrays] + [len(arrays)], dtype=float) # Creates an empty array with dimension n_x1, n_x2, n_x3, 3\n",
    "    for i, a in enumerate(np.ix_(*arrays)):\n",
    "        cartesian_product[...,i] = a\n",
    "    return cartesian_product.reshape(-1, len(arrays))\n",
    "\n",
    "rob_e = np.vectorize(rob_e)"
   ]
  },
  {
   "cell_type": "code",
   "execution_count": 37,
   "metadata": {},
   "outputs": [
    {
     "data": {
      "text/plain": [
       "array([[0.   , 0.3  , 0.7  ],\n",
       "       [0.   , 0.305, 0.695],\n",
       "       [0.   , 0.31 , 0.69 ],\n",
       "       ...,\n",
       "       [0.2  , 0.79 , 0.01 ],\n",
       "       [0.2  , 0.795, 0.005],\n",
       "       [0.2  , 0.8  , 0.   ]])"
      ]
     },
     "execution_count": 37,
     "metadata": {},
     "output_type": "execute_result"
    }
   ],
   "source": [
    "resolution = 0.005\n",
    "\n",
    "Px1_vec = np.arange(0, 0.2 + resolution, resolution)\n",
    "Px2_vec = np.arange(0.3, 1 + resolution, resolution)\n",
    "Px3_vec = np.arange(0, 0.7 + resolution, resolution)\n",
    "\n",
    "epsilon = 1e-6\n",
    "Px1_vec\n",
    "\n",
    "arrays = [Px1_vec, Px2_vec, Px3_vec]  # list of array we want to cross with cartesian product\n",
    "cartesian_product = cartesian_prod(arrays)\n",
    "cartesian_product = cartesian_product[np.all(-epsilon <= cartesian_product, axis=1) & np.all(cartesian_product<=1+epsilon, axis=1)]\n",
    "cartesian_product = cartesian_product[np.abs(cartesian_product.sum(axis=1)-1)<=epsilon]\n",
    "cartesian_product"
   ]
  },
  {
   "cell_type": "code",
   "execution_count": 38,
   "metadata": {},
   "outputs": [
    {
     "data": {
      "text/plain": [
       "array([[0.        , 0.3       , 0.7       ],\n",
       "       [0.        , 0.30707071, 0.69292929],\n",
       "       [0.        , 0.31414141, 0.68585859],\n",
       "       ...,\n",
       "       [0.2       , 0.78080808, 0.01919192],\n",
       "       [0.2       , 0.78787879, 0.01212121],\n",
       "       [0.2       , 0.79494949, 0.00505051]])"
      ]
     },
     "execution_count": 38,
     "metadata": {},
     "output_type": "execute_result"
    }
   ],
   "source": [
    "resolution = 100\n",
    "\n",
    "Px1_vec = np.linspace(0, 0.2, resolution)\n",
    "Px2_vec = np.linspace(0.3, 1, resolution)\n",
    "Px3_vec = np.linspace(0, 0.7, resolution)\n",
    "\n",
    "arrays = [Px1_vec, Px2_vec]  # list of array we want to cross with cartesian product\n",
    "cartesian_product = cartesian_prod(arrays)\n",
    "cartesian_product = np.hstack((cartesian_product, 1-np.expand_dims(np.sum(cartesian_product, axis=1), axis=1)))  # Adding the value of the last atom because P is normalized\n",
    "cartesian_product = cartesian_product[np.all(0 <= cartesian_product, axis=1) & np.all(cartesian_product<=1, axis=1)]  # Keeping only rows where P is in [0,1]\n",
    "cartesian_product"
   ]
  },
  {
   "cell_type": "code",
   "execution_count": 26,
   "metadata": {},
   "outputs": [],
   "source": [
    "Py1_vec = np.linspace(0, 0.2, resolution)\n",
    "\n",
    "arrays = [Px1_vec, Px2_vec, Py1_vec]  # list of array we want to cross with cartesian product\n",
    "cartesian_product = cartesian_prod(arrays)\n",
    "\n",
    "P_e1 = rob_e(cartesian_product[:,0], cartesian_product[:,1], cartesian_product[:,2])\n"
   ]
  },
  {
   "cell_type": "code",
   "execution_count": 39,
   "metadata": {},
   "outputs": [
    {
     "data": {
      "text/html": [
       "<div>\n",
       "<style scoped>\n",
       "    .dataframe tbody tr th:only-of-type {\n",
       "        vertical-align: middle;\n",
       "    }\n",
       "\n",
       "    .dataframe tbody tr th {\n",
       "        vertical-align: top;\n",
       "    }\n",
       "\n",
       "    .dataframe thead th {\n",
       "        text-align: right;\n",
       "    }\n",
       "</style>\n",
       "<table border=\"1\" class=\"dataframe\">\n",
       "  <thead>\n",
       "    <tr style=\"text-align: right;\">\n",
       "      <th></th>\n",
       "      <th>a</th>\n",
       "      <th>b</th>\n",
       "      <th>c</th>\n",
       "    </tr>\n",
       "  </thead>\n",
       "  <tbody>\n",
       "    <tr>\n",
       "      <th>0</th>\n",
       "      <td>0.0</td>\n",
       "      <td>0.300000</td>\n",
       "      <td>0.700000</td>\n",
       "    </tr>\n",
       "    <tr>\n",
       "      <th>1</th>\n",
       "      <td>0.0</td>\n",
       "      <td>0.307071</td>\n",
       "      <td>0.692929</td>\n",
       "    </tr>\n",
       "    <tr>\n",
       "      <th>2</th>\n",
       "      <td>0.0</td>\n",
       "      <td>0.314141</td>\n",
       "      <td>0.685859</td>\n",
       "    </tr>\n",
       "    <tr>\n",
       "      <th>3</th>\n",
       "      <td>0.0</td>\n",
       "      <td>0.321212</td>\n",
       "      <td>0.678788</td>\n",
       "    </tr>\n",
       "    <tr>\n",
       "      <th>4</th>\n",
       "      <td>0.0</td>\n",
       "      <td>0.328283</td>\n",
       "      <td>0.671717</td>\n",
       "    </tr>\n",
       "    <tr>\n",
       "      <th>...</th>\n",
       "      <td>...</td>\n",
       "      <td>...</td>\n",
       "      <td>...</td>\n",
       "    </tr>\n",
       "    <tr>\n",
       "      <th>8538</th>\n",
       "      <td>0.2</td>\n",
       "      <td>0.766667</td>\n",
       "      <td>0.033333</td>\n",
       "    </tr>\n",
       "    <tr>\n",
       "      <th>8539</th>\n",
       "      <td>0.2</td>\n",
       "      <td>0.773737</td>\n",
       "      <td>0.026263</td>\n",
       "    </tr>\n",
       "    <tr>\n",
       "      <th>8540</th>\n",
       "      <td>0.2</td>\n",
       "      <td>0.780808</td>\n",
       "      <td>0.019192</td>\n",
       "    </tr>\n",
       "    <tr>\n",
       "      <th>8541</th>\n",
       "      <td>0.2</td>\n",
       "      <td>0.787879</td>\n",
       "      <td>0.012121</td>\n",
       "    </tr>\n",
       "    <tr>\n",
       "      <th>8542</th>\n",
       "      <td>0.2</td>\n",
       "      <td>0.794949</td>\n",
       "      <td>0.005051</td>\n",
       "    </tr>\n",
       "  </tbody>\n",
       "</table>\n",
       "<p>8543 rows × 3 columns</p>\n",
       "</div>"
      ],
      "text/plain": [
       "        a         b         c\n",
       "0     0.0  0.300000  0.700000\n",
       "1     0.0  0.307071  0.692929\n",
       "2     0.0  0.314141  0.685859\n",
       "3     0.0  0.321212  0.678788\n",
       "4     0.0  0.328283  0.671717\n",
       "...   ...       ...       ...\n",
       "8538  0.2  0.766667  0.033333\n",
       "8539  0.2  0.773737  0.026263\n",
       "8540  0.2  0.780808  0.019192\n",
       "8541  0.2  0.787879  0.012121\n",
       "8542  0.2  0.794949  0.005051\n",
       "\n",
       "[8543 rows x 3 columns]"
      ]
     },
     "execution_count": 39,
     "metadata": {},
     "output_type": "execute_result"
    }
   ],
   "source": [
    "p"
   ]
  },
  {
   "cell_type": "code",
   "execution_count": 50,
   "metadata": {},
   "outputs": [
    {
     "data": {
      "text/html": [
       "<div>\n",
       "<style scoped>\n",
       "    .dataframe tbody tr th:only-of-type {\n",
       "        vertical-align: middle;\n",
       "    }\n",
       "\n",
       "    .dataframe tbody tr th {\n",
       "        vertical-align: top;\n",
       "    }\n",
       "\n",
       "    .dataframe thead th {\n",
       "        text-align: right;\n",
       "    }\n",
       "</style>\n",
       "<table border=\"1\" class=\"dataframe\">\n",
       "  <thead>\n",
       "    <tr style=\"text-align: right;\">\n",
       "      <th></th>\n",
       "      <th>order</th>\n",
       "    </tr>\n",
       "  </thead>\n",
       "  <tbody>\n",
       "    <tr>\n",
       "      <th>b</th>\n",
       "      <td>1</td>\n",
       "    </tr>\n",
       "    <tr>\n",
       "      <th>c</th>\n",
       "      <td>2</td>\n",
       "    </tr>\n",
       "    <tr>\n",
       "      <th>a</th>\n",
       "      <td>3</td>\n",
       "    </tr>\n",
       "  </tbody>\n",
       "</table>\n",
       "</div>"
      ],
      "text/plain": [
       "   order\n",
       "b      1\n",
       "c      2\n",
       "a      3"
      ]
     },
     "execution_count": 50,
     "metadata": {},
     "output_type": "execute_result"
    }
   ],
   "source": []
  },
  {
   "cell_type": "code",
   "execution_count": 55,
   "metadata": {},
   "outputs": [
    {
     "data": {
      "text/html": [
       "<div>\n",
       "<style scoped>\n",
       "    .dataframe tbody tr th:only-of-type {\n",
       "        vertical-align: middle;\n",
       "    }\n",
       "\n",
       "    .dataframe tbody tr th {\n",
       "        vertical-align: top;\n",
       "    }\n",
       "\n",
       "    .dataframe thead th {\n",
       "        text-align: right;\n",
       "    }\n",
       "</style>\n",
       "<table border=\"1\" class=\"dataframe\">\n",
       "  <thead>\n",
       "    <tr style=\"text-align: right;\">\n",
       "      <th></th>\n",
       "      <th>empty</th>\n",
       "      <th>b</th>\n",
       "      <th>c</th>\n",
       "      <th>a</th>\n",
       "    </tr>\n",
       "  </thead>\n",
       "  <tbody>\n",
       "    <tr>\n",
       "      <th>0</th>\n",
       "      <td>0.0</td>\n",
       "      <td>0.300000</td>\n",
       "      <td>1.0</td>\n",
       "      <td>1.0</td>\n",
       "    </tr>\n",
       "    <tr>\n",
       "      <th>1</th>\n",
       "      <td>0.0</td>\n",
       "      <td>0.307071</td>\n",
       "      <td>1.0</td>\n",
       "      <td>1.0</td>\n",
       "    </tr>\n",
       "    <tr>\n",
       "      <th>2</th>\n",
       "      <td>0.0</td>\n",
       "      <td>0.314141</td>\n",
       "      <td>1.0</td>\n",
       "      <td>1.0</td>\n",
       "    </tr>\n",
       "    <tr>\n",
       "      <th>3</th>\n",
       "      <td>0.0</td>\n",
       "      <td>0.321212</td>\n",
       "      <td>1.0</td>\n",
       "      <td>1.0</td>\n",
       "    </tr>\n",
       "    <tr>\n",
       "      <th>4</th>\n",
       "      <td>0.0</td>\n",
       "      <td>0.328283</td>\n",
       "      <td>1.0</td>\n",
       "      <td>1.0</td>\n",
       "    </tr>\n",
       "    <tr>\n",
       "      <th>...</th>\n",
       "      <td>...</td>\n",
       "      <td>...</td>\n",
       "      <td>...</td>\n",
       "      <td>...</td>\n",
       "    </tr>\n",
       "    <tr>\n",
       "      <th>8538</th>\n",
       "      <td>0.0</td>\n",
       "      <td>0.766667</td>\n",
       "      <td>0.8</td>\n",
       "      <td>1.0</td>\n",
       "    </tr>\n",
       "    <tr>\n",
       "      <th>8539</th>\n",
       "      <td>0.0</td>\n",
       "      <td>0.773737</td>\n",
       "      <td>0.8</td>\n",
       "      <td>1.0</td>\n",
       "    </tr>\n",
       "    <tr>\n",
       "      <th>8540</th>\n",
       "      <td>0.0</td>\n",
       "      <td>0.780808</td>\n",
       "      <td>0.8</td>\n",
       "      <td>1.0</td>\n",
       "    </tr>\n",
       "    <tr>\n",
       "      <th>8541</th>\n",
       "      <td>0.0</td>\n",
       "      <td>0.787879</td>\n",
       "      <td>0.8</td>\n",
       "      <td>1.0</td>\n",
       "    </tr>\n",
       "    <tr>\n",
       "      <th>8542</th>\n",
       "      <td>0.0</td>\n",
       "      <td>0.794949</td>\n",
       "      <td>0.8</td>\n",
       "      <td>1.0</td>\n",
       "    </tr>\n",
       "  </tbody>\n",
       "</table>\n",
       "<p>8543 rows × 4 columns</p>\n",
       "</div>"
      ],
      "text/plain": [
       "      empty         b    c    a\n",
       "0       0.0  0.300000  1.0  1.0\n",
       "1       0.0  0.307071  1.0  1.0\n",
       "2       0.0  0.314141  1.0  1.0\n",
       "3       0.0  0.321212  1.0  1.0\n",
       "4       0.0  0.328283  1.0  1.0\n",
       "...     ...       ...  ...  ...\n",
       "8538    0.0  0.766667  0.8  1.0\n",
       "8539    0.0  0.773737  0.8  1.0\n",
       "8540    0.0  0.780808  0.8  1.0\n",
       "8541    0.0  0.787879  0.8  1.0\n",
       "8542    0.0  0.794949  0.8  1.0\n",
       "\n",
       "[8543 rows x 4 columns]"
      ]
     },
     "execution_count": 55,
     "metadata": {},
     "output_type": "execute_result"
    }
   ],
   "source": [
    "order = pd.DataFrame(columns=[\"order\"], index=[\"a\",\"b\",\"c\"], data=[3,1,2])\n",
    "order.sort_values([\"order\"])\n",
    "q = p.copy()\n",
    "q[\"empty\"]=0\n",
    "q = q[[\"empty\"] + order.sort_values([\"order\"]).index.to_list()].cumsum(axis=1)\n"
   ]
  },
  {
   "cell_type": "code",
   "execution_count": 68,
   "metadata": {},
   "outputs": [
    {
     "data": {
      "text/plain": [
       "0.3"
      ]
     },
     "execution_count": 68,
     "metadata": {},
     "output_type": "execute_result"
    }
   ],
   "source": [
    "q[[\"b\", \"empty\"]].sum(axis=1).min()"
   ]
  },
  {
   "cell_type": "code",
   "execution_count": null,
   "metadata": {},
   "outputs": [],
   "source": []
  }
 ],
 "metadata": {
  "kernelspec": {
   "display_name": "venv_copula",
   "language": "python",
   "name": "venv_copula"
  },
  "language_info": {
   "codemirror_mode": {
    "name": "ipython",
    "version": 3
   },
   "file_extension": ".py",
   "mimetype": "text/x-python",
   "name": "python",
   "nbconvert_exporter": "python",
   "pygments_lexer": "ipython3",
   "version": "3.8.4"
  }
 },
 "nbformat": 4,
 "nbformat_minor": 4
}
