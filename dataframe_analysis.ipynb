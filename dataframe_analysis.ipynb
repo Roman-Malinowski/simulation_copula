{
 "cells": [
  {
   "cell_type": "code",
   "execution_count": 1,
   "metadata": {},
   "outputs": [],
   "source": [
    "%config Completer.use_jedi = False"
   ]
  },
  {
   "cell_type": "code",
   "execution_count": 2,
   "metadata": {},
   "outputs": [],
   "source": [
    "import pandas as pd\n",
    "import matplotlib.pyplot as plt\n",
    "import matplotlib as mpl\n",
    "import numpy as np\n",
    "import os.path"
   ]
  },
  {
   "cell_type": "code",
   "execution_count": 3,
   "metadata": {},
   "outputs": [],
   "source": [
    "# out_path = \"/work/scratch/malinoro/simulation_copula/out/\"\n",
    "out_path = \"/Users/roman/Code/simulation_copula/out\""
   ]
  },
  {
   "cell_type": "markdown",
   "metadata": {},
   "source": [
    "## Multiple figures"
   ]
  },
  {
   "cell_type": "code",
   "execution_count": 4,
   "metadata": {},
   "outputs": [],
   "source": [
    "def plot_possibilities(a, b):\n",
    "\n",
    "    fig, axes = plt.subplots(1, 2, figsize=(15,5))\n",
    "\n",
    "    axes[0].scatter(range(len(a)), a.values(), marker='+', s=10*mpl.rcParams['lines.markersize'] ** 2, c=\"blue\")\n",
    "    axes[0].set_title(\"X poss\")\n",
    "    \n",
    "    axes[0].set_xticks(ticks=range(len(a)))\n",
    "    axes[0].set_xticklabels(labels=list(a.keys()))\n",
    "    axes[0].set_yticks(ticks=list(a.values()))\n",
    "    axes[0].set_yticklabels(labels=list(a.values()))\n",
    "    \n",
    "    \n",
    "    axes[1].scatter(range(len(b)), b.values(), marker='+', s=10*mpl.rcParams['lines.markersize'] ** 2, c=\"orange\")\n",
    "    axes[1].set_title(\"Y poss\")\n",
    "    \n",
    "    axes[1].set_xticks(ticks=range(len(b)))\n",
    "    axes[1].set_xticklabels(labels=list(b.keys()))\n",
    "    axes[1].set_yticks(ticks=list(b.values()))\n",
    "    axes[1].set_yticklabels(labels=list(b.values()))\n",
    "    \n",
    "    if order_a is not None or order_b is not None:\n",
    "        for k in order_a.keys():\n",
    "            for i in [int(i) for i in \"\".join(k.split(\",\")).split(\"x\") if i!=\"\"]:\n",
    "                axes[2].plot([i-0.5,i+0.5], order_a[k], c=\"blue\")\n",
    "        axes[2].set_title(\"X Order\")\n",
    "        \n",
    "        for k in order_b.keys():\n",
    "            for i in [int(i) for i in \"\".join(k.split(\",\")).split(\"x\") if i!=\"\"]:\n",
    "                axes[3].plot([i-0.5,i+0.5], order_b[k], c=\"orange\")\n",
    "        axes[3].set_title(\"Y Order\")\n",
    "    \n",
    "    fig.show()\n",
    "    \n",
    "    \n",
    "def plot_possibilities(a, b, order_a, order_b):\n",
    "    \n",
    "    fig, axes = plt.subplots(2, 2, figsize=(15,10))\n",
    "\n",
    "    axes[0,0].scatter(range(len(a)), a.values(), marker='+', s=10*mpl.rcParams['lines.markersize'] ** 2, c=\"blue\")\n",
    "    axes[0,0].set_title(\"X poss\")\n",
    "    \n",
    "    axes[0,0].set_xticks(ticks=range(len(a)))\n",
    "    axes[0,0].set_xticklabels(labels=list(a.keys()))\n",
    "    axes[0,0].set_yticks(ticks=list(a.values()))\n",
    "    axes[0,0].set_yticklabels(labels=list(a.values()))\n",
    "    \n",
    "    \n",
    "    axes[0,1].scatter(range(len(b)), b.values(), marker='+', s=10*mpl.rcParams['lines.markersize'] ** 2, c=\"orange\")\n",
    "    axes[0,1].set_title(\"Y poss\")\n",
    "    \n",
    "    axes[0,1].set_xticks(ticks=range(len(b)))\n",
    "    axes[0,1].set_xticklabels(labels=list(b.keys()))\n",
    "    axes[0,1].set_yticks(ticks=list(b.values()))\n",
    "    axes[0,1].set_yticklabels(labels=list(b.values()))\n",
    "    \n",
    "    for k in order_a.keys():\n",
    "        for i in [int(i) for i in \"\".join(k.split(\",\")).split(\"x\") if i!=\"\"]:\n",
    "            axes[1,0].plot([i-0.5,i+0.5], [order_a[k]]*2, c=\"blue\")\n",
    "    axes[1,0].set_title(\"X Order\")\n",
    "    axes[1,0].set_xticks(ticks=range(1, len(a)+1))\n",
    "    axes[1,0].set_xticklabels(labels=list(a.keys()))\n",
    "    axes[1,0].set_yticks(ticks=list(order_a.values()))\n",
    "    axes[1,0].set_yticklabels(labels=list(order_a.values()))\n",
    "\n",
    "    for k in order_b.keys():\n",
    "        for i in [int(i) for i in \"\".join(k.split(\",\")).split(\"y\") if i!=\"\"]:\n",
    "            axes[1,1].plot([i-0.5,i+0.5], [order_b[k]]*2, c=\"orange\")\n",
    "    axes[1,1].set_title(\"Y Order\")\n",
    "    axes[1,1].set_xticks(ticks=range(1, len(b)+1))\n",
    "    axes[1,1].set_xticklabels(labels=list(b.keys()))\n",
    "    axes[1,1].set_yticks(ticks=list(order_b.values()))\n",
    "    axes[1,1].set_yticklabels(labels=list(order_b.values()))\n",
    "    \n",
    "    fig.show()\n",
    "    \n",
    "def generator_lines(df):\n",
    "    atoms = [k[1] for k in df.columns if k[0]==\"poss\"]\n",
    "    keys_x = [k for k in atoms if \"x\" in k]\n",
    "    keys_y = [k for k in atoms if \"y\" in k]\n",
    "    \n",
    "    for k in df.index:\n",
    "        poss_x = {i: df.loc[k, (\"poss\", i)] for i in keys_x}\n",
    "        poss_y = {i: df.loc[k, (\"poss\", i)] for i in keys_y}\n",
    "        \n",
    "        order_x = df.loc[k, (\"focal_sets\", \"X\")].split(\"<\")\n",
    "        order_x = {order_x[i]: i + 1 for i in range(len(order_x))}\n",
    "        \n",
    "        order_y = df.loc[k, (\"focal_sets\", \"Y\")].split(\"<\") \n",
    "        order_y = {order_y[i]: i + 1 for i in range(len(order_y))}\n",
    "        yield [poss_x, poss_y, order_x, order_y] "
   ]
  },
  {
   "cell_type": "code",
   "execution_count": 6,
   "metadata": {},
   "outputs": [],
   "source": [
    "df = pd.read_csv(os.path.join(out_path, \"backup\", \"random_orders_N3.csv\"), header=[0,1], index_col=[0,1])"
   ]
  },
  {
   "cell_type": "code",
   "execution_count": 20,
   "metadata": {},
   "outputs": [
    {
     "name": "stdout",
     "output_type": "stream",
     "text": [
      "[{'x1': 0.14, 'x2': 0.95, 'x3': 0.31, 'x4': 1.0}, {'y1': 1.0, 'y2': 0.81, 'y3': 0.09, 'y4': 0.6}, {'x1,x2,x3,x4': 1, 'x2,x3,x4': 2, 'x2,x4': 3, 'x4': 4}, {'y1': 1, 'y1,y2': 2, 'y1,y2,y3,y4': 3, 'y1,y2,y4': 4}]\n"
     ]
    },
    {
     "name": "stderr",
     "output_type": "stream",
     "text": [
      "/var/folders/kn/x94nsr4955n7vthghm5m3mfw0000gn/T/ipykernel_53139/3157920535.py:75: UserWarning: Matplotlib is currently using module://matplotlib_inline.backend_inline, which is a non-GUI backend, so cannot show the figure.\n",
      "  fig.show()\n"
     ]
    },
    {
     "data": {
      "image/png": "[encoded data removed]",
      "text/plain": [
       "<Figure size 1080x720 with 4 Axes>"
      ]
     },
     "metadata": {
      "needs_background": "light"
     },
     "output_type": "display_data"
    }
   ],
   "source": [
    "gen = generator_lines(df)\n",
    "\n",
    "for _ in range(len(df)):\n",
    "    g = next(gen)\n",
    "    print(g)\n",
    "    plot_possibilities(g[0], g[1], g[2], g[3])\n",
    "    break\n",
    "    "
   ]
  },
  {
   "cell_type": "markdown",
   "metadata": {},
   "source": [
    "# Analyse if df have the same possibilities "
   ]
  },
  {
   "cell_type": "code",
   "execution_count": 165,
   "metadata": {},
   "outputs": [],
   "source": [
    "df_1 = pd.read_csv(os.path.join(out_path, \"random_orders_N4_min.csv\"), header=[0,1], index_col=[0,1])\n",
    "df_2 = pd.read_csv(os.path.join(out_path, \"random_orders_N4.csv\"), header=[0,1], index_col=[0,1])"
   ]
  },
  {
   "cell_type": "code",
   "execution_count": 160,
   "metadata": {},
   "outputs": [],
   "source": [
    "# Sorting the dataframe in order to create an lexical order. This improve performants when locating data  later on\n",
    "\n",
    "df_1 = df_1.sort_values(by=[\"Object\", \"Space\"], axis=1) \n",
    "df_2 = df_2.sort_values(by=[\"Object\", \"Space\"], axis=1) "
   ]
  },
  {
   "cell_type": "code",
   "execution_count": 17,
   "metadata": {},
   "outputs": [],
   "source": [
    "unique_poss_1 = df_1.xs(key=0, level=\"order\", axis=0, drop_level=False).drop(axis=1, columns=[\"focal_sets\"])\n",
    "unique_poss_2 = df_2.xs(key=0, level=\"order\", axis=0, drop_level=False).drop(axis=1, columns=[\"focal_sets\"])"
   ]
  },
  {
   "cell_type": "code",
   "execution_count": 18,
   "metadata": {
    "scrolled": false
   },
   "outputs": [
    {
     "data": {
      "text/plain": [
       "True"
      ]
     },
     "execution_count": 18,
     "metadata": {},
     "output_type": "execute_result"
    }
   ],
   "source": [
    "(unique_poss_1.loc[unique_poss_2.index,:] == unique_poss_2).all().all()"
   ]
  },
  {
   "cell_type": "markdown",
   "metadata": {},
   "source": [
    "# Checking orders"
   ]
  },
  {
   "cell_type": "code",
   "execution_count": 161,
   "metadata": {},
   "outputs": [],
   "source": [
    "def keep_max_n_orders(df, n=1):\n",
    "    cross_selection = df.xs(key=n, level=\"order\", axis=0)\n",
    "    index = df.index.sort_values()\n",
    "    return index.drop(cross_selection.index, errors='ignore')\n",
    "\n",
    "def get_max_orders(df):\n",
    "    poss = df.index.get_level_values(level=\"poss\").drop_duplicates()\n",
    "    max_index = [max(df.xs(key=k, level=\"poss\", axis=0).index) for k in poss]\n",
    "    return pd.MultiIndex.from_arrays([poss, max_index])"
   ]
  },
  {
   "cell_type": "code",
   "execution_count": 169,
   "metadata": {},
   "outputs": [
    {
     "name": "stdout",
     "output_type": "stream",
     "text": [
      "[0, 1, 5, 42]\n"
     ]
    }
   ],
   "source": [
    "m1, m2 = get_max_orders(df_1) ,get_max_orders(df_2)\n",
    "row = []\n",
    "score = np.inf\n",
    "for i, j in zip(m1, m2):\n",
    "    if i[1]**2+j[1]**2<=score:\n",
    "        score = i[1]**2+j[1]**2\n",
    "        row += [i[0]]\n",
    "print(row)"
   ]
  },
  {
   "cell_type": "code",
   "execution_count": 170,
   "metadata": {},
   "outputs": [
    {
     "data": {
      "text/plain": [
       "((42, 3), (42, 1))"
      ]
     },
     "execution_count": 170,
     "metadata": {},
     "output_type": "execute_result"
    }
   ],
   "source": [
    "m1[42], m2[42]"
   ]
  },
  {
   "cell_type": "code",
   "execution_count": 171,
   "metadata": {},
   "outputs": [
    {
     "data": {
      "text/html": [
       "<div>\n",
       "<style scoped>\n",
       "    .dataframe tbody tr th:only-of-type {\n",
       "        vertical-align: middle;\n",
       "    }\n",
       "\n",
       "    .dataframe tbody tr th {\n",
       "        vertical-align: top;\n",
       "    }\n",
       "\n",
       "    .dataframe thead tr th {\n",
       "        text-align: left;\n",
       "    }\n",
       "\n",
       "    .dataframe thead tr:last-of-type th {\n",
       "        text-align: right;\n",
       "    }\n",
       "</style>\n",
       "<table border=\"1\" class=\"dataframe\">\n",
       "  <thead>\n",
       "    <tr>\n",
       "      <th>Object</th>\n",
       "      <th colspan=\"8\" halign=\"left\">poss</th>\n",
       "      <th colspan=\"2\" halign=\"left\">focal_sets</th>\n",
       "    </tr>\n",
       "    <tr>\n",
       "      <th>Space</th>\n",
       "      <th>x1</th>\n",
       "      <th>x2</th>\n",
       "      <th>x3</th>\n",
       "      <th>x4</th>\n",
       "      <th>y1</th>\n",
       "      <th>y2</th>\n",
       "      <th>y3</th>\n",
       "      <th>y4</th>\n",
       "      <th>X</th>\n",
       "      <th>Y</th>\n",
       "    </tr>\n",
       "    <tr>\n",
       "      <th>order</th>\n",
       "      <th></th>\n",
       "      <th></th>\n",
       "      <th></th>\n",
       "      <th></th>\n",
       "      <th></th>\n",
       "      <th></th>\n",
       "      <th></th>\n",
       "      <th></th>\n",
       "      <th></th>\n",
       "      <th></th>\n",
       "    </tr>\n",
       "  </thead>\n",
       "  <tbody>\n",
       "    <tr>\n",
       "      <th>0</th>\n",
       "      <td>0.14</td>\n",
       "      <td>0.95</td>\n",
       "      <td>0.31</td>\n",
       "      <td>1.0</td>\n",
       "      <td>0.71</td>\n",
       "      <td>1.0</td>\n",
       "      <td>0.24</td>\n",
       "      <td>1.0</td>\n",
       "      <td>x1,x2,x3,x4&lt;x2,x3,x4&lt;x2,x4&lt;x4</td>\n",
       "      <td>y1,y2,y3,y4&lt;y1,y2,y4&lt;y2,y4</td>\n",
       "    </tr>\n",
       "    <tr>\n",
       "      <th>1</th>\n",
       "      <td>0.14</td>\n",
       "      <td>0.95</td>\n",
       "      <td>0.31</td>\n",
       "      <td>1.0</td>\n",
       "      <td>0.71</td>\n",
       "      <td>1.0</td>\n",
       "      <td>0.24</td>\n",
       "      <td>1.0</td>\n",
       "      <td>x4&lt;x2,x4&lt;x2,x3,x4&lt;x1,x2,x3,x4</td>\n",
       "      <td>y2,y4&lt;y1,y2,y4&lt;y1,y2,y3,y4</td>\n",
       "    </tr>\n",
       "  </tbody>\n",
       "</table>\n",
       "</div>"
      ],
      "text/plain": [
       "Object  poss                                         \\\n",
       "Space     x1    x2    x3   x4    y1   y2    y3   y4   \n",
       "order                                                 \n",
       "0       0.14  0.95  0.31  1.0  0.71  1.0  0.24  1.0   \n",
       "1       0.14  0.95  0.31  1.0  0.71  1.0  0.24  1.0   \n",
       "\n",
       "Object                     focal_sets                              \n",
       "Space                               X                           Y  \n",
       "order                                                              \n",
       "0       x1,x2,x3,x4<x2,x3,x4<x2,x4<x4  y1,y2,y3,y4<y1,y2,y4<y2,y4  \n",
       "1       x4<x2,x4<x2,x3,x4<x1,x2,x3,x4  y2,y4<y1,y2,y4<y1,y2,y3,y4  "
      ]
     },
     "execution_count": 171,
     "metadata": {},
     "output_type": "execute_result"
    }
   ],
   "source": [
    "df_2.loc[(42,),:]"
   ]
  },
  {
   "cell_type": "code",
   "execution_count": 166,
   "metadata": {},
   "outputs": [
    {
     "data": {
      "text/html": [
       "<div>\n",
       "<style scoped>\n",
       "    .dataframe tbody tr th:only-of-type {\n",
       "        vertical-align: middle;\n",
       "    }\n",
       "\n",
       "    .dataframe tbody tr th {\n",
       "        vertical-align: top;\n",
       "    }\n",
       "\n",
       "    .dataframe thead tr th {\n",
       "        text-align: left;\n",
       "    }\n",
       "\n",
       "    .dataframe thead tr:last-of-type th {\n",
       "        text-align: right;\n",
       "    }\n",
       "</style>\n",
       "<table border=\"1\" class=\"dataframe\">\n",
       "  <thead>\n",
       "    <tr>\n",
       "      <th>Object</th>\n",
       "      <th colspan=\"8\" halign=\"left\">poss</th>\n",
       "      <th colspan=\"2\" halign=\"left\">focal_sets</th>\n",
       "    </tr>\n",
       "    <tr>\n",
       "      <th>Space</th>\n",
       "      <th>x1</th>\n",
       "      <th>x2</th>\n",
       "      <th>x3</th>\n",
       "      <th>x4</th>\n",
       "      <th>y1</th>\n",
       "      <th>y2</th>\n",
       "      <th>y3</th>\n",
       "      <th>y4</th>\n",
       "      <th>X</th>\n",
       "      <th>Y</th>\n",
       "    </tr>\n",
       "    <tr>\n",
       "      <th>order</th>\n",
       "      <th></th>\n",
       "      <th></th>\n",
       "      <th></th>\n",
       "      <th></th>\n",
       "      <th></th>\n",
       "      <th></th>\n",
       "      <th></th>\n",
       "      <th></th>\n",
       "      <th></th>\n",
       "      <th></th>\n",
       "    </tr>\n",
       "  </thead>\n",
       "  <tbody>\n",
       "    <tr>\n",
       "      <th>0</th>\n",
       "      <td>0.14</td>\n",
       "      <td>0.95</td>\n",
       "      <td>0.31</td>\n",
       "      <td>1.0</td>\n",
       "      <td>1.0</td>\n",
       "      <td>0.92</td>\n",
       "      <td>0.47</td>\n",
       "      <td>1.0</td>\n",
       "      <td>x1,x2,x3,x4&lt;x2,x3,x4&lt;x2,x4&lt;x4</td>\n",
       "      <td>y1,y4&lt;y1,y2,y4&lt;y1,y2,y3,y4</td>\n",
       "    </tr>\n",
       "    <tr>\n",
       "      <th>1</th>\n",
       "      <td>0.14</td>\n",
       "      <td>0.95</td>\n",
       "      <td>0.31</td>\n",
       "      <td>1.0</td>\n",
       "      <td>1.0</td>\n",
       "      <td>0.92</td>\n",
       "      <td>0.47</td>\n",
       "      <td>1.0</td>\n",
       "      <td>x2,x3,x4&lt;x1,x2,x3,x4&lt;x2,x4&lt;x4</td>\n",
       "      <td>y1,y4&lt;y1,y2,y4&lt;y1,y2,y3,y4</td>\n",
       "    </tr>\n",
       "    <tr>\n",
       "      <th>2</th>\n",
       "      <td>0.14</td>\n",
       "      <td>0.95</td>\n",
       "      <td>0.31</td>\n",
       "      <td>1.0</td>\n",
       "      <td>1.0</td>\n",
       "      <td>0.92</td>\n",
       "      <td>0.47</td>\n",
       "      <td>1.0</td>\n",
       "      <td>x4&lt;x2,x4&lt;x1,x2,x3,x4&lt;x2,x3,x4</td>\n",
       "      <td>y1,y2,y3,y4&lt;y1,y2,y4&lt;y1,y4</td>\n",
       "    </tr>\n",
       "    <tr>\n",
       "      <th>3</th>\n",
       "      <td>0.14</td>\n",
       "      <td>0.95</td>\n",
       "      <td>0.31</td>\n",
       "      <td>1.0</td>\n",
       "      <td>1.0</td>\n",
       "      <td>0.92</td>\n",
       "      <td>0.47</td>\n",
       "      <td>1.0</td>\n",
       "      <td>x4&lt;x2,x4&lt;x2,x3,x4&lt;x1,x2,x3,x4</td>\n",
       "      <td>y1,y2,y3,y4&lt;y1,y2,y4&lt;y1,y4</td>\n",
       "    </tr>\n",
       "  </tbody>\n",
       "</table>\n",
       "</div>"
      ],
      "text/plain": [
       "Object  poss                                         \\\n",
       "Space     x1    x2    x3   x4   y1    y2    y3   y4   \n",
       "order                                                 \n",
       "0       0.14  0.95  0.31  1.0  1.0  0.92  0.47  1.0   \n",
       "1       0.14  0.95  0.31  1.0  1.0  0.92  0.47  1.0   \n",
       "2       0.14  0.95  0.31  1.0  1.0  0.92  0.47  1.0   \n",
       "3       0.14  0.95  0.31  1.0  1.0  0.92  0.47  1.0   \n",
       "\n",
       "Object                     focal_sets                              \n",
       "Space                               X                           Y  \n",
       "order                                                              \n",
       "0       x1,x2,x3,x4<x2,x3,x4<x2,x4<x4  y1,y4<y1,y2,y4<y1,y2,y3,y4  \n",
       "1       x2,x3,x4<x1,x2,x3,x4<x2,x4<x4  y1,y4<y1,y2,y4<y1,y2,y3,y4  \n",
       "2       x4<x2,x4<x1,x2,x3,x4<x2,x3,x4  y1,y2,y3,y4<y1,y2,y4<y1,y4  \n",
       "3       x4<x2,x4<x2,x3,x4<x1,x2,x3,x4  y1,y2,y3,y4<y1,y2,y4<y1,y4  "
      ]
     },
     "execution_count": 166,
     "metadata": {},
     "output_type": "execute_result"
    }
   ],
   "source": [
    "df_1.loc[(5,),:]"
   ]
  },
  {
   "cell_type": "code",
   "execution_count": null,
   "metadata": {},
   "outputs": [],
   "source": []
  }
 ],
 "metadata": {
  "kernelspec": {
   "display_name": "venv_jupyter_pandora",
   "language": "python",
   "name": "venv_jupyter_pandora"
  },
  "language_info": {
   "codemirror_mode": {
    "name": "ipython",
    "version": 3
   },
   "file_extension": ".py",
   "mimetype": "text/x-python",
   "name": "python",
   "nbconvert_exporter": "python",
   "pygments_lexer": "ipython3",
   "version": "3.8.9"
  }
 },
 "nbformat": 4,
 "nbformat_minor": 4
}
