{
 "cells": [
  {
   "cell_type": "code",
   "execution_count": 1,
   "metadata": {},
   "outputs": [],
   "source": [
    "%config Completer.use_jedi = False"
   ]
  },
  {
   "cell_type": "code",
   "execution_count": 2,
   "metadata": {},
   "outputs": [],
   "source": [
    "import pandas as pd\n",
    "import matplotlib.pyplot as plt\n",
    "import matplotlib as mpl\n",
    "import numpy as np\n",
    "import os.path"
   ]
  },
  {
   "cell_type": "code",
   "execution_count": 3,
   "metadata": {},
   "outputs": [],
   "source": [
    "out_path = \"/work/scratch/malinoro/simulation_copula/out/\""
   ]
  },
  {
   "cell_type": "markdown",
   "metadata": {},
   "source": [
    "## Multiple figures"
   ]
  },
  {
   "cell_type": "code",
   "execution_count": 37,
   "metadata": {},
   "outputs": [],
   "source": [
    "def plot_possibilities(a, b):\n",
    "\n",
    "    fig, axes = plt.subplots(1, 2, figsize=(15,5))\n",
    "\n",
    "    axes[0].scatter(range(len(a)), a.values(), marker='+', s=10*mpl.rcParams['lines.markersize'] ** 2, c=\"blue\")\n",
    "    axes[0].set_title(\"X poss\")\n",
    "    \n",
    "    axes[0].set_xticks(ticks=range(len(a)))\n",
    "    axes[0].set_xticklabels(labels=list(a.keys()))\n",
    "    axes[0].set_yticks(ticks=list(a.values()))\n",
    "    axes[0].set_yticklabels(labels=list(a.values()))\n",
    "    \n",
    "    \n",
    "    axes[1].scatter(range(len(b)), b.values(), marker='+', s=10*mpl.rcParams['lines.markersize'] ** 2, c=\"orange\")\n",
    "    axes[1].set_title(\"Y poss\")\n",
    "    \n",
    "    axes[1].set_xticks(ticks=range(len(b)))\n",
    "    axes[1].set_xticklabels(labels=list(b.keys()))\n",
    "    axes[1].set_yticks(ticks=list(b.values()))\n",
    "    axes[1].set_yticklabels(labels=list(b.values()))\n",
    "    \n",
    "    if order_a is not None or order_b is not None:\n",
    "        for k in order_a.keys():\n",
    "            for i in [int(i) for i in \"\".join(k.split(\",\")).split(\"x\") if i!=\"\"]:\n",
    "                axes[2].plot([i-0.5,i+0.5], order_a[k], c=\"blue\")\n",
    "        axes[2].set_title(\"X Order\")\n",
    "        \n",
    "        for k in order_b.keys():\n",
    "            for i in [int(i) for i in \"\".join(k.split(\",\")).split(\"x\") if i!=\"\"]:\n",
    "                axes[3].plot([i-0.5,i+0.5], order_b[k], c=\"orange\")\n",
    "        axes[3].set_title(\"Y Order\")\n",
    "    \n",
    "    fig.show()\n",
    "    \n",
    "    \n",
    "def plot_possibilities(a, b, order_a, order_b):\n",
    "    \n",
    "    fig, axes = plt.subplots(2, 2, figsize=(15,10))\n",
    "\n",
    "    axes[0,0].scatter(range(len(a)), a.values(), marker='+', s=10*mpl.rcParams['lines.markersize'] ** 2, c=\"blue\")\n",
    "    axes[0,0].set_title(\"X poss\")\n",
    "    \n",
    "    axes[0,0].set_xticks(ticks=range(len(a)))\n",
    "    axes[0,0].set_xticklabels(labels=list(a.keys()))\n",
    "    axes[0,0].set_yticks(ticks=list(a.values()))\n",
    "    axes[0,0].set_yticklabels(labels=list(a.values()))\n",
    "    \n",
    "    \n",
    "    axes[0,1].scatter(range(len(b)), b.values(), marker='+', s=10*mpl.rcParams['lines.markersize'] ** 2, c=\"orange\")\n",
    "    axes[0,1].set_title(\"Y poss\")\n",
    "    \n",
    "    axes[0,1].set_xticks(ticks=range(len(b)))\n",
    "    axes[0,1].set_xticklabels(labels=list(b.keys()))\n",
    "    axes[0,1].set_yticks(ticks=list(b.values()))\n",
    "    axes[0,1].set_yticklabels(labels=list(b.values()))\n",
    "    \n",
    "    for k in order_a.keys():\n",
    "        for i in [int(i) for i in \"\".join(k.split(\",\")).split(\"x\") if i!=\"\"]:\n",
    "            axes[1,0].plot([i-0.5,i+0.5], [order_a[k]]*2, c=\"blue\")\n",
    "    axes[1,0].set_title(\"X Order\")\n",
    "    axes[1,0].set_xticks(ticks=range(1, len(a)+1))\n",
    "    axes[1,0].set_xticklabels(labels=list(a.keys()))\n",
    "    axes[1,0].set_yticks(ticks=list(order_a.values()))\n",
    "    axes[1,0].set_yticklabels(labels=list(order_a.values()))\n",
    "\n",
    "    for k in order_b.keys():\n",
    "        for i in [int(i) for i in \"\".join(k.split(\",\")).split(\"y\") if i!=\"\"]:\n",
    "            axes[1,1].plot([i-0.5,i+0.5], [order_b[k]]*2, c=\"orange\")\n",
    "    axes[1,1].set_title(\"Y Order\")\n",
    "    axes[1,1].set_xticks(ticks=range(1, len(b)+1))\n",
    "    axes[1,1].set_xticklabels(labels=list(b.keys()))\n",
    "    axes[1,1].set_yticks(ticks=list(order_b.values()))\n",
    "    axes[1,1].set_yticklabels(labels=list(order_b.values()))\n",
    "    \n",
    "    fig.show()\n",
    "    \n",
    "def generator_lines(df):\n",
    "    atoms = [k[1] for k in df.columns if k[0]==\"poss\"]\n",
    "    keys_x = [k for k in atoms if \"x\" in k]\n",
    "    keys_y = [k for k in atoms if \"y\" in k]\n",
    "    \n",
    "    for k in df.index:\n",
    "        poss_x = {i: df.loc[k, (\"poss\", i)] for i in keys_x}\n",
    "        poss_y = {i: df.loc[k, (\"poss\", i)] for i in keys_y}\n",
    "        \n",
    "        order_x = df.loc[k, (\"focal_sets\", \"X\")].split(\"<\")\n",
    "        order_x = {order_x[i]: i + 1 for i in range(len(order_x))}\n",
    "        \n",
    "        order_y = df.loc[k, (\"focal_sets\", \"Y\")].split(\"<\") \n",
    "        order_y = {order_y[i]: i + 1 for i in range(len(order_y))}\n",
    "        yield [poss_x, poss_y, order_x, order_y] "
   ]
  },
  {
   "cell_type": "code",
   "execution_count": 38,
   "metadata": {},
   "outputs": [],
   "source": [
    "df = pd.read_csv(os.path.join(out_path, \"backup\", \"backup_random_orders_N4.csv\"), header=[0,1], index_col=[0,1])"
   ]
  },
  {
   "cell_type": "code",
   "execution_count": 39,
   "metadata": {},
   "outputs": [
    {
     "name": "stdout",
     "output_type": "stream",
     "text": [
      "[{'x1': 0.14, 'x2': 0.95, 'x3': 0.31, 'x4': 1.0}, {'y1': 1.0, 'y2': 0.81, 'y3': 0.09, 'y4': 0.6}, {'x1,x2,x3,x4': 1, 'x2,x3,x4': 2, 'x2,x4': 3, 'x4': 4}, {'y1': 1, 'y1,y2': 2, 'y1,y2,y3,y4': 3, 'y1,y2,y4': 4}]\n"
     ]
    },
    {
     "data": {
      "image/png": "[encoded data removed]",
      "text/plain": [
       "<Figure size 1080x720 with 4 Axes>"
      ]
     },
     "metadata": {
      "needs_background": "light"
     },
     "output_type": "display_data"
    }
   ],
   "source": [
    "gen = generator_lines(df)\n",
    "\n",
    "for _ in range(len(df)):\n",
    "    g = next(gen)\n",
    "    print(g)\n",
    "    plot_possibilities(g[0], g[1], g[2], g[3])\n",
    "    break\n",
    "    "
   ]
  },
  {
   "cell_type": "code",
   "execution_count": null,
   "metadata": {},
   "outputs": [],
   "source": []
  }
 ],
 "metadata": {
  "kernelspec": {
   "display_name": "venv_copula",
   "language": "python",
   "name": "venv_copula"
  },
  "language_info": {
   "codemirror_mode": {
    "name": "ipython",
    "version": 3
   },
   "file_extension": ".py",
   "mimetype": "text/x-python",
   "name": "python",
   "nbconvert_exporter": "python",
   "pygments_lexer": "ipython3",
   "version": "3.8.4"
  }
 },
 "nbformat": 4,
 "nbformat_minor": 4
}
