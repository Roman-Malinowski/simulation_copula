{
 "cells": [
  {
   "cell_type": "code",
   "execution_count": 1,
   "metadata": {},
   "outputs": [],
   "source": [
    "%config Completer.use_jedi = False"
   ]
  },
  {
   "cell_type": "code",
   "execution_count": 2,
   "metadata": {},
   "outputs": [],
   "source": [
    "import pandas as pd\n",
    "import matplotlib.pyplot as plt\n",
    "import matplotlib as mpl\n",
    "import numpy as np\n",
    "import os.path"
   ]
  },
  {
   "cell_type": "code",
   "execution_count": 3,
   "metadata": {},
   "outputs": [],
   "source": [
    "out_path = \"/work/scratch/malinoro/simulation_copula/out\"\n",
    "# out_path = \"/Users/roman/Code/simulation_copula/out/backup\""
   ]
  },
  {
   "cell_type": "markdown",
   "metadata": {},
   "source": [
    "## Multiple figures"
   ]
  },
  {
   "cell_type": "code",
   "execution_count": 80,
   "metadata": {},
   "outputs": [],
   "source": [
    "def plot_possibilities(a, b):\n",
    "\n",
    "    fig, axes = plt.subplots(1, 2, figsize=(15,5))\n",
    "\n",
    "    axes[0].scatter(range(len(a)), a.values(), marker='+', s=10*mpl.rcParams['lines.markersize'] ** 2, c=\"blue\")\n",
    "    axes[0].set_title(\"X poss\")\n",
    "    \n",
    "    axes[0].set_xticks(ticks=range(len(a)))\n",
    "    axes[0].set_xticklabels(labels=list(a.keys()))\n",
    "    axes[0].set_yticks(ticks=list(a.values()))\n",
    "    axes[0].set_yticklabels(labels=list(a.values()))\n",
    "    \n",
    "    \n",
    "    axes[1].scatter(range(len(b)), b.values(), marker='+', s=10*mpl.rcParams['lines.markersize'] ** 2, c=\"orange\")\n",
    "    axes[1].set_title(\"Y poss\")\n",
    "    \n",
    "    axes[1].set_xticks(ticks=range(len(b)))\n",
    "    axes[1].set_xticklabels(labels=list(b.keys()))\n",
    "    axes[1].set_yticks(ticks=list(b.values()))\n",
    "    axes[1].set_yticklabels(labels=list(b.values()))\n",
    "    \n",
    "    if order_a is not None or order_b is not None:\n",
    "        for k in order_a.keys():\n",
    "            for i in [int(i) for i in \"\".join(k.split(\",\")).split(\"x\") if i!=\"\"]:\n",
    "                axes[2].plot([i - 0.5, i + 0.5], order_a[k], c=\"blue\")\n",
    "        axes[2].set_title(\"X Order\")\n",
    "        \n",
    "        for k in order_b.keys():\n",
    "            for i in [int(i) for i in \"\".join(k.split(\",\")).split(\"x\") if i!=\"\"]:\n",
    "                axes[3].plot([i - 0.5, i + 0.5], order_b[k], c=\"orange\")\n",
    "        axes[3].set_title(\"Y Order\")\n",
    "    \n",
    "    fig.show()\n",
    "    \n",
    "    \n",
    "def plot_possibilities(a, b, order_a, order_b):\n",
    "    \n",
    "    fig, axes = plt.subplots(2, 2, figsize=(15,10))\n",
    "\n",
    "    axes[0,0].scatter(range(len(a)), a.values(), marker='+', s=10*mpl.rcParams['lines.markersize'] ** 2, c=\"blue\")\n",
    "    axes[0,0].set_title(\"X poss\")\n",
    "    \n",
    "    axes[0,0].set_xticks(ticks=range(len(a)))\n",
    "    axes[0,0].set_xticklabels(labels=list(a.keys()))\n",
    "    axes[0,0].set_yticks(ticks=list(a.values()))\n",
    "    axes[0,0].set_yticklabels(labels=list(a.values()))\n",
    "    \n",
    "    \n",
    "    axes[0,1].scatter(range(len(b)), b.values(), marker='+', s=10*mpl.rcParams['lines.markersize'] ** 2, c=\"orange\")\n",
    "    axes[0,1].set_title(\"Y poss\")\n",
    "    \n",
    "    axes[0,1].set_xticks(ticks=range(len(b)))\n",
    "    axes[0,1].set_xticklabels(labels=list(b.keys()))\n",
    "    axes[0,1].set_yticks(ticks=list(b.values()))\n",
    "    axes[0,1].set_yticklabels(labels=list(b.values()))\n",
    "    \n",
    "    for k in order_a.keys():\n",
    "        for i in [int(i) for i in \"\".join(k.split(\",\")).split(\"x\") if i!=\"\"]:\n",
    "            axes[1,0].plot([i-0.5,i+0.5], [order_a[k]]*2, c=\"blue\")\n",
    "    axes[1,0].set_title(\"X Order\")\n",
    "    axes[1,0].set_xticks(ticks=range(1, len(a)+1))\n",
    "    axes[1,0].set_xticklabels(labels=list(a.keys()))\n",
    "    axes[1,0].set_yticks(ticks=list(order_a.values()))\n",
    "    axes[1,0].set_yticklabels(labels=list(order_a.values()))\n",
    "\n",
    "    for k in order_b.keys():\n",
    "        for i in [int(i) for i in \"\".join(k.split(\",\")).split(\"y\") if i!=\"\"]:\n",
    "            axes[1,1].plot([i-0.5,i+0.5], [order_b[k]]*2, c=\"orange\")\n",
    "    axes[1,1].set_title(\"Y Order\")\n",
    "    axes[1,1].set_xticks(ticks=range(1, len(b)+1))\n",
    "    axes[1,1].set_xticklabels(labels=list(b.keys()))\n",
    "    axes[1,1].set_yticks(ticks=list(order_b.values()))\n",
    "    axes[1,1].set_yticklabels(labels=list(order_b.values()))\n",
    "    \n",
    "    fig.show()\n",
    "\n",
    "    \n",
    "def plot_multiple_orders(df, row):\n",
    "    atoms = [k[1] for k in df.columns if k[0]==\"poss\"]\n",
    "    keys_x = [k for k in atoms if \"x\" in k]\n",
    "    keys_y = [k for k in atoms if \"y\" in k]\n",
    "    \n",
    "    # Reading the possibility distributions\n",
    "    poss_x = {i: df.loc[(row, 0), (\"poss\", i)] for i in keys_x}\n",
    "    poss_y = {i: df.loc[(row, 0), (\"poss\", i)] for i in keys_y}\n",
    "    \n",
    "    # Counting the number of orders to plot\n",
    "    n_orders = max(df.loc[(row,), :].index) + 1\n",
    "    \n",
    "    # Init figure + plotting possibility distribution\n",
    "    fig, axes = plt.subplots(n_orders + 1, 2, figsize=(15, 5 * (n_orders + 1)))\n",
    "    axes[0,0].scatter(range(len(poss_x)), poss_x.values(), marker='+', s=10*mpl.rcParams['lines.markersize'] ** 2, c=\"blue\")\n",
    "    axes[0,0].set_title(\"X poss\")\n",
    "    \n",
    "    axes[0,0].set_xticks(ticks=range(len(poss_x)))\n",
    "    axes[0,0].set_xticklabels(labels=list(poss_x.keys()))\n",
    "    axes[0,0].set_yticks(ticks=list(poss_x.values()))\n",
    "    axes[0,0].set_yticklabels(labels=list(poss_x.values()))\n",
    "    \n",
    "    \n",
    "    axes[0,1].scatter(range(len(poss_y)), poss_y.values(), marker='+', s=10*mpl.rcParams['lines.markersize'] ** 2, c=\"orange\")\n",
    "    axes[0,1].set_title(\"Y poss\")\n",
    "    \n",
    "    axes[0,1].set_xticks(ticks=range(len(poss_y)))\n",
    "    axes[0,1].set_xticklabels(labels=list(poss_y.keys()))\n",
    "    axes[0,1].set_yticks(ticks=list(poss_y.values()))\n",
    "    axes[0,1].set_yticklabels(labels=list(poss_y.values()))\n",
    "    \n",
    "    for i_ord in range(n_orders):\n",
    "        order_x = df.loc[(row, i_ord), (\"focal_sets\", \"X\")].split(\"<\")\n",
    "        order_x = {order_x[i]: i + 1 for i in range(len(order_x))}\n",
    "        \n",
    "        order_y = df.loc[(row, i_ord), (\"focal_sets\", \"Y\")].split(\"<\") \n",
    "        order_y = {order_y[i]: i + 1 for i in range(len(order_y))}\n",
    "        \n",
    "        for k in order_x.keys():\n",
    "            for i in [int(i) for i in \"\".join(k.split(\",\")).split(\"x\") if i!=\"\"]:\n",
    "                axes[i_ord + 1, 0].plot([i-0.5,i+0.5], [order_x[k]]*2, c=\"blue\")\n",
    "        axes[i_ord + 1, 0].set_title(\"X Order\")\n",
    "        axes[i_ord + 1, 0].set_xticks(ticks=range(1, len(poss_x)+1))\n",
    "        axes[i_ord + 1, 0].set_xticklabels(labels=list(poss_x.keys()))\n",
    "        axes[i_ord + 1, 0].set_yticks(ticks=list(order_x.values()))\n",
    "        axes[i_ord + 1, 0].set_yticklabels(labels=list(order_x.values()))\n",
    "\n",
    "        for k in order_y.keys():\n",
    "            for i in [int(i) for i in \"\".join(k.split(\",\")).split(\"y\") if i!=\"\"]:\n",
    "                axes[i_ord + 1, 1].plot([i-0.5,i+0.5], [order_y[k]]*2, c=\"orange\")\n",
    "        axes[i_ord + 1, 1].set_title(\"Y Order\")\n",
    "        axes[i_ord + 1, 1].set_xticks(ticks=range(1, len(poss_y)+1))\n",
    "        axes[i_ord + 1, 1].set_xticklabels(labels=list(poss_y.keys()))\n",
    "        axes[i_ord + 1, 1].set_yticks(ticks=list(order_y.values()))\n",
    "        axes[i_ord + 1, 1].set_yticklabels(labels=list(order_y.values()))\n",
    "    \n",
    "    fig.show()\n",
    "    \n",
    "\n",
    "def generator_lines(df, rows=None):\n",
    "    atoms = [k[1] for k in df.columns if k[0]==\"poss\"]\n",
    "    keys_x = [k for k in atoms if \"x\" in k]\n",
    "    keys_y = [k for k in atoms if \"y\" in k]\n",
    "    \n",
    "    if rows is None:\n",
    "        rows = df.index\n",
    "    \n",
    "    for k in rows:\n",
    "        poss_x = {i: df.loc[k, (\"poss\", i)] for i in keys_x}\n",
    "        poss_y = {i: df.loc[k, (\"poss\", i)] for i in keys_y}\n",
    "        \n",
    "        order_x = df.loc[k, (\"focal_sets\", \"X\")].split(\"<\")\n",
    "        order_x = {order_x[i]: i + 1 for i in range(len(order_x))}\n",
    "        \n",
    "        order_y = df.loc[k, (\"focal_sets\", \"Y\")].split(\"<\") \n",
    "        order_y = {order_y[i]: i + 1 for i in range(len(order_y))}\n",
    "        yield [poss_x, poss_y, order_x, order_y] "
   ]
  },
  {
   "cell_type": "code",
   "execution_count": 5,
   "metadata": {},
   "outputs": [],
   "source": [
    "df = pd.read_csv(os.path.join(out_path, \"random_orders_N3.csv\"), header=[0,1], index_col=[0,1])"
   ]
  },
  {
   "cell_type": "code",
   "execution_count": null,
   "metadata": {},
   "outputs": [],
   "source": [
    "gen = generator_lines(df)\n",
    "\n",
    "for _ in range(len(df)):\n",
    "    g = next(gen)\n",
    "    print(g)\n",
    "    plot_possibilities(g[0], g[1], g[2], g[3])\n",
    "    break\n",
    "    "
   ]
  },
  {
   "cell_type": "markdown",
   "metadata": {},
   "source": [
    "# Analyse if df have the same possibilities "
   ]
  },
  {
   "cell_type": "code",
   "execution_count": 111,
   "metadata": {},
   "outputs": [],
   "source": [
    "df_1 = pd.read_csv(os.path.join(out_path, \"random_orders_N4_min.csv\"), header=[0,1], index_col=[0,1])\n",
    "df_2 = pd.read_csv(os.path.join(out_path, \"random_orders_N4_luka.csv\"), header=[0,1], index_col=[0,1])\n",
    "\n",
    "# Sorting the dataframe in order to create an lexical order. This improve performants when locating data later on\n",
    "\n",
    "df_1 = df_1.sort_values(by=[\"Object\", \"Space\"], axis=1) \n",
    "df_2 = df_2.sort_values(by=[\"Object\", \"Space\"], axis=1) "
   ]
  },
  {
   "cell_type": "code",
   "execution_count": 112,
   "metadata": {},
   "outputs": [
    {
     "name": "stdout",
     "output_type": "stream",
     "text": [
      "df_2 is longer than df_1\n"
     ]
    }
   ],
   "source": [
    "unique_poss_1 = df_1.xs(key=0, level=\"order\", axis=0, drop_level=False).drop(axis=1, columns=[\"focal_sets\"])\n",
    "unique_poss_2 = df_2.xs(key=0, level=\"order\", axis=0, drop_level=False).drop(axis=1, columns=[\"focal_sets\"])\n",
    "\n",
    "max_1 = max(df_1.index.get_level_values(level=\"poss\"))\n",
    "max_2 = max(df_2.index.get_level_values(level=\"poss\"))\n",
    "\n",
    "# Checking if one is larger than the other (i.e. had more simulation time or easier computations)\n",
    "if max_1<max_2:\n",
    "    print(\"df_2 is longer than df_1\")\n",
    "    unique_poss_1, unique_poss_2 = unique_poss_2, unique_poss_1\n",
    "elif max_1>max_2:\n",
    "    print(\"df_1 is longer than df_2\")"
   ]
  },
  {
   "cell_type": "code",
   "execution_count": 113,
   "metadata": {},
   "outputs": [
    {
     "data": {
      "text/plain": [
       "True"
      ]
     },
     "execution_count": 113,
     "metadata": {},
     "output_type": "execute_result"
    }
   ],
   "source": [
    "(unique_poss_1.loc[unique_poss_2.index,:] == unique_poss_2).all().all()"
   ]
  },
  {
   "cell_type": "markdown",
   "metadata": {},
   "source": [
    "# Checking orders"
   ]
  },
  {
   "cell_type": "code",
   "execution_count": 114,
   "metadata": {},
   "outputs": [],
   "source": [
    "def keep_max_n_orders(df, n=1):\n",
    "    cross_selection = df.xs(key=n, level=\"order\", axis=0)\n",
    "    index = df.index.sort_values()\n",
    "    return index.drop(cross_selection.index, errors='ignore')\n",
    "\n",
    "def get_max_orders(df):\n",
    "    poss = df.index.get_level_values(level=\"poss\").drop_duplicates()\n",
    "    max_index = [max(df.xs(key=k, level=\"poss\", axis=0).index) for k in poss]\n",
    "    return pd.MultiIndex.from_arrays([poss, max_index])"
   ]
  },
  {
   "cell_type": "code",
   "execution_count": 143,
   "metadata": {},
   "outputs": [
    {
     "name": "stdout",
     "output_type": "stream",
     "text": [
      "[83]\n"
     ]
    }
   ],
   "source": [
    "m1, m2 = get_max_orders(df_1), get_max_orders(df_2)\n",
    "\n",
    "row = np.array([-1])\n",
    "score = np.array([np.inf])\n",
    "\n",
    "n_dim = len([i for i in df_1.columns.get_level_values(\"Space\") if \"x\" in i])\n",
    "\n",
    "for i, j in zip(m1, m2):\n",
    "    nx_focal_sets = len(df_1.loc[i, (\"focal_sets\", \"X\")].split(\"<\"))\n",
    "    ny_focal_sets = len(df_1.loc[i, (\"focal_sets\", \"Y\")].split(\"<\"))\n",
    "    \n",
    "    # We minimize the number of different working orders for both dataframes and adding a penality if there are too few focal sets\n",
    "    if i[1]**2 + j[1]**2 + (2*n_dim - nx_focal_sets - ny_focal_sets)**2 <= score[-1]:\n",
    "        score = np.hstack((score, np.array([i[1]**2+j[1]**2])))\n",
    "        row = np.hstack((row, np.array([i[0]])))\n",
    "mask = score == score.min()\n",
    "score = score[mask]\n",
    "row = row[mask]\n",
    "\n",
    "print(row)"
   ]
  },
  {
   "cell_type": "code",
   "execution_count": 142,
   "metadata": {},
   "outputs": [
    {
     "name": "stdout",
     "output_type": "stream",
     "text": [
      "Row:  83\n"
     ]
    },
    {
     "data": {
      "text/html": [
       "<div>\n",
       "<style scoped>\n",
       "    .dataframe tbody tr th:only-of-type {\n",
       "        vertical-align: middle;\n",
       "    }\n",
       "\n",
       "    .dataframe tbody tr th {\n",
       "        vertical-align: top;\n",
       "    }\n",
       "\n",
       "    .dataframe thead tr th {\n",
       "        text-align: left;\n",
       "    }\n",
       "\n",
       "    .dataframe thead tr:last-of-type th {\n",
       "        text-align: right;\n",
       "    }\n",
       "</style>\n",
       "<table border=\"1\" class=\"dataframe\">\n",
       "  <thead>\n",
       "    <tr>\n",
       "      <th>Object</th>\n",
       "      <th colspan=\"2\" halign=\"left\">focal_sets</th>\n",
       "      <th colspan=\"8\" halign=\"left\">poss</th>\n",
       "    </tr>\n",
       "    <tr>\n",
       "      <th>Space</th>\n",
       "      <th>X</th>\n",
       "      <th>Y</th>\n",
       "      <th>x1</th>\n",
       "      <th>x2</th>\n",
       "      <th>x3</th>\n",
       "      <th>x4</th>\n",
       "      <th>y1</th>\n",
       "      <th>y2</th>\n",
       "      <th>y3</th>\n",
       "      <th>y4</th>\n",
       "    </tr>\n",
       "    <tr>\n",
       "      <th>order</th>\n",
       "      <th></th>\n",
       "      <th></th>\n",
       "      <th></th>\n",
       "      <th></th>\n",
       "      <th></th>\n",
       "      <th></th>\n",
       "      <th></th>\n",
       "      <th></th>\n",
       "      <th></th>\n",
       "      <th></th>\n",
       "    </tr>\n",
       "  </thead>\n",
       "  <tbody>\n",
       "    <tr>\n",
       "      <th>0</th>\n",
       "      <td>x1,x2,x3,x4&lt;x1,x2,x4&lt;x2,x4&lt;x2</td>\n",
       "      <td>y1,y4&lt;y1,y2,y4&lt;y1,y2,y3,y4</td>\n",
       "      <td>0.43</td>\n",
       "      <td>1.0</td>\n",
       "      <td>0.12</td>\n",
       "      <td>0.97</td>\n",
       "      <td>1.0</td>\n",
       "      <td>0.84</td>\n",
       "      <td>0.52</td>\n",
       "      <td>1.0</td>\n",
       "    </tr>\n",
       "    <tr>\n",
       "      <th>1</th>\n",
       "      <td>x2&lt;x2,x4&lt;x1,x2,x4&lt;x1,x2,x3,x4</td>\n",
       "      <td>y1,y2,y3,y4&lt;y1,y2,y4&lt;y1,y4</td>\n",
       "      <td>0.43</td>\n",
       "      <td>1.0</td>\n",
       "      <td>0.12</td>\n",
       "      <td>0.97</td>\n",
       "      <td>1.0</td>\n",
       "      <td>0.84</td>\n",
       "      <td>0.52</td>\n",
       "      <td>1.0</td>\n",
       "    </tr>\n",
       "  </tbody>\n",
       "</table>\n",
       "</div>"
      ],
      "text/plain": [
       "Object                     focal_sets                              poss       \\\n",
       "Space                               X                           Y    x1   x2   \n",
       "order                                                                          \n",
       "0       x1,x2,x3,x4<x1,x2,x4<x2,x4<x2  y1,y4<y1,y2,y4<y1,y2,y3,y4  0.43  1.0   \n",
       "1       x2<x2,x4<x1,x2,x4<x1,x2,x3,x4  y1,y2,y3,y4<y1,y2,y4<y1,y4  0.43  1.0   \n",
       "\n",
       "Object                                    \n",
       "Space     x3    x4   y1    y2    y3   y4  \n",
       "order                                     \n",
       "0       0.12  0.97  1.0  0.84  0.52  1.0  \n",
       "1       0.12  0.97  1.0  0.84  0.52  1.0  "
      ]
     },
     "execution_count": 142,
     "metadata": {},
     "output_type": "execute_result"
    },
    {
     "data": {
      "image/png": "[encoded data removed]",
      "text/plain": [
       "<Figure size 1080x1080 with 6 Axes>"
      ]
     },
     "metadata": {
      "needs_background": "light"
     },
     "output_type": "display_data"
    }
   ],
   "source": [
    "k = row[0]\n",
    "\n",
    "print(\"Row: \", k)\n",
    "plot_multiple_orders(df_1, k)\n",
    "df_1.loc[(k,), :].head()"
   ]
  },
  {
   "cell_type": "markdown",
   "metadata": {},
   "source": [
    "# Checking if smallest -> biggest orders work"
   ]
  },
  {
   "cell_type": "code",
   "execution_count": 122,
   "metadata": {},
   "outputs": [],
   "source": [
    "# Function that check if the focal sets are ordered such with increasing size\n",
    "def is_size_ordered(string):\n",
    "    s = string.split(\"<\")\n",
    "    s = np.array([len(s_.split(\",\")) for s_ in s])\n",
    "    if (s == np.sort(s)).all():\n",
    "        return \"s->b\" # smallest to biggest\n",
    "    elif (s == np.flip(np.sort(s))).all():\n",
    "        return \"b->s\" # biggest to smallest\n",
    "    else:\n",
    "        return None"
   ]
  },
  {
   "cell_type": "markdown",
   "metadata": {},
   "source": [
    "### Lukaciewicz: s->b X b->s  and  b->s X s->b "
   ]
  },
  {
   "cell_type": "code",
   "execution_count": 123,
   "metadata": {},
   "outputs": [
    {
     "name": "stdout",
     "output_type": "stream",
     "text": [
      "Finished\n"
     ]
    }
   ],
   "source": [
    "for poss_ind in range(max(df_1.index.get_level_values(\"poss\"))):\n",
    "    max_order = max(df_1.loc[(poss_ind, ), :].index.get_level_values(\"order\"))\n",
    "    list_is_ordered = [[is_size_ordered(df_1.loc[(poss_ind, i), ('focal_sets', 'X')]), is_size_ordered(df_1.loc[(poss_ind, i), ('focal_sets', 'Y')])] for i in range(max_order + 1)]\n",
    "    flag = (['b->s', 's->b'] in list_is_ordered) & (['s->b', 'b->s'] in list_is_ordered)\n",
    "    if not flag:\n",
    "        print(\"Check row %s\"%poss_ind)\n",
    "        break\n",
    "print(\"Finished\")"
   ]
  },
  {
   "cell_type": "markdown",
   "metadata": {},
   "source": [
    "### Min: s->b X s->b  and  b->s X b->s "
   ]
  },
  {
   "cell_type": "code",
   "execution_count": 124,
   "metadata": {},
   "outputs": [
    {
     "name": "stdout",
     "output_type": "stream",
     "text": [
      "Finished\n"
     ]
    }
   ],
   "source": [
    "for poss_ind in range(max(df_2.index.get_level_values(\"poss\"))):\n",
    "    max_order = max(df_2.loc[(poss_ind, ), :].index.get_level_values(\"order\"))\n",
    "    list_is_ordered = [[is_size_ordered(df_2.loc[(poss_ind, i), ('focal_sets', 'X')]), is_size_ordered(df_2.loc[(poss_ind, i), ('focal_sets', 'Y')])] for i in range(max_order + 1)]\n",
    "    flag = (['b->s', 'b->s'] in list_is_ordered) & (['s->b', 's->b'] in list_is_ordered)\n",
    "    if not flag:\n",
    "        print(\"Check row %s\"%poss_ind)\n",
    "        break\n",
    "print(\"Finished\")"
   ]
  },
  {
   "cell_type": "markdown",
   "metadata": {},
   "source": [
    "# TEMP"
   ]
  },
  {
   "cell_type": "code",
   "execution_count": 140,
   "metadata": {},
   "outputs": [
    {
     "data": {
      "text/plain": [
       "MultiIndex([(  0,   9),\n",
       "            (  1,   7),\n",
       "            (  2,   7),\n",
       "            (  3, 271),\n",
       "            (  4,   7),\n",
       "            (  5,   3),\n",
       "            (  6,  35),\n",
       "            (  7,  95),\n",
       "            (  8,  55),\n",
       "            (  9,  11),\n",
       "            ...\n",
       "            (125,  11),\n",
       "            (126,  23),\n",
       "            (127,  11),\n",
       "            (128,   3),\n",
       "            (129,  11),\n",
       "            (130,   1),\n",
       "            (131,   1),\n",
       "            (132,   7),\n",
       "            (133,   1),\n",
       "            (134,  11)],\n",
       "           names=['poss', None], length=135)"
      ]
     },
     "execution_count": 140,
     "metadata": {},
     "output_type": "execute_result"
    }
   ],
   "source": [
    "m1"
   ]
  },
  {
   "cell_type": "code",
   "execution_count": null,
   "metadata": {},
   "outputs": [],
   "source": []
  }
 ],
 "metadata": {
  "kernelspec": {
   "display_name": "venv_copula",
   "language": "python",
   "name": "venv_copula"
  },
  "language_info": {
   "codemirror_mode": {
    "name": "ipython",
    "version": 3
   },
   "file_extension": ".py",
   "mimetype": "text/x-python",
   "name": "python",
   "nbconvert_exporter": "python",
   "pygments_lexer": "ipython3",
   "version": "3.8.4"
  }
 },
 "nbformat": 4,
 "nbformat_minor": 4
}
