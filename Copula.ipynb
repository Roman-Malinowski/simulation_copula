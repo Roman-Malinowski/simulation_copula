{
 "cells": [
  {
   "cell_type": "code",
   "execution_count": 1,
   "id": "fbab10e4-14c4-4fb5-9a0d-2a93ae5e89d6",
   "metadata": {},
   "outputs": [],
   "source": [
    "%config Completer.use_jedi = False"
   ]
  },
  {
   "cell_type": "code",
   "execution_count": 2,
   "id": "e8b9d61f",
   "metadata": {},
   "outputs": [],
   "source": [
    "import pandas as pd\n",
    "import numpy as np \n",
    "import os.path as op\n",
    "import itertools\n",
    "\n",
    "from necessity_functions import NecessityUnivariate, NecessityBivariate\n",
    "from robust_set_sampling import RobustCredalSetUnivariate, RobustCredalSetBivariate\n",
    "from random_ordering_focal_set_importance import random_generator_poss\n",
    "from copulas import min_copula, lukaciewicz_copula, frank_copula, ali_mikhail_haq_copula, clayton_copula, gumbel_copula"
   ]
  },
  {
   "cell_type": "markdown",
   "id": "170e46d9",
   "metadata": {},
   "source": [
    "### Test orders on a given couple of possibilities"
   ]
  },
  {
   "cell_type": "code",
   "execution_count": 3,
   "id": "045229aa",
   "metadata": {},
   "outputs": [],
   "source": [
    "x_space = [\"x1\", \"x2\", \"x3\"]\n",
    "y_space = [\"y1\", \"y2\", \"y3\"]\n",
    "\n",
    "poss_x = {'x1':0.2, \"x2\":1, \"x3\":0.7}\n",
    "poss_y = {'y1':0.2, \"y2\":1, 'y3': 0.7}\n",
    "\n",
    "order_x_precise = pd.DataFrame(columns=[\"order\"], index=x_space, data=range(1, len(x_space) + 1))\n",
    "order_y_precise = pd.DataFrame(columns=[\"order\"], index=y_space, data=range(1, len(y_space) + 1))"
   ]
  },
  {
   "cell_type": "code",
   "execution_count": 4,
   "id": "6b48e206-da38-4244-8266-ca1c4aa87d93",
   "metadata": {},
   "outputs": [],
   "source": [
    "theta = 2\n",
    "def copula(u, v):\n",
    "    return clayton_copula(u, v, theta)"
   ]
  },
  {
   "cell_type": "code",
   "execution_count": 5,
   "id": "16ebcfe6-1350-4c86-b0b5-c49144294653",
   "metadata": {},
   "outputs": [],
   "source": [
    " # Initializing the dataframe that stores results\n",
    "multi_col = pd.MultiIndex.from_tuples(list(\n",
    "    zip([\"poss\"] * (len(x_space) + len(y_space)) + [\"focal_sets\", \"focal_sets\"],\n",
    "        x_space + y_space + [\"X\", \"Y\"])), names=[\"Object\", \"Space\"])\n",
    "multi_index = pd.MultiIndex.from_product([pd.Index(name = \"poss\", data=[]), pd.Index(name=\"order\", data=[])])\n",
    "\n",
    "final_df = pd.DataFrame(columns=multi_col, index=multi_index)"
   ]
  },
  {
   "cell_type": "code",
   "execution_count": 6,
   "id": "4bd09137-dfae-40d4-a7b2-4b7a8b55e8f6",
   "metadata": {},
   "outputs": [],
   "source": [
    "# Finding focal sets\n",
    "nec_x_vanilla = NecessityUnivariate(poss_x)\n",
    "rob_x = RobustCredalSetUnivariate(nec_x_vanilla, samples_per_interval=10)\n",
    "\n",
    "nec_y_vanilla = NecessityUnivariate(poss_y)\n",
    "rob_y = RobustCredalSetUnivariate(nec_y_vanilla, samples_per_interval=10)\n",
    "\n",
    "rob_xy = RobustCredalSetBivariate(rob_x, rob_y, order_x_precise, order_y_precise, copula)"
   ]
  },
  {
   "cell_type": "code",
   "execution_count": null,
   "id": "b05a110b-1b49-4708-ab90-240d7a12fbe2",
   "metadata": {},
   "outputs": [],
   "source": [
    "print(\"Computing robust credal set...\")\n",
    "rob_xy.approximate_robust_credal_set()\n",
    "print(\"Done.\")"
   ]
  },
  {
   "cell_type": "code",
   "execution_count": 7,
   "id": "27d90895-178e-4c50-853e-3084da299bfb",
   "metadata": {},
   "outputs": [],
   "source": [
    "rob_xy.approximation.to_csv(\"/work/scratch/malinoro/simulation_copula/robust_xy_clayton_2.csv\")"
   ]
  },
  {
   "cell_type": "code",
   "execution_count": 20,
   "id": "c342729e-90ce-4abe-b33f-7f5c7bfc62dd",
   "metadata": {},
   "outputs": [
    {
     "name": "stdout",
     "output_type": "stream",
     "text": [
      "Starting permutations\n",
      "No order is working!\n"
     ]
    }
   ],
   "source": [
    "# Testing orders\n",
    "flag_order_work = False\n",
    "\n",
    "# Creating a complex dataframe: rows being events and columns being different orders on focal sets\n",
    "i1 = []\n",
    "for perm_x in itertools.permutations(range(1, len(nec_x_vanilla.mass.index) + 1)):\n",
    "    order_x = pd.DataFrame(columns=[\"order\"], index=nec_x_vanilla.mass.index, data=perm_x)\n",
    "    i1 += [\"<\".join(order_x.sort_values(by=\"order\").index)]\n",
    "    \n",
    "i2 = []\n",
    "for perm_y in itertools.permutations(range(1, len(nec_y_vanilla.mass.index) + 1)):\n",
    "    order_y = pd.DataFrame(columns=[\"order\"], index=nec_y_vanilla.mass.index, data=perm_y)\n",
    "    [\"<\".join(order_y.sort_values(by=\"order\").index)]\n",
    "    \n",
    "col_multi = pd.MultiIndex.from_product([i1, i2], names=[\"order_X\", \"order_Y\"])\n",
    "\n",
    "nec_xy_inf = pd.DataFrame(index=rob_xy.approximation.index, columns=col_multi)\n",
    "nec_xy_inf.fillna(value=2, inplace=True)\n",
    "\n",
    "print(\"Starting permutations\") \n",
    "for perm_x in itertools.permutations(range(1, len(nec_x_vanilla.mass.index) + 1)):\n",
    "    order_x = pd.DataFrame(columns=[\"order\"], index=nec_x_vanilla.mass.index, data=perm_x)\n",
    "    nec_x = NecessityUnivariate(poss_x, order_x)\n",
    "\n",
    "    for perm_y in itertools.permutations(range(1, len(nec_y_vanilla.mass.index) + 1)):\n",
    "        order_y = pd.DataFrame(columns=[\"order\"], index=nec_y_vanilla.mass.index, data=perm_y)\n",
    "        nec_y = NecessityUnivariate(poss_y, order_y)\n",
    "\n",
    "        nec_xy = NecessityBivariate(nec_x, nec_y, copula)\n",
    "        \n",
    "        key_x = \"<\".join(order_x.sort_values(by=\"order\").index)\n",
    "        key_y = \"<\".join(order_y.sort_values(by=\"order\").index)\n",
    "        nec_xy_inf.loc[:, (key_x, key_y)] = np.array(nec_xy.necessity.loc[nec_xy.necessity.index, \"Nec\"])\n",
    "\n",
    "        if ((rob_xy.approximation[\"P_inf\"] - nec_xy.necessity[\"Nec\"]) > - rob_xy.rob_x.epsilon).all():\n",
    "            flag_order_work = True\n",
    "\n",
    "if not flag_order_work:\n",
    "    print(\"No order is working!\")"
   ]
  },
  {
   "cell_type": "code",
   "execution_count": 21,
   "id": "a0f44298-e42e-4fbc-8c1a-6135966a3979",
   "metadata": {},
   "outputs": [],
   "source": [
    "nec_xy_inf.to_csv(\"nec_inf_clayton_2.csv\")"
   ]
  },
  {
   "cell_type": "code",
   "execution_count": 7,
   "id": "1b4a5177-4ad1-40b2-b8f7-91987ae86f66",
   "metadata": {},
   "outputs": [],
   "source": [
    "# Or if we want to resume some computation\n",
    "nec_xy_inf = pd.read_csv(\"/work/scratch/malinoro/simulation_copula/nec_inf_clayton_2.csv\", index_col=[0, 1], header=[0, 1])\n",
    "rob_xy.approximation = pd.read_csv(\"/work/scratch/malinoro/simulation_copula/robust_xy_clayton_2.csv\", index_col=[0, 1])"
   ]
  },
  {
   "cell_type": "markdown",
   "id": "d1352ddb-2e80-497a-a4e7-d398059015a1",
   "metadata": {},
   "source": [
    "## Finding two couples of events such that Nec cannot be inferior to P_inf on those two events at the same time"
   ]
  },
  {
   "cell_type": "code",
   "execution_count": 10,
   "id": "07307937-5868-46f4-9c9b-37403cb855d7",
   "metadata": {},
   "outputs": [
    {
     "name": "stdout",
     "output_type": "stream",
     "text": [
      "[(('x2', 'y2,y3'), ('x2,x3', 'y2')), (('x2,x3', 'y1,y2'), ('x2', 'y2,y3')), (('x1,x2', 'y2,y3'), ('x2,x3', 'y2')), (('x2,x3', 'y2'), ('x2', 'y2,y3')), (('x2,x3', 'y1,y2'), ('x1,x2', 'y2,y3')), (('x2', 'y2,y3'), ('x2,x3', 'y1,y2')), (('x2,x3', 'y2'), ('x1,x2', 'y2,y3')), (('x1,x2', 'y2,y3'), ('x2,x3', 'y1,y2'))]\n"
     ]
    }
   ],
   "source": [
    "list_event = []\n",
    "\n",
    "for xy1 in nec_xy_inf.index:\n",
    "    rob_1 = rob_xy.approximation.loc[xy1, \"P_inf\"]\n",
    "    \n",
    "    for xy2 in nec_xy_inf.index:\n",
    "        rob_2 = rob_xy.approximation.loc[xy2, \"P_inf\"]\n",
    "\n",
    "                \n",
    "        arr_bool_1 = nec_xy_inf.loc[xy1, :] > (rob_1 + rob_xy.rob_x.epsilon)\n",
    "        arr_bool_2 = nec_xy_inf.loc[xy2, :] > (rob_2 + rob_xy.rob_y.epsilon)\n",
    "\n",
    "        if (arr_bool_1 | arr_bool_2).all():\n",
    "            list_event += [(xy1, xy2)]\n",
    "\n",
    "list_event = list(set(list_event))\n",
    "\n",
    "print(list_event)"
   ]
  },
  {
   "cell_type": "code",
   "execution_count": 27,
   "id": "d1f1d12d-f073-483a-a733-ad62cd69347f",
   "metadata": {},
   "outputs": [
    {
     "name": "stdout",
     "output_type": "stream",
     "text": [
      "X      Y    \n",
      "x2     y2,y3    0.131237\n",
      "x2,x3  y2       0.131237\n",
      "Name: P_inf, dtype: float64\n"
     ]
    },
    {
     "data": {
      "text/html": [
       "<div>\n",
       "<style scoped>\n",
       "    .dataframe tbody tr th:only-of-type {\n",
       "        vertical-align: middle;\n",
       "    }\n",
       "\n",
       "    .dataframe tbody tr th {\n",
       "        vertical-align: top;\n",
       "    }\n",
       "\n",
       "    .dataframe thead th {\n",
       "        text-align: right;\n",
       "    }\n",
       "</style>\n",
       "<table border=\"1\" class=\"dataframe\">\n",
       "  <thead>\n",
       "    <tr style=\"text-align: right;\">\n",
       "      <th>order_Y</th>\n",
       "      <th>y1,y2,y3&lt;y2,y3&lt;y2</th>\n",
       "      <th>y1,y2,y3&lt;y2&lt;y2,y3</th>\n",
       "      <th>y2,y3&lt;y1,y2,y3&lt;y2</th>\n",
       "      <th>y2&lt;y1,y2,y3&lt;y2,y3</th>\n",
       "      <th>y2,y3&lt;y2&lt;y1,y2,y3</th>\n",
       "      <th>y2&lt;y2,y3&lt;y1,y2,y3</th>\n",
       "    </tr>\n",
       "    <tr>\n",
       "      <th>order_X</th>\n",
       "      <th></th>\n",
       "      <th></th>\n",
       "      <th></th>\n",
       "      <th></th>\n",
       "      <th></th>\n",
       "      <th></th>\n",
       "    </tr>\n",
       "  </thead>\n",
       "  <tbody>\n",
       "    <tr>\n",
       "      <th>x1,x2,x3&lt;x2,x3&lt;x2</th>\n",
       "      <td>0.295962</td>\n",
       "      <td>0.295962</td>\n",
       "      <td>0.224253</td>\n",
       "      <td>0.258534</td>\n",
       "      <td>0.180221</td>\n",
       "      <td>0.180221</td>\n",
       "    </tr>\n",
       "    <tr>\n",
       "      <th>x1,x2,x3&lt;x2&lt;x2,x3</th>\n",
       "      <td>0.253875</td>\n",
       "      <td>0.253875</td>\n",
       "      <td>0.239545</td>\n",
       "      <td>0.208462</td>\n",
       "      <td>0.270377</td>\n",
       "      <td>0.270377</td>\n",
       "    </tr>\n",
       "    <tr>\n",
       "      <th>x2,x3&lt;x1,x2,x3&lt;x2</th>\n",
       "      <td>0.295962</td>\n",
       "      <td>0.295962</td>\n",
       "      <td>0.224253</td>\n",
       "      <td>0.258534</td>\n",
       "      <td>0.180221</td>\n",
       "      <td>0.180221</td>\n",
       "    </tr>\n",
       "    <tr>\n",
       "      <th>x2&lt;x1,x2,x3&lt;x2,x3</th>\n",
       "      <td>0.131237</td>\n",
       "      <td>0.131237</td>\n",
       "      <td>0.279342</td>\n",
       "      <td>0.250865</td>\n",
       "      <td>0.292683</td>\n",
       "      <td>0.292683</td>\n",
       "    </tr>\n",
       "    <tr>\n",
       "      <th>x2,x3&lt;x2&lt;x1,x2,x3</th>\n",
       "      <td>0.291195</td>\n",
       "      <td>0.291195</td>\n",
       "      <td>0.215821</td>\n",
       "      <td>0.236276</td>\n",
       "      <td>0.21783</td>\n",
       "      <td>0.21783</td>\n",
       "    </tr>\n",
       "    <tr>\n",
       "      <th>x2&lt;x2,x3&lt;x1,x2,x3</th>\n",
       "      <td>0.131237</td>\n",
       "      <td>0.131237</td>\n",
       "      <td>0.279342</td>\n",
       "      <td>0.250865</td>\n",
       "      <td>0.292683</td>\n",
       "      <td>0.292683</td>\n",
       "    </tr>\n",
       "  </tbody>\n",
       "</table>\n",
       "</div>"
      ],
      "text/plain": [
       "order_Y           y1,y2,y3<y2,y3<y2 y1,y2,y3<y2<y2,y3 y2,y3<y1,y2,y3<y2  \\\n",
       "order_X                                                                   \n",
       "x1,x2,x3<x2,x3<x2          0.295962          0.295962          0.224253   \n",
       "x1,x2,x3<x2<x2,x3          0.253875          0.253875          0.239545   \n",
       "x2,x3<x1,x2,x3<x2          0.295962          0.295962          0.224253   \n",
       "x2<x1,x2,x3<x2,x3          0.131237          0.131237          0.279342   \n",
       "x2,x3<x2<x1,x2,x3          0.291195          0.291195          0.215821   \n",
       "x2<x2,x3<x1,x2,x3          0.131237          0.131237          0.279342   \n",
       "\n",
       "order_Y           y2<y1,y2,y3<y2,y3 y2,y3<y2<y1,y2,y3 y2<y2,y3<y1,y2,y3  \n",
       "order_X                                                                  \n",
       "x1,x2,x3<x2,x3<x2          0.258534          0.180221          0.180221  \n",
       "x1,x2,x3<x2<x2,x3          0.208462          0.270377          0.270377  \n",
       "x2,x3<x1,x2,x3<x2          0.258534          0.180221          0.180221  \n",
       "x2<x1,x2,x3<x2,x3          0.250865          0.292683          0.292683  \n",
       "x2,x3<x2<x1,x2,x3          0.236276           0.21783           0.21783  \n",
       "x2<x2,x3<x1,x2,x3          0.250865          0.292683          0.292683  "
      ]
     },
     "execution_count": 27,
     "metadata": {},
     "output_type": "execute_result"
    }
   ],
   "source": [
    "print(rob_xy.approximation.loc[[('x2', 'y2,y3'), ('x2,x3', 'y2')], \"P_inf\"])\n",
    "nec_1 = pd.DataFrame(index=nec_xy_inf.columns.get_level_values(level=\"order_X\").drop_duplicates(), columns=nec_xy_inf.columns.get_level_values(level=\"order_Y\").drop_duplicates())\n",
    "nec_2 = pd.DataFrame(index=nec_xy_inf.columns.get_level_values(level=\"order_X\").drop_duplicates(), columns=nec_xy_inf.columns.get_level_values(level=\"order_Y\").drop_duplicates())\n",
    "\n",
    "for x_i, y_i in nec_xy_inf.columns:\n",
    "    nec_1.loc[x_i, y_i] = nec_xy_inf.loc[('x2', 'y2,y3'), (x_i, y_i)]\n",
    "    nec_2.loc[x_i, y_i] = nec_xy_inf.loc[('x2,x3', 'y2'), (x_i, y_i)]\n",
    "nec_1"
   ]
  },
  {
   "cell_type": "code",
   "execution_count": 28,
   "id": "3bed5aa4-f80b-4601-b333-9aa125b147c6",
   "metadata": {},
   "outputs": [
    {
     "data": {
      "text/html": [
       "<div>\n",
       "<style scoped>\n",
       "    .dataframe tbody tr th:only-of-type {\n",
       "        vertical-align: middle;\n",
       "    }\n",
       "\n",
       "    .dataframe tbody tr th {\n",
       "        vertical-align: top;\n",
       "    }\n",
       "\n",
       "    .dataframe thead th {\n",
       "        text-align: right;\n",
       "    }\n",
       "</style>\n",
       "<table border=\"1\" class=\"dataframe\">\n",
       "  <thead>\n",
       "    <tr style=\"text-align: right;\">\n",
       "      <th>order_Y</th>\n",
       "      <th>y1,y2,y3&lt;y2,y3&lt;y2</th>\n",
       "      <th>y1,y2,y3&lt;y2&lt;y2,y3</th>\n",
       "      <th>y2,y3&lt;y1,y2,y3&lt;y2</th>\n",
       "      <th>y2&lt;y1,y2,y3&lt;y2,y3</th>\n",
       "      <th>y2,y3&lt;y2&lt;y1,y2,y3</th>\n",
       "      <th>y2&lt;y2,y3&lt;y1,y2,y3</th>\n",
       "    </tr>\n",
       "    <tr>\n",
       "      <th>order_X</th>\n",
       "      <th></th>\n",
       "      <th></th>\n",
       "      <th></th>\n",
       "      <th></th>\n",
       "      <th></th>\n",
       "      <th></th>\n",
       "    </tr>\n",
       "  </thead>\n",
       "  <tbody>\n",
       "    <tr>\n",
       "      <th>x1,x2,x3&lt;x2,x3&lt;x2</th>\n",
       "      <td>0.295962</td>\n",
       "      <td>0.253875</td>\n",
       "      <td>0.295962</td>\n",
       "      <td>0.131237</td>\n",
       "      <td>0.291195</td>\n",
       "      <td>0.131237</td>\n",
       "    </tr>\n",
       "    <tr>\n",
       "      <th>x1,x2,x3&lt;x2&lt;x2,x3</th>\n",
       "      <td>0.295962</td>\n",
       "      <td>0.253875</td>\n",
       "      <td>0.295962</td>\n",
       "      <td>0.131237</td>\n",
       "      <td>0.291195</td>\n",
       "      <td>0.131237</td>\n",
       "    </tr>\n",
       "    <tr>\n",
       "      <th>x2,x3&lt;x1,x2,x3&lt;x2</th>\n",
       "      <td>0.224253</td>\n",
       "      <td>0.239545</td>\n",
       "      <td>0.224253</td>\n",
       "      <td>0.279342</td>\n",
       "      <td>0.215821</td>\n",
       "      <td>0.279342</td>\n",
       "    </tr>\n",
       "    <tr>\n",
       "      <th>x2&lt;x1,x2,x3&lt;x2,x3</th>\n",
       "      <td>0.258534</td>\n",
       "      <td>0.208462</td>\n",
       "      <td>0.258534</td>\n",
       "      <td>0.250865</td>\n",
       "      <td>0.236276</td>\n",
       "      <td>0.250865</td>\n",
       "    </tr>\n",
       "    <tr>\n",
       "      <th>x2,x3&lt;x2&lt;x1,x2,x3</th>\n",
       "      <td>0.180221</td>\n",
       "      <td>0.270377</td>\n",
       "      <td>0.180221</td>\n",
       "      <td>0.292683</td>\n",
       "      <td>0.21783</td>\n",
       "      <td>0.292683</td>\n",
       "    </tr>\n",
       "    <tr>\n",
       "      <th>x2&lt;x2,x3&lt;x1,x2,x3</th>\n",
       "      <td>0.180221</td>\n",
       "      <td>0.270377</td>\n",
       "      <td>0.180221</td>\n",
       "      <td>0.292683</td>\n",
       "      <td>0.21783</td>\n",
       "      <td>0.292683</td>\n",
       "    </tr>\n",
       "  </tbody>\n",
       "</table>\n",
       "</div>"
      ],
      "text/plain": [
       "order_Y           y1,y2,y3<y2,y3<y2 y1,y2,y3<y2<y2,y3 y2,y3<y1,y2,y3<y2  \\\n",
       "order_X                                                                   \n",
       "x1,x2,x3<x2,x3<x2          0.295962          0.253875          0.295962   \n",
       "x1,x2,x3<x2<x2,x3          0.295962          0.253875          0.295962   \n",
       "x2,x3<x1,x2,x3<x2          0.224253          0.239545          0.224253   \n",
       "x2<x1,x2,x3<x2,x3          0.258534          0.208462          0.258534   \n",
       "x2,x3<x2<x1,x2,x3          0.180221          0.270377          0.180221   \n",
       "x2<x2,x3<x1,x2,x3          0.180221          0.270377          0.180221   \n",
       "\n",
       "order_Y           y2<y1,y2,y3<y2,y3 y2,y3<y2<y1,y2,y3 y2<y2,y3<y1,y2,y3  \n",
       "order_X                                                                  \n",
       "x1,x2,x3<x2,x3<x2          0.131237          0.291195          0.131237  \n",
       "x1,x2,x3<x2<x2,x3          0.131237          0.291195          0.131237  \n",
       "x2,x3<x1,x2,x3<x2          0.279342          0.215821          0.279342  \n",
       "x2<x1,x2,x3<x2,x3          0.250865          0.236276          0.250865  \n",
       "x2,x3<x2<x1,x2,x3          0.292683           0.21783          0.292683  \n",
       "x2<x2,x3<x1,x2,x3          0.292683           0.21783          0.292683  "
      ]
     },
     "execution_count": 28,
     "metadata": {},
     "output_type": "execute_result"
    }
   ],
   "source": [
    "nec_2"
   ]
  },
  {
   "cell_type": "markdown",
   "id": "b58de0c7",
   "metadata": {},
   "source": [
    "# Other tests"
   ]
  },
  {
   "cell_type": "code",
   "execution_count": 2,
   "id": "b85d6fbe",
   "metadata": {},
   "outputs": [],
   "source": [
    "gen = random_generator_poss([\"x1\", \"x2\", \"x3\", \"x4\"])"
   ]
  },
  {
   "cell_type": "code",
   "execution_count": null,
   "id": "cc0d39a4",
   "metadata": {},
   "outputs": [],
   "source": [
    "i=0\n",
    "for k in gen:\n",
    "    print(k)\n",
    "    i+=1\n",
    "    if i == 30:\n",
    "        break"
   ]
  },
  {
   "cell_type": "markdown",
   "id": "63a4ad3a-2520-4180-bb93-f2a221901cb0",
   "metadata": {},
   "source": [
    "# Copula Visualisation"
   ]
  },
  {
   "cell_type": "code",
   "execution_count": 3,
   "id": "12d1d0fa-c681-4ada-b857-8252ec717667",
   "metadata": {},
   "outputs": [],
   "source": [
    "import matplotlib.pyplot as plt\n",
    "from matplotlib import cm\n",
    "from matplotlib.ticker import LinearLocator"
   ]
  },
  {
   "cell_type": "code",
   "execution_count": 10,
   "id": "c0de2d02-0314-41fb-a536-7b2a60789c1d",
   "metadata": {},
   "outputs": [],
   "source": [
    "# Make data.\n",
    "X = np.arange(0, 1, 0.05)\n",
    "Y = np.arange(0, 1, 0.05)\n",
    "X, Y = np.meshgrid(X, Y)\n",
    "\n",
    "theta = 5\n",
    "\n",
    "Z = np.zeros(X.shape)\n",
    "for i in range(Z.shape[0]):\n",
    "    for j in range(Z.shape[1]):\n",
    "        Z[i, j] = frank_copula(X[i,j], Y[i,j], theta)"
   ]
  },
  {
   "cell_type": "code",
   "execution_count": 11,
   "id": "14194852-d4a5-4acd-b764-cfc67f5d6985",
   "metadata": {},
   "outputs": [
    {
     "data": {
      "image/png": "[encoded data removed]",
      "text/plain": [
       "<Figure size 432x288 with 2 Axes>"
      ]
     },
     "metadata": {
      "needs_background": "light"
     },
     "output_type": "display_data"
    }
   ],
   "source": [
    "fig, ax = plt.subplots(subplot_kw={\"projection\": \"3d\"})\n",
    "# Plot the surface.\n",
    "surf = ax.plot_surface(X, Y, Z, cmap=cm.coolwarm,\n",
    "                       linewidth=0, antialiased=False)\n",
    "\n",
    "# Customize the z axis.\n",
    "ax.set_zlim(-0.01, 1.01)\n",
    "ax.zaxis.set_major_locator(LinearLocator(10))\n",
    "# A StrMethodFormatter is used automatically\n",
    "ax.zaxis.set_major_formatter('{x:.02f}')\n",
    "\n",
    "# Add a color bar which maps values to colors.\n",
    "fig.colorbar(surf, shrink=0.5, aspect=5)\n",
    "\n",
    "plt.show()"
   ]
  }
 ],
 "metadata": {
  "kernelspec": {
   "display_name": "venv_copula",
   "language": "python",
   "name": "venv_copula"
  },
  "language_info": {
   "codemirror_mode": {
    "name": "ipython",
    "version": 3
   },
   "file_extension": ".py",
   "mimetype": "text/x-python",
   "name": "python",
   "nbconvert_exporter": "python",
   "pygments_lexer": "ipython3",
   "version": "3.8.4"
  }
 },
 "nbformat": 4,
 "nbformat_minor": 5
}
