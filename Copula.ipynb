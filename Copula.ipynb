{
 "cells": [
  {
   "cell_type": "code",
   "execution_count": 1,
   "id": "c2f39eb5",
   "metadata": {},
   "outputs": [],
   "source": [
    "import pandas as pd\n",
    "import numpy as np \n",
    "import os.path as op\n",
    "\n",
    "from necessity_functions import NecessityUnivariate, NecessityBivariate\n",
    "from robust_set_sampling import RobustCredalSetUnivariate, RobustCredalSetBivariate\n",
    "from copulas import min_copula"
   ]
  },
  {
   "cell_type": "markdown",
   "id": "83b56db0",
   "metadata": {},
   "source": [
    "### Declare marginal possibilities and orders"
   ]
  },
  {
   "cell_type": "code",
   "execution_count": 2,
   "id": "6f8ec840",
   "metadata": {},
   "outputs": [],
   "source": [
    "a = {'x1':0.2, \"x2\":1, \"x3\":0.2}\n",
    "order_a = pd.DataFrame(data=[2,1], index=[\"x2\", \"x1,x2,x3\"], columns=[\"order\"])\n",
    "order_a_p = pd.DataFrame(data=[1,2,3], index=[\"x1\",\"x2\",\"x3\"], columns=[\"order\"])\n",
    "\n",
    "b = {'y1':0.7, \"y2\":1}\n",
    "order_b = pd.DataFrame(data=[1,2], index=[\"y2\", \"y1,y2\"], columns=[\"order\"])\n",
    "order_b_p = pd.DataFrame(data=[1,2], index=[\"y1\",\"y2\"], columns=[\"order\"])"
   ]
  },
  {
   "cell_type": "markdown",
   "id": "fdae2689",
   "metadata": {},
   "source": [
    "### Necessity functions"
   ]
  },
  {
   "cell_type": "code",
   "execution_count": 3,
   "id": "0ec15a5d",
   "metadata": {},
   "outputs": [],
   "source": [
    "nec_x = NecessityUnivariate(a, order_a)\n",
    "nec_y = NecessityUnivariate(b, order_b)\n",
    "\n",
    "nec_xy = NecessityBivariate(nec_x, nec_y, min_copula)"
   ]
  },
  {
   "cell_type": "code",
   "execution_count": 4,
   "id": "93143040",
   "metadata": {},
   "outputs": [],
   "source": [
    "rob_x = RobustCredalSetUnivariate(nec_x)\n",
    "rob_y = RobustCredalSetUnivariate(nec_y)\n",
    "\n",
    "rob_xy = RobustCredalSetBivariate(rob_x, rob_y, order_a_p, order_b_p, min_copula)"
   ]
  },
  {
   "cell_type": "markdown",
   "id": "84ee86b8-cd5b-4b2b-9608-41b54213f430",
   "metadata": {},
   "source": [
    "# Other tests"
   ]
  },
  {
   "cell_type": "code",
   "execution_count": 3,
   "id": "75a16a5f-0b5b-4e74-850b-be1c9df930e5",
   "metadata": {},
   "outputs": [],
   "source": [
    "output_dir = \"/work/scratch/malinoro/simulation_copula/out\"\n",
    "multi = pd.MultiIndex.from_tuples(list(\n",
    "        zip([\"poss\", \"poss\", \"poss\", \"poss\", \"poss\", \"poss\", \"poss\", \"poss\", \"focal_sets\", \"focal_sets\"],\n",
    "            [\"x1\", \"x2\", \"x3\", \"x4\", \"y1\", \"y2\", \"y3\", \"y4\", \"X\", \"Y\"])), names=[\"Object\", \"Space\"])\n",
    "final_df = pd.DataFrame(columns=multi)"
   ]
  },
  {
   "cell_type": "code",
   "execution_count": 4,
   "id": "8e08cdd7-eeee-4d81-bd28-cd04576f9b56",
   "metadata": {},
   "outputs": [],
   "source": [
    "final_df.to_csv(op.join(output_dir, \"test.csv\"))"
   ]
  },
  {
   "cell_type": "code",
   "execution_count": 5,
   "id": "b45dbd3a-cdf2-4019-b180-baa29bc45895",
   "metadata": {},
   "outputs": [
    {
     "data": {
      "text/html": [
       "<div>\n",
       "<style scoped>\n",
       "    .dataframe tbody tr th:only-of-type {\n",
       "        vertical-align: middle;\n",
       "    }\n",
       "\n",
       "    .dataframe tbody tr th {\n",
       "        vertical-align: top;\n",
       "    }\n",
       "\n",
       "    .dataframe thead tr th {\n",
       "        text-align: left;\n",
       "    }\n",
       "</style>\n",
       "<table border=\"1\" class=\"dataframe\">\n",
       "  <thead>\n",
       "    <tr>\n",
       "      <th></th>\n",
       "      <th>Object</th>\n",
       "      <th colspan=\"8\" halign=\"left\">poss</th>\n",
       "      <th colspan=\"2\" halign=\"left\">focal_sets</th>\n",
       "    </tr>\n",
       "    <tr>\n",
       "      <th></th>\n",
       "      <th>Space</th>\n",
       "      <th>x1</th>\n",
       "      <th>x2</th>\n",
       "      <th>x3</th>\n",
       "      <th>x4</th>\n",
       "      <th>y1</th>\n",
       "      <th>y2</th>\n",
       "      <th>y3</th>\n",
       "      <th>y4</th>\n",
       "      <th>X</th>\n",
       "      <th>Y</th>\n",
       "    </tr>\n",
       "  </thead>\n",
       "  <tbody>\n",
       "  </tbody>\n",
       "</table>\n",
       "</div>"
      ],
      "text/plain": [
       "Empty DataFrame\n",
       "Columns: [(Object, Space), (poss, x1), (poss, x2), (poss, x3), (poss, x4), (poss, y1), (poss, y2), (poss, y3), (poss, y4), (focal_sets, X), (focal_sets, Y)]\n",
       "Index: []"
      ]
     },
     "execution_count": 5,
     "metadata": {},
     "output_type": "execute_result"
    }
   ],
   "source": [
    "read_df = pd.read_csv(op.join(output_dir, \"test.csv\"), header=[0,1])\n",
    "read_df"
   ]
  },
  {
   "cell_type": "code",
   "execution_count": 34,
   "id": "4929aff1-dc77-43e3-b1c9-9b684286257f",
   "metadata": {},
   "outputs": [],
   "source": [
    "final_df.loc[0, :] = [1, 0.2, 0.1, 0.7, 0.5, 0.2, 1, 0.6, \"x1<x1,x4<x1,x2,x4<x1,x2,x3,x4\", \"y3<y3,y4<y1,y3,y4<y1,y2,y3,y4\"]\n",
    "final_df.to_csv(op.join(output_dir, \"test.csv\"), mode='a', header=False)\n"
   ]
  },
  {
   "cell_type": "code",
   "execution_count": 35,
   "id": "c3f1fe66-c517-48d1-8ec3-6dba46b2fcb8",
   "metadata": {},
   "outputs": [
    {
     "data": {
      "text/html": [
       "<div>\n",
       "<style scoped>\n",
       "    .dataframe tbody tr th:only-of-type {\n",
       "        vertical-align: middle;\n",
       "    }\n",
       "\n",
       "    .dataframe tbody tr th {\n",
       "        vertical-align: top;\n",
       "    }\n",
       "\n",
       "    .dataframe thead tr th {\n",
       "        text-align: left;\n",
       "    }\n",
       "</style>\n",
       "<table border=\"1\" class=\"dataframe\">\n",
       "  <thead>\n",
       "    <tr>\n",
       "      <th></th>\n",
       "      <th>Object</th>\n",
       "      <th colspan=\"8\" halign=\"left\">poss</th>\n",
       "      <th colspan=\"2\" halign=\"left\">focal_sets</th>\n",
       "    </tr>\n",
       "    <tr>\n",
       "      <th></th>\n",
       "      <th>Space</th>\n",
       "      <th>x1</th>\n",
       "      <th>x2</th>\n",
       "      <th>x3</th>\n",
       "      <th>x4</th>\n",
       "      <th>y1</th>\n",
       "      <th>y2</th>\n",
       "      <th>y3</th>\n",
       "      <th>y4</th>\n",
       "      <th>X</th>\n",
       "      <th>Y</th>\n",
       "    </tr>\n",
       "  </thead>\n",
       "  <tbody>\n",
       "    <tr>\n",
       "      <th>0</th>\n",
       "      <td>0</td>\n",
       "      <td>1</td>\n",
       "      <td>0.2</td>\n",
       "      <td>0.1</td>\n",
       "      <td>0.7</td>\n",
       "      <td>0.5</td>\n",
       "      <td>0.2</td>\n",
       "      <td>1</td>\n",
       "      <td>0.6</td>\n",
       "      <td>x1&lt;x1,x4&lt;x1,x2,x4&lt;x1,x2,x3,x4</td>\n",
       "      <td>y3&lt;y3,y4&lt;y1,y3,y4&lt;y1,y2,y3,y4</td>\n",
       "    </tr>\n",
       "  </tbody>\n",
       "</table>\n",
       "</div>"
      ],
      "text/plain": [
       "  Object poss                                                      focal_sets  \\\n",
       "   Space   x1   x2   x3   x4   y1   y2 y3   y4                              X   \n",
       "0      0    1  0.2  0.1  0.7  0.5  0.2  1  0.6  x1<x1,x4<x1,x2,x4<x1,x2,x3,x4   \n",
       "\n",
       "                                  \n",
       "                               Y  \n",
       "0  y3<y3,y4<y1,y3,y4<y1,y2,y3,y4  "
      ]
     },
     "execution_count": 35,
     "metadata": {},
     "output_type": "execute_result"
    }
   ],
   "source": [
    "read_df = pd.read_csv(op.join(output_dir, \"test.csv\"), header=[0,1])\n",
    "read_df"
   ]
  },
  {
   "cell_type": "code",
   "execution_count": 36,
   "id": "e88f78e0-3270-466b-a39d-e9814395cf3a",
   "metadata": {},
   "outputs": [],
   "source": [
    "final_df.drop(axis=0, labels=[0], inplace=True)\n",
    "final_df.loc[1, :] = [1, 0.5, 0.1, 0.7, 0.5, 0.2, 1, 0.9, \"x1<x1,x4<x1,x2,x4<x1,x2,x3,x4\", \"y3<y3,y4<y1,y3,y4<y1,y2,y3,y4\"]\n",
    "final_df.to_csv(op.join(output_dir, \"test.csv\"), mode='a', header=False)"
   ]
  },
  {
   "cell_type": "code",
   "execution_count": 37,
   "id": "b7a9874b-afdd-4aa7-a167-fabdd6e67563",
   "metadata": {},
   "outputs": [
    {
     "data": {
      "text/html": [
       "<div>\n",
       "<style scoped>\n",
       "    .dataframe tbody tr th:only-of-type {\n",
       "        vertical-align: middle;\n",
       "    }\n",
       "\n",
       "    .dataframe tbody tr th {\n",
       "        vertical-align: top;\n",
       "    }\n",
       "\n",
       "    .dataframe thead tr th {\n",
       "        text-align: left;\n",
       "    }\n",
       "</style>\n",
       "<table border=\"1\" class=\"dataframe\">\n",
       "  <thead>\n",
       "    <tr>\n",
       "      <th></th>\n",
       "      <th>Object</th>\n",
       "      <th colspan=\"8\" halign=\"left\">poss</th>\n",
       "      <th colspan=\"2\" halign=\"left\">focal_sets</th>\n",
       "    </tr>\n",
       "    <tr>\n",
       "      <th></th>\n",
       "      <th>Space</th>\n",
       "      <th>x1</th>\n",
       "      <th>x2</th>\n",
       "      <th>x3</th>\n",
       "      <th>x4</th>\n",
       "      <th>y1</th>\n",
       "      <th>y2</th>\n",
       "      <th>y3</th>\n",
       "      <th>y4</th>\n",
       "      <th>X</th>\n",
       "      <th>Y</th>\n",
       "    </tr>\n",
       "  </thead>\n",
       "  <tbody>\n",
       "    <tr>\n",
       "      <th>0</th>\n",
       "      <td>0</td>\n",
       "      <td>1</td>\n",
       "      <td>0.2</td>\n",
       "      <td>0.1</td>\n",
       "      <td>0.7</td>\n",
       "      <td>0.5</td>\n",
       "      <td>0.2</td>\n",
       "      <td>1</td>\n",
       "      <td>0.6</td>\n",
       "      <td>x1&lt;x1,x4&lt;x1,x2,x4&lt;x1,x2,x3,x4</td>\n",
       "      <td>y3&lt;y3,y4&lt;y1,y3,y4&lt;y1,y2,y3,y4</td>\n",
       "    </tr>\n",
       "    <tr>\n",
       "      <th>1</th>\n",
       "      <td>1</td>\n",
       "      <td>1</td>\n",
       "      <td>0.5</td>\n",
       "      <td>0.1</td>\n",
       "      <td>0.7</td>\n",
       "      <td>0.5</td>\n",
       "      <td>0.2</td>\n",
       "      <td>1</td>\n",
       "      <td>0.9</td>\n",
       "      <td>x1&lt;x1,x4&lt;x1,x2,x4&lt;x1,x2,x3,x4</td>\n",
       "      <td>y3&lt;y3,y4&lt;y1,y3,y4&lt;y1,y2,y3,y4</td>\n",
       "    </tr>\n",
       "  </tbody>\n",
       "</table>\n",
       "</div>"
      ],
      "text/plain": [
       "  Object poss                                                      focal_sets  \\\n",
       "   Space   x1   x2   x3   x4   y1   y2 y3   y4                              X   \n",
       "0      0    1  0.2  0.1  0.7  0.5  0.2  1  0.6  x1<x1,x4<x1,x2,x4<x1,x2,x3,x4   \n",
       "1      1    1  0.5  0.1  0.7  0.5  0.2  1  0.9  x1<x1,x4<x1,x2,x4<x1,x2,x3,x4   \n",
       "\n",
       "                                  \n",
       "                               Y  \n",
       "0  y3<y3,y4<y1,y3,y4<y1,y2,y3,y4  \n",
       "1  y3<y3,y4<y1,y3,y4<y1,y2,y3,y4  "
      ]
     },
     "execution_count": 37,
     "metadata": {},
     "output_type": "execute_result"
    }
   ],
   "source": [
    "read_df = pd.read_csv(op.join(output_dir, \"test.csv\"), header=[0,1])\n",
    "read_df"
   ]
  },
  {
   "cell_type": "code",
   "execution_count": 46,
   "id": "14cec5b4-71bd-4d51-9629-53aa0e6c0393",
   "metadata": {},
   "outputs": [],
   "source": [
    "final_df.loc[2, [(\"poss\", k) for k in a.keys()]] = a.values()"
   ]
  },
  {
   "cell_type": "code",
   "execution_count": 47,
   "id": "22d53bf9-81e3-4dee-b56a-db9afcf32a90",
   "metadata": {},
   "outputs": [
    {
     "data": {
      "text/html": [
       "<div>\n",
       "<style scoped>\n",
       "    .dataframe tbody tr th:only-of-type {\n",
       "        vertical-align: middle;\n",
       "    }\n",
       "\n",
       "    .dataframe tbody tr th {\n",
       "        vertical-align: top;\n",
       "    }\n",
       "\n",
       "    .dataframe thead tr th {\n",
       "        text-align: left;\n",
       "    }\n",
       "</style>\n",
       "<table border=\"1\" class=\"dataframe\">\n",
       "  <thead>\n",
       "    <tr>\n",
       "      <th>Object</th>\n",
       "      <th colspan=\"8\" halign=\"left\">poss</th>\n",
       "      <th colspan=\"2\" halign=\"left\">focal_sets</th>\n",
       "    </tr>\n",
       "    <tr>\n",
       "      <th>Space</th>\n",
       "      <th>x1</th>\n",
       "      <th>x2</th>\n",
       "      <th>x3</th>\n",
       "      <th>x4</th>\n",
       "      <th>y1</th>\n",
       "      <th>y2</th>\n",
       "      <th>y3</th>\n",
       "      <th>y4</th>\n",
       "      <th>X</th>\n",
       "      <th>Y</th>\n",
       "    </tr>\n",
       "  </thead>\n",
       "  <tbody>\n",
       "    <tr>\n",
       "      <th>1</th>\n",
       "      <td>1</td>\n",
       "      <td>0.5</td>\n",
       "      <td>0.1</td>\n",
       "      <td>0.7</td>\n",
       "      <td>0.5</td>\n",
       "      <td>0.2</td>\n",
       "      <td>1</td>\n",
       "      <td>0.9</td>\n",
       "      <td>x1&lt;x1,x4&lt;x1,x2,x4&lt;x1,x2,x3,x4</td>\n",
       "      <td>y3&lt;y3,y4&lt;y1,y3,y4&lt;y1,y2,y3,y4</td>\n",
       "    </tr>\n",
       "    <tr>\n",
       "      <th>2</th>\n",
       "      <td>0.2</td>\n",
       "      <td>1</td>\n",
       "      <td>0.2</td>\n",
       "      <td>NaN</td>\n",
       "      <td>NaN</td>\n",
       "      <td>NaN</td>\n",
       "      <td>NaN</td>\n",
       "      <td>NaN</td>\n",
       "      <td>NaN</td>\n",
       "      <td>NaN</td>\n",
       "    </tr>\n",
       "  </tbody>\n",
       "</table>\n",
       "</div>"
      ],
      "text/plain": [
       "Object poss                                                        focal_sets  \\\n",
       "Space    x1   x2   x3   x4   y1   y2   y3   y4                              X   \n",
       "1         1  0.5  0.1  0.7  0.5  0.2    1  0.9  x1<x1,x4<x1,x2,x4<x1,x2,x3,x4   \n",
       "2       0.2    1  0.2  NaN  NaN  NaN  NaN  NaN                            NaN   \n",
       "\n",
       "Object                                 \n",
       "Space                               Y  \n",
       "1       y3<y3,y4<y1,y3,y4<y1,y2,y3,y4  \n",
       "2                                 NaN  "
      ]
     },
     "execution_count": 47,
     "metadata": {},
     "output_type": "execute_result"
    }
   ],
   "source": [
    "final_df"
   ]
  },
  {
   "cell_type": "code",
   "execution_count": 56,
   "id": "8b171482-e61f-4f02-9803-652e3f5724fd",
   "metadata": {},
   "outputs": [
    {
     "data": {
      "text/plain": [
       "'c<a<b'"
      ]
     },
     "execution_count": 56,
     "metadata": {},
     "output_type": "execute_result"
    }
   ],
   "source": [
    "order_x = pd.DataFrame(columns=[\"order\"], index=[\"a\",\"b\",\"c\"], data=[2,3,1])\n",
    "\"<\".join(order_x.sort_values(axis=0, by=[\"order\"]).index)"
   ]
  },
  {
   "cell_type": "code",
   "execution_count": 57,
   "id": "d7123f66-dd61-4e4b-bed1-4085094b8482",
   "metadata": {},
   "outputs": [
    {
     "data": {
      "text/html": [
       "<div>\n",
       "<style scoped>\n",
       "    .dataframe tbody tr th:only-of-type {\n",
       "        vertical-align: middle;\n",
       "    }\n",
       "\n",
       "    .dataframe tbody tr th {\n",
       "        vertical-align: top;\n",
       "    }\n",
       "\n",
       "    .dataframe thead th {\n",
       "        text-align: right;\n",
       "    }\n",
       "</style>\n",
       "<table border=\"1\" class=\"dataframe\">\n",
       "  <thead>\n",
       "    <tr style=\"text-align: right;\">\n",
       "      <th></th>\n",
       "      <th>order</th>\n",
       "    </tr>\n",
       "  </thead>\n",
       "  <tbody>\n",
       "    <tr>\n",
       "      <th>a</th>\n",
       "      <td>2</td>\n",
       "    </tr>\n",
       "    <tr>\n",
       "      <th>b</th>\n",
       "      <td>3</td>\n",
       "    </tr>\n",
       "    <tr>\n",
       "      <th>c</th>\n",
       "      <td>1</td>\n",
       "    </tr>\n",
       "  </tbody>\n",
       "</table>\n",
       "</div>"
      ],
      "text/plain": [
       "   order\n",
       "a      2\n",
       "b      3\n",
       "c      1"
      ]
     },
     "execution_count": 57,
     "metadata": {},
     "output_type": "execute_result"
    }
   ],
   "source": [
    "order_x"
   ]
  },
  {
   "cell_type": "code",
   "execution_count": null,
   "id": "0aa7e398-581c-4e65-80c5-f2f4e0bc1d2e",
   "metadata": {},
   "outputs": [],
   "source": []
  }
 ],
 "metadata": {
  "kernelspec": {
   "display_name": "venv_copula",
   "language": "python",
   "name": "venv_copula"
  },
  "language_info": {
   "codemirror_mode": {
    "name": "ipython",
    "version": 3
   },
   "file_extension": ".py",
   "mimetype": "text/x-python",
   "name": "python",
   "nbconvert_exporter": "python",
   "pygments_lexer": "ipython3",
   "version": "3.8.4"
  }
 },
 "nbformat": 4,
 "nbformat_minor": 5
}
