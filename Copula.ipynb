{
 "cells": [
  {
   "cell_type": "code",
   "execution_count": 1,
   "id": "c2f39eb5",
   "metadata": {},
   "outputs": [],
   "source": [
    "import pandas as pd\n",
    "import numpy as np \n",
    "\n",
    "from necessity_functions import NecessityUnivariate, NecessityBivariate\n",
    "from robust_set_sampling import RobustCredalSetUnivariate, RobustCredalSetBivariate\n",
    "from copulas import min_copula"
   ]
  },
  {
   "cell_type": "markdown",
   "id": "83b56db0",
   "metadata": {},
   "source": [
    "### Declare marginal possibilities and orders"
   ]
  },
  {
   "cell_type": "code",
   "execution_count": 2,
   "id": "6f8ec840",
   "metadata": {},
   "outputs": [],
   "source": [
    "a = {'x1':0.2, \"x2\":1, \"x3\":0.2}\n",
    "order_a = pd.DataFrame(data=[2,1], index=[\"x2\", \"x1,x2,x3\"], columns=[\"order\"])\n",
    "order_a_p = pd.DataFrame(data=[1,2,3], index=[\"x1\",\"x2\",\"x3\"], columns=[\"order\"])\n",
    "\n",
    "b = {'y1':0.7, \"y2\":1}\n",
    "order_b = pd.DataFrame(data=[1,2], index=[\"y2\", \"y1,y2\"], columns=[\"order\"])\n",
    "order_b_p = pd.DataFrame(data=[1,2], index=[\"y1\",\"y2\"], columns=[\"order\"])"
   ]
  },
  {
   "cell_type": "markdown",
   "id": "fdae2689",
   "metadata": {},
   "source": [
    "### Necessity functions"
   ]
  },
  {
   "cell_type": "code",
   "execution_count": 3,
   "id": "0ec15a5d",
   "metadata": {},
   "outputs": [],
   "source": [
    "nec_x = NecessityUnivariate(a, order_a)\n",
    "nec_y = NecessityUnivariate(b, order_b)\n",
    "\n",
    "nec_xy = NecessityBivariate(nec_x, nec_y, min_copula)"
   ]
  },
  {
   "cell_type": "code",
   "execution_count": 4,
   "id": "93143040",
   "metadata": {},
   "outputs": [],
   "source": [
    "rob_x = RobustCredalSetUnivariate(nec_x)\n",
    "rob_y = RobustCredalSetUnivariate(nec_y)\n",
    "\n",
    "rob_xy = RobustCredalSetBivariate(rob_x, rob_y, order_a_p, order_b_p, min_copula)"
   ]
  },
  {
   "cell_type": "code",
   "execution_count": 5,
   "id": "8983891e-0fff-4eaa-85e8-c9163f731b4e",
   "metadata": {},
   "outputs": [
    {
     "name": "stdout",
     "output_type": "stream",
     "text": [
      "          Nec\n",
      "x1          0\n",
      "x2        0.8\n",
      "x3          0\n",
      "x1,x2     0.8\n",
      "x1,x3       0\n",
      "x2,x3     0.8\n",
      "x1,x2,x3    1\n",
      "          Nec   Pl\n",
      "x1          0  0.2\n",
      "x1,x2,x3    1    1\n",
      "x2        0.8    1\n",
      "x3          0  0.2\n"
     ]
    }
   ],
   "source": [
    "print(nec_x.necessity)\n",
    "print(rob_x.prob_range)\n"
   ]
  },
  {
   "cell_type": "code",
   "execution_count": 5,
   "id": "51d7be8e",
   "metadata": {},
   "outputs": [],
   "source": [
    "rob_xy.approximate_robust_credal_set()"
   ]
  },
  {
   "cell_type": "code",
   "execution_count": 6,
   "id": "2d16c1f9",
   "metadata": {},
   "outputs": [
    {
     "data": {
      "text/html": [
       "<div>\n",
       "<style scoped>\n",
       "    .dataframe tbody tr th:only-of-type {\n",
       "        vertical-align: middle;\n",
       "    }\n",
       "\n",
       "    .dataframe tbody tr th {\n",
       "        vertical-align: top;\n",
       "    }\n",
       "\n",
       "    .dataframe thead th {\n",
       "        text-align: right;\n",
       "    }\n",
       "</style>\n",
       "<table border=\"1\" class=\"dataframe\">\n",
       "  <thead>\n",
       "    <tr style=\"text-align: right;\">\n",
       "      <th></th>\n",
       "      <th></th>\n",
       "      <th>P_inf</th>\n",
       "      <th>P</th>\n",
       "    </tr>\n",
       "    <tr>\n",
       "      <th>X</th>\n",
       "      <th>Y</th>\n",
       "      <th></th>\n",
       "      <th></th>\n",
       "    </tr>\n",
       "  </thead>\n",
       "  <tbody>\n",
       "    <tr>\n",
       "      <th rowspan=\"3\" valign=\"top\">x1</th>\n",
       "      <th>y1</th>\n",
       "      <td>0.0</td>\n",
       "      <td>[0.0, 0.8, 0.2] | [0.0, 1.0]</td>\n",
       "    </tr>\n",
       "    <tr>\n",
       "      <th>y2</th>\n",
       "      <td>0.0</td>\n",
       "      <td>[0.0, 0.8, 0.2] | [0.0, 1.0]</td>\n",
       "    </tr>\n",
       "    <tr>\n",
       "      <th>y1,y2</th>\n",
       "      <td>0.0</td>\n",
       "      <td>[0.0, 0.8, 0.2] | [0.0, 1.0]</td>\n",
       "    </tr>\n",
       "    <tr>\n",
       "      <th rowspan=\"3\" valign=\"top\">x2</th>\n",
       "      <th>y1</th>\n",
       "      <td>0.0</td>\n",
       "      <td>[0.0, 0.8, 0.2] | [0.0, 1.0]</td>\n",
       "    </tr>\n",
       "    <tr>\n",
       "      <th>y2</th>\n",
       "      <td>0.1</td>\n",
       "      <td>[0.0, 0.8, 0.2] | [0.7, 0.3]</td>\n",
       "    </tr>\n",
       "    <tr>\n",
       "      <th>y1,y2</th>\n",
       "      <td>0.8</td>\n",
       "      <td>[0.2, 0.8, 0.0] | [0.49, 0.51]</td>\n",
       "    </tr>\n",
       "    <tr>\n",
       "      <th rowspan=\"3\" valign=\"top\">x3</th>\n",
       "      <th>y1</th>\n",
       "      <td>0.0</td>\n",
       "      <td>[0.0, 0.8, 0.2] | [0.0, 1.0]</td>\n",
       "    </tr>\n",
       "    <tr>\n",
       "      <th>y2</th>\n",
       "      <td>-0.0</td>\n",
       "      <td>[0.2, 0.8, 0.0] | [0.49, 0.51]</td>\n",
       "    </tr>\n",
       "    <tr>\n",
       "      <th>y1,y2</th>\n",
       "      <td>-0.0</td>\n",
       "      <td>[0.2, 0.8, 0.0] | [0.49, 0.51]</td>\n",
       "    </tr>\n",
       "    <tr>\n",
       "      <th rowspan=\"3\" valign=\"top\">x1,x2</th>\n",
       "      <th>y1</th>\n",
       "      <td>0.0</td>\n",
       "      <td>[0.0, 0.8, 0.2] | [0.0, 1.0]</td>\n",
       "    </tr>\n",
       "    <tr>\n",
       "      <th>y2</th>\n",
       "      <td>0.1</td>\n",
       "      <td>[0.0, 0.8, 0.2] | [0.7, 0.3]</td>\n",
       "    </tr>\n",
       "    <tr>\n",
       "      <th>y1,y2</th>\n",
       "      <td>0.8</td>\n",
       "      <td>[0.0, 0.8, 0.2] | [0.0, 1.0]</td>\n",
       "    </tr>\n",
       "    <tr>\n",
       "      <th rowspan=\"3\" valign=\"top\">x1,x3</th>\n",
       "      <th>y1</th>\n",
       "      <td>0.0</td>\n",
       "      <td>[0.0, 0.8, 0.2] | [0.0, 1.0]</td>\n",
       "    </tr>\n",
       "    <tr>\n",
       "      <th>y2</th>\n",
       "      <td>-0.0</td>\n",
       "      <td>[0.2, 0.8, 0.0] | [0.49, 0.51]</td>\n",
       "    </tr>\n",
       "    <tr>\n",
       "      <th>y1,y2</th>\n",
       "      <td>-0.0</td>\n",
       "      <td>[0.0, 1.0, 0.0] | [0.49, 0.51]</td>\n",
       "    </tr>\n",
       "    <tr>\n",
       "      <th rowspan=\"3\" valign=\"top\">x2,x3</th>\n",
       "      <th>y1</th>\n",
       "      <td>0.0</td>\n",
       "      <td>[0.0, 0.8, 0.2] | [0.0, 1.0]</td>\n",
       "    </tr>\n",
       "    <tr>\n",
       "      <th>y2</th>\n",
       "      <td>0.3</td>\n",
       "      <td>[0.0, 0.8, 0.2] | [0.7, 0.3]</td>\n",
       "    </tr>\n",
       "    <tr>\n",
       "      <th>y1,y2</th>\n",
       "      <td>0.8</td>\n",
       "      <td>[0.2, 0.8, 0.0] | [0.49, 0.51]</td>\n",
       "    </tr>\n",
       "    <tr>\n",
       "      <th rowspan=\"3\" valign=\"top\">x1,x2,x3</th>\n",
       "      <th>y1</th>\n",
       "      <td>0.0</td>\n",
       "      <td>[0.0, 0.8, 0.2] | [0.0, 1.0]</td>\n",
       "    </tr>\n",
       "    <tr>\n",
       "      <th>y2</th>\n",
       "      <td>0.3</td>\n",
       "      <td>[0.0, 0.8, 0.2] | [0.7, 0.3]</td>\n",
       "    </tr>\n",
       "    <tr>\n",
       "      <th>y1,y2</th>\n",
       "      <td>1.0</td>\n",
       "      <td>[0.1, 0.9, 0.0] | [0.49, 0.51]</td>\n",
       "    </tr>\n",
       "  </tbody>\n",
       "</table>\n",
       "</div>"
      ],
      "text/plain": [
       "                P_inf                               P\n",
       "X        Y                                           \n",
       "x1       y1       0.0    [0.0, 0.8, 0.2] | [0.0, 1.0]\n",
       "         y2       0.0    [0.0, 0.8, 0.2] | [0.0, 1.0]\n",
       "         y1,y2    0.0    [0.0, 0.8, 0.2] | [0.0, 1.0]\n",
       "x2       y1       0.0    [0.0, 0.8, 0.2] | [0.0, 1.0]\n",
       "         y2       0.1    [0.0, 0.8, 0.2] | [0.7, 0.3]\n",
       "         y1,y2    0.8  [0.2, 0.8, 0.0] | [0.49, 0.51]\n",
       "x3       y1       0.0    [0.0, 0.8, 0.2] | [0.0, 1.0]\n",
       "         y2      -0.0  [0.2, 0.8, 0.0] | [0.49, 0.51]\n",
       "         y1,y2   -0.0  [0.2, 0.8, 0.0] | [0.49, 0.51]\n",
       "x1,x2    y1       0.0    [0.0, 0.8, 0.2] | [0.0, 1.0]\n",
       "         y2       0.1    [0.0, 0.8, 0.2] | [0.7, 0.3]\n",
       "         y1,y2    0.8    [0.0, 0.8, 0.2] | [0.0, 1.0]\n",
       "x1,x3    y1       0.0    [0.0, 0.8, 0.2] | [0.0, 1.0]\n",
       "         y2      -0.0  [0.2, 0.8, 0.0] | [0.49, 0.51]\n",
       "         y1,y2   -0.0  [0.0, 1.0, 0.0] | [0.49, 0.51]\n",
       "x2,x3    y1       0.0    [0.0, 0.8, 0.2] | [0.0, 1.0]\n",
       "         y2       0.3    [0.0, 0.8, 0.2] | [0.7, 0.3]\n",
       "         y1,y2    0.8  [0.2, 0.8, 0.0] | [0.49, 0.51]\n",
       "x1,x2,x3 y1       0.0    [0.0, 0.8, 0.2] | [0.0, 1.0]\n",
       "         y2       0.3    [0.0, 0.8, 0.2] | [0.7, 0.3]\n",
       "         y1,y2    1.0  [0.1, 0.9, 0.0] | [0.49, 0.51]"
      ]
     },
     "execution_count": 6,
     "metadata": {},
     "output_type": "execute_result"
    }
   ],
   "source": [
    "rob_xy.approximation\n"
   ]
  },
  {
   "cell_type": "code",
   "execution_count": 7,
   "id": "75bf2b28-daf3-49cb-8f0a-164ea9e5d54b",
   "metadata": {},
   "outputs": [],
   "source": [
    "p_x = pd.DataFrame(data=[0.2,0.8,0.0], columns=[\"P\"], index=[\"x1\", \"x2\", \"x3\"])\n",
    "p_y = pd.DataFrame(data=[0.5,0.5], columns=[\"P\"], index=[\"y1\", \"y2\"])"
   ]
  },
  {
   "cell_type": "code",
   "execution_count": 9,
   "id": "db238986-f07c-450b-8e96-f4a37a91b3c4",
   "metadata": {},
   "outputs": [
    {
     "name": "stdout",
     "output_type": "stream",
     "text": [
      "         P\n",
      "X  Y      \n",
      "x1 y1  0.2\n",
      "   y2    0\n",
      "x2 y1  0.3\n",
      "   y2  0.5\n",
      "x3 y1    0\n",
      "   y2    0\n"
     ]
    }
   ],
   "source": [
    "rob_xy.join_proba_on_atoms(p_x, p_y)\n",
    "print(rob_xy.p_xy)"
   ]
  },
  {
   "cell_type": "code",
   "execution_count": 7,
   "id": "e1d7cfa3-0ec1-43e4-90ca-7f72eb456ce6",
   "metadata": {},
   "outputs": [
    {
     "name": "stdout",
     "output_type": "stream",
     "text": [
      "          Nec   Pl\n",
      "x1          0  0.2\n",
      "x1,x2,x3    1    1\n",
      "x2        0.8    1\n",
      "x3          0  0.2 \n",
      "        Nec   Pl\n",
      "y1       0  0.7\n",
      "y1,y2    1    1\n",
      "y2     0.3    1\n"
     ]
    }
   ],
   "source": [
    "print(rob_x.prob_range, \"\\n\", rob_y.prob_range)"
   ]
  },
  {
   "cell_type": "code",
   "execution_count": null,
   "id": "6939d734-7890-4ca4-b765-22cc6d0366d2",
   "metadata": {},
   "outputs": [],
   "source": [
    "i"
   ]
  }
 ],
 "metadata": {
  "kernelspec": {
   "display_name": "venv_copula",
   "language": "python",
   "name": "venv_copula"
  },
  "language_info": {
   "codemirror_mode": {
    "name": "ipython",
    "version": 3
   },
   "file_extension": ".py",
   "mimetype": "text/x-python",
   "name": "python",
   "nbconvert_exporter": "python",
   "pygments_lexer": "ipython3",
   "version": "3.8.4"
  }
 },
 "nbformat": 4,
 "nbformat_minor": 5
}
