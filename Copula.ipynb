{
 "cells": [
  {
   "cell_type": "code",
   "execution_count": 1,
   "metadata": {},
   "outputs": [],
   "source": [
    "import pandas as pd\n",
    "import numpy as np \n",
    "import os.path as op\n",
    "\n",
    "from necessity_functions import NecessityUnivariate, NecessityBivariate\n",
    "from robust_set_sampling import RobustCredalSetUnivariate, RobustCredalSetBivariate\n",
    "from ordering_focal_set_importance import random_generator_poss\n",
    "from copulas import min_copula"
   ]
  },
  {
   "cell_type": "markdown",
   "metadata": {},
   "source": [
    "### Declare marginal possibilities and orders"
   ]
  },
  {
   "cell_type": "code",
   "execution_count": 2,
   "metadata": {},
   "outputs": [],
   "source": [
    "a = {'x1':0.2, \"x2\":1, \"x3\":0.2}\n",
    "order_a = pd.DataFrame(data=[2,1], index=[\"x2\", \"x1,x2,x3\"], columns=[\"order\"])\n",
    "order_a_p = pd.DataFrame(data=[1,2,3], index=[\"x1\",\"x2\",\"x3\"], columns=[\"order\"])\n",
    "\n",
    "b = {'y1':0.7, \"y2\":1}\n",
    "order_b = pd.DataFrame(data=[1,2], index=[\"y2\", \"y1,y2\"], columns=[\"order\"])\n",
    "order_b_p = pd.DataFrame(data=[1,2], index=[\"y1\",\"y2\"], columns=[\"order\"])"
   ]
  },
  {
   "cell_type": "markdown",
   "metadata": {},
   "source": [
    "### Necessity functions"
   ]
  },
  {
   "cell_type": "code",
   "execution_count": 3,
   "metadata": {},
   "outputs": [],
   "source": [
    "nec_x = NecessityUnivariate(a, order_a)\n",
    "nec_y = NecessityUnivariate(b, order_b)\n",
    "\n",
    "nec_xy = NecessityBivariate(nec_x, nec_y, min_copula)"
   ]
  },
  {
   "cell_type": "code",
   "execution_count": 4,
   "metadata": {},
   "outputs": [],
   "source": [
    "rob_x = RobustCredalSetUnivariate(nec_x)\n",
    "rob_y = RobustCredalSetUnivariate(nec_y)\n",
    "\n",
    "rob_xy = RobustCredalSetBivariate(rob_x, rob_y, order_a_p, order_b_p, min_copula)"
   ]
  },
  {
   "cell_type": "markdown",
   "metadata": {},
   "source": [
    "# Other tests"
   ]
  },
  {
   "cell_type": "code",
   "execution_count": 2,
   "metadata": {},
   "outputs": [],
   "source": [
    "gen = random_generator_poss([\"x1\", \"x2\", \"x3\", \"x4\"])"
   ]
  },
  {
   "cell_type": "code",
   "execution_count": 3,
   "metadata": {},
   "outputs": [
    {
     "name": "stdout",
     "output_type": "stream",
     "text": [
      "{'x1': 0.14, 'x2': 0.95, 'x3': 0.31, 'x4': 1.0}\n",
      "{'x1': 0.83, 'x2': 0.41, 'x3': 0.55, 'x4': 1.0}\n",
      "{'x1': 0.54, 'x2': 0.33, 'x3': 0.79, 'x4': 1.0}\n",
      "{'x1': 0.45, 'x2': 0.13, 'x3': 0.4, 'x4': 1.0}\n",
      "{'x1': 0.75, 'x2': 0.28, 'x3': 1.0, 'x4': 0.49}\n",
      "{'x1': 1.0, 'x2': 0.54, 'x3': 1.0, 'x4': 1.0}\n",
      "{'x1': 0.97, 'x2': 0.52, 'x3': 1.0, 'x4': 0.12}\n",
      "{'x1': 1.0, 'x2': 0.78, 'x3': 0.61, 'x4': 0.92}\n",
      "{'x1': 0.46, 'x2': 0.06, 'x3': 1.0, 'x4': 0.64}\n",
      "{'x1': 1.0, 'x2': 1.0, 'x3': 1.0, 'x4': 0.84}\n",
      "{'x1': 0.75, 'x2': 0.15, 'x3': 1.0, 'x4': 0.82}\n",
      "{'x1': 0.79, 'x2': 0.19, 'x3': 1.0, 'x4': 0.8}\n",
      "{'x1': 0.86, 'x2': 1.0, 'x3': 0.86, 'x4': 0.88}\n",
      "{'x1': 1.0, 'x2': 0.27, 'x3': 0.01, 'x4': 0.65}\n",
      "{'x1': 0.22, 'x2': 1.0, 'x3': 0.64, 'x4': 1.0}\n",
      "{'x1': 1.0, 'x2': 0.15, 'x3': 0.48, 'x4': 1.0}\n",
      "{'x1': 0.67, 'x2': 1.0, 'x3': 1.0, 'x4': 1.0}\n",
      "{'x1': 1.0, 'x2': 0.66, 'x3': 1.0, 'x4': 1.0}\n",
      "{'x1': 0.21, 'x2': 0.83, 'x3': 1.0, 'x4': 0.06}\n",
      "{'x1': 0.38, 'x2': 1.0, 'x3': 1.0, 'x4': 0.32}\n",
      "{'x1': 0.4, 'x2': 0.01, 'x3': 1.0, 'x4': 0.26}\n",
      "{'x1': 1.0, 'x2': 0.11, 'x3': 0.63, 'x4': 0.38}\n",
      "{'x1': 0.87, 'x2': 1.0, 'x3': 1.0, 'x4': 0.63}\n",
      "{'x1': 0.54, 'x2': 1.0, 'x3': 0.2, 'x4': 1.0}\n",
      "{'x1': 1.0, 'x2': 0.26, 'x3': 1.0, 'x4': 1.0}\n",
      "{'x1': 1.0, 'x2': 0.13, 'x3': 0.38, 'x4': 1.0}\n",
      "{'x1': 0.46, 'x2': 1.0, 'x3': 0.59, 'x4': 0.84}\n",
      "{'x1': 0.45, 'x2': 1.0, 'x3': 1.0, 'x4': 0.37}\n",
      "{'x1': 1.0, 'x2': 0.28, 'x3': 0.31, 'x4': 0.31}\n",
      "{'x1': 1.0, 'x2': 0.97, 'x3': 0.77, 'x4': 0.79}\n"
     ]
    }
   ],
   "source": [
    "i=0\n",
    "for k in gen:\n",
    "    print(k)\n",
    "    i+=1\n",
    "    if i == 30:\n",
    "        break"
   ]
  },
  {
   "cell_type": "code",
   "execution_count": null,
   "metadata": {},
   "outputs": [],
   "source": []
  }
 ],
 "metadata": {
  "kernelspec": {
   "display_name": "venv_copula",
   "language": "python",
   "name": "venv_copula"
  },
  "language_info": {
   "codemirror_mode": {
    "name": "ipython",
    "version": 3
   },
   "file_extension": ".py",
   "mimetype": "text/x-python",
   "name": "python",
   "nbconvert_exporter": "python",
   "pygments_lexer": "ipython3",
   "version": "3.8.4"
  }
 },
 "nbformat": 4,
 "nbformat_minor": 5
}
