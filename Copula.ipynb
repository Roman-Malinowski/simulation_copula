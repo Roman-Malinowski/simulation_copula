{
 "cells": [
  {
   "cell_type": "code",
   "execution_count": 1,
   "id": "c2f39eb5",
   "metadata": {},
   "outputs": [],
   "source": [
    "import pandas as pd\n",
    "\n",
    "from necessity_functions import NecessityUnivariate, NecessityBivariate\n",
    "from robust_set_sampling import RobustCredalSetUnivariate, RobustCredalSetBivariate\n",
    "from Copulas import min_copula"
   ]
  },
  {
   "cell_type": "markdown",
   "id": "83b56db0",
   "metadata": {},
   "source": [
    "### Declare marginal possibilities and orders"
   ]
  },
  {
   "cell_type": "code",
   "execution_count": 2,
   "id": "6f8ec840",
   "metadata": {},
   "outputs": [],
   "source": [
    "a = {'x1':0.2, \"x2\":1, \"x3\":0.2}\n",
    "order_a = pd.DataFrame(data=[2,1], columns=[\"order\"], index=[\"x2\", \"x1,x2,x3\"])\n",
    "order_a_p = {'x1':1, \"x2\":2, \"x3\":3}\n",
    "b = {'y1':0.7, \"y2\":1}\n",
    "order_b = pd.DataFrame(data=[1,2], columns=[\"order\"], index=[\"y2\", \"y1,y2\"])\n",
    "order_b_p = {'y1':1, \"y2\":2}"
   ]
  },
  {
   "cell_type": "markdown",
   "id": "fdae2689",
   "metadata": {},
   "source": [
    "### Necessity functions"
   ]
  },
  {
   "cell_type": "code",
   "execution_count": 3,
   "id": "0ec15a5d",
   "metadata": {},
   "outputs": [],
   "source": [
    "nec_x = NecessityUnivariate(a, order_a)\n",
    "nec_y = NecessityUnivariate(b, order_b)\n",
    "\n",
    "nec_xy = NecessityBivariate(nec_x, nec_y, min_copula)"
   ]
  },
  {
   "cell_type": "code",
   "execution_count": 4,
   "id": "93143040",
   "metadata": {},
   "outputs": [],
   "source": [
    "rob_x = RobustCredalSetUnivariate(nec_x)\n",
    "rob_y = RobustCredalSetUnivariate(nec_y)\n",
    "\n",
    "rob_xy = RobustCredalSetBivariate(rob_x, rob_y, order_a_p, order_b_p, min_copula)"
   ]
  },
  {
   "cell_type": "code",
   "execution_count": 5,
   "id": "51d7be8e",
   "metadata": {},
   "outputs": [
    {
     "ename": "ValueError",
     "evalue": "shape mismatch: value array of shape (3,) could not be broadcast to indexing result of shape (2,)",
     "output_type": "error",
     "traceback": [
      "\u001b[1;31m---------------------------------------------------------------------------\u001b[0m",
      "\u001b[1;31mValueError\u001b[0m                                Traceback (most recent call last)",
      "Cell \u001b[1;32mIn [5], line 1\u001b[0m\n\u001b[1;32m----> 1\u001b[0m rob_xy\u001b[38;5;241m.\u001b[39mapproximate_robust_credal_set()\n",
      "File \u001b[1;32m~\\Code\\simulation_copula\\robust_set_sampling.py:137\u001b[0m, in \u001b[0;36mRobustCredalSetBivariate.approximate_robust_credal_set\u001b[1;34m(self)\u001b[0m\n\u001b[0;32m    134\u001b[0m generator_y \u001b[38;5;241m=\u001b[39m \u001b[38;5;28mself\u001b[39m\u001b[38;5;241m.\u001b[39mrob_y\u001b[38;5;241m.\u001b[39mgenerator_credal_set()\n\u001b[0;32m    136\u001b[0m \u001b[38;5;28;01mfor\u001b[39;00m p_x \u001b[38;5;129;01min\u001b[39;00m generator_x:\n\u001b[1;32m--> 137\u001b[0m     \u001b[38;5;28;01mfor\u001b[39;00m p_y \u001b[38;5;129;01min\u001b[39;00m generator_y:\n\u001b[0;32m    138\u001b[0m         \u001b[38;5;28mself\u001b[39m\u001b[38;5;241m.\u001b[39mjoin_proba_on_atoms(p_x, p_y)\n\u001b[0;32m    139\u001b[0m         \u001b[38;5;28;01mfor\u001b[39;00m x, y \u001b[38;5;129;01min\u001b[39;00m \u001b[38;5;28mself\u001b[39m\u001b[38;5;241m.\u001b[39mapproximation\u001b[38;5;241m.\u001b[39mindex:\n",
      "File \u001b[1;32m~\\Code\\simulation_copula\\robust_set_sampling.py:44\u001b[0m, in \u001b[0;36mRobustCredalSetUnivariate.generator_credal_set\u001b[1;34m(self)\u001b[0m\n\u001b[0;32m     40\u001b[0m \u001b[38;5;28;01mfor\u001b[39;00m x1 \u001b[38;5;129;01min\u001b[39;00m np\u001b[38;5;241m.\u001b[39mlinspace(\u001b[38;5;28mself\u001b[39m\u001b[38;5;241m.\u001b[39mprob_range\u001b[38;5;241m.\u001b[39mloc[p\u001b[38;5;241m.\u001b[39mindex[\u001b[38;5;241m0\u001b[39m], \u001b[38;5;124m\"\u001b[39m\u001b[38;5;124mNec\u001b[39m\u001b[38;5;124m\"\u001b[39m], \u001b[38;5;28mself\u001b[39m\u001b[38;5;241m.\u001b[39mprob_range\u001b[38;5;241m.\u001b[39mloc[p\u001b[38;5;241m.\u001b[39mindex[\u001b[38;5;241m0\u001b[39m], \u001b[38;5;124m\"\u001b[39m\u001b[38;5;124mPl\u001b[39m\u001b[38;5;124m\"\u001b[39m],\n\u001b[0;32m     41\u001b[0m                       num\u001b[38;5;241m=\u001b[39m\u001b[38;5;28mself\u001b[39m\u001b[38;5;241m.\u001b[39msamples_per_interval):\n\u001b[0;32m     42\u001b[0m     \u001b[38;5;28;01mfor\u001b[39;00m x2 \u001b[38;5;129;01min\u001b[39;00m np\u001b[38;5;241m.\u001b[39mlinspace(\u001b[38;5;28mself\u001b[39m\u001b[38;5;241m.\u001b[39mprob_range\u001b[38;5;241m.\u001b[39mloc[p\u001b[38;5;241m.\u001b[39mindex[\u001b[38;5;241m1\u001b[39m], \u001b[38;5;124m\"\u001b[39m\u001b[38;5;124mNec\u001b[39m\u001b[38;5;124m\"\u001b[39m], \u001b[38;5;28mself\u001b[39m\u001b[38;5;241m.\u001b[39mprob_range\u001b[38;5;241m.\u001b[39mloc[p\u001b[38;5;241m.\u001b[39mindex[\u001b[38;5;241m1\u001b[39m], \u001b[38;5;124m\"\u001b[39m\u001b[38;5;124mPl\u001b[39m\u001b[38;5;124m\"\u001b[39m],\n\u001b[0;32m     43\u001b[0m                           num\u001b[38;5;241m=\u001b[39m\u001b[38;5;28mself\u001b[39m\u001b[38;5;241m.\u001b[39msamples_per_interval):\n\u001b[1;32m---> 44\u001b[0m         \u001b[43mp\u001b[49m\u001b[38;5;241;43m.\u001b[39;49m\u001b[43mloc\u001b[49m\u001b[43m[\u001b[49m\u001b[43mp\u001b[49m\u001b[38;5;241;43m.\u001b[39;49m\u001b[43mindex\u001b[49m\u001b[43m[\u001b[49m\u001b[38;5;241;43m0\u001b[39;49m\u001b[43m:\u001b[49m\u001b[38;5;241;43m3\u001b[39;49m\u001b[43m]\u001b[49m\u001b[43m,\u001b[49m\u001b[43m \u001b[49m\u001b[38;5;124;43m\"\u001b[39;49m\u001b[38;5;124;43mP\u001b[39;49m\u001b[38;5;124;43m\"\u001b[39;49m\u001b[43m]\u001b[49m \u001b[38;5;241m=\u001b[39m [x1, x2, \u001b[38;5;241m1\u001b[39m \u001b[38;5;241m-\u001b[39m x1 \u001b[38;5;241m-\u001b[39m x2]\n\u001b[0;32m     46\u001b[0m         \u001b[38;5;28;01mif\u001b[39;00m np\u001b[38;5;241m.\u001b[39many(p[\u001b[38;5;124m\"\u001b[39m\u001b[38;5;124mP\u001b[39m\u001b[38;5;124m\"\u001b[39m] \u001b[38;5;241m<\u001b[39m \u001b[38;5;241m0\u001b[39m):\n\u001b[0;32m     47\u001b[0m             \u001b[38;5;28;01mcontinue\u001b[39;00m\n",
      "File \u001b[1;32m~\\Code\\simulation_copula\\venv_copula\\lib\\site-packages\\pandas\\core\\indexing.py:819\u001b[0m, in \u001b[0;36m_LocationIndexer.__setitem__\u001b[1;34m(self, key, value)\u001b[0m\n\u001b[0;32m    816\u001b[0m \u001b[38;5;28mself\u001b[39m\u001b[38;5;241m.\u001b[39m_has_valid_setitem_indexer(key)\n\u001b[0;32m    818\u001b[0m iloc \u001b[38;5;241m=\u001b[39m \u001b[38;5;28mself\u001b[39m \u001b[38;5;28;01mif\u001b[39;00m \u001b[38;5;28mself\u001b[39m\u001b[38;5;241m.\u001b[39mname \u001b[38;5;241m==\u001b[39m \u001b[38;5;124m\"\u001b[39m\u001b[38;5;124miloc\u001b[39m\u001b[38;5;124m\"\u001b[39m \u001b[38;5;28;01melse\u001b[39;00m \u001b[38;5;28mself\u001b[39m\u001b[38;5;241m.\u001b[39mobj\u001b[38;5;241m.\u001b[39miloc\n\u001b[1;32m--> 819\u001b[0m \u001b[43miloc\u001b[49m\u001b[38;5;241;43m.\u001b[39;49m\u001b[43m_setitem_with_indexer\u001b[49m\u001b[43m(\u001b[49m\u001b[43mindexer\u001b[49m\u001b[43m,\u001b[49m\u001b[43m \u001b[49m\u001b[43mvalue\u001b[49m\u001b[43m,\u001b[49m\u001b[43m \u001b[49m\u001b[38;5;28;43mself\u001b[39;49m\u001b[38;5;241;43m.\u001b[39;49m\u001b[43mname\u001b[49m\u001b[43m)\u001b[49m\n",
      "File \u001b[1;32m~\\Code\\simulation_copula\\venv_copula\\lib\\site-packages\\pandas\\core\\indexing.py:1798\u001b[0m, in \u001b[0;36m_iLocIndexer._setitem_with_indexer\u001b[1;34m(self, indexer, value, name)\u001b[0m\n\u001b[0;32m   1796\u001b[0m     \u001b[38;5;28mself\u001b[39m\u001b[38;5;241m.\u001b[39m_setitem_with_indexer_split_path(indexer, value, name)\n\u001b[0;32m   1797\u001b[0m \u001b[38;5;28;01melse\u001b[39;00m:\n\u001b[1;32m-> 1798\u001b[0m     \u001b[38;5;28;43mself\u001b[39;49m\u001b[38;5;241;43m.\u001b[39;49m\u001b[43m_setitem_single_block\u001b[49m\u001b[43m(\u001b[49m\u001b[43mindexer\u001b[49m\u001b[43m,\u001b[49m\u001b[43m \u001b[49m\u001b[43mvalue\u001b[49m\u001b[43m,\u001b[49m\u001b[43m \u001b[49m\u001b[43mname\u001b[49m\u001b[43m)\u001b[49m\n",
      "File \u001b[1;32m~\\Code\\simulation_copula\\venv_copula\\lib\\site-packages\\pandas\\core\\indexing.py:2079\u001b[0m, in \u001b[0;36m_iLocIndexer._setitem_single_block\u001b[1;34m(self, indexer, value, name)\u001b[0m\n\u001b[0;32m   2076\u001b[0m \u001b[38;5;28mself\u001b[39m\u001b[38;5;241m.\u001b[39mobj\u001b[38;5;241m.\u001b[39m_check_is_chained_assignment_possible()\n\u001b[0;32m   2078\u001b[0m \u001b[38;5;66;03m# actually do the set\u001b[39;00m\n\u001b[1;32m-> 2079\u001b[0m \u001b[38;5;28mself\u001b[39m\u001b[38;5;241m.\u001b[39mobj\u001b[38;5;241m.\u001b[39m_mgr \u001b[38;5;241m=\u001b[39m \u001b[38;5;28;43mself\u001b[39;49m\u001b[38;5;241;43m.\u001b[39;49m\u001b[43mobj\u001b[49m\u001b[38;5;241;43m.\u001b[39;49m\u001b[43m_mgr\u001b[49m\u001b[38;5;241;43m.\u001b[39;49m\u001b[43msetitem\u001b[49m\u001b[43m(\u001b[49m\u001b[43mindexer\u001b[49m\u001b[38;5;241;43m=\u001b[39;49m\u001b[43mindexer\u001b[49m\u001b[43m,\u001b[49m\u001b[43m \u001b[49m\u001b[43mvalue\u001b[49m\u001b[38;5;241;43m=\u001b[39;49m\u001b[43mvalue\u001b[49m\u001b[43m)\u001b[49m\n\u001b[0;32m   2080\u001b[0m \u001b[38;5;28mself\u001b[39m\u001b[38;5;241m.\u001b[39mobj\u001b[38;5;241m.\u001b[39m_maybe_update_cacher(clear\u001b[38;5;241m=\u001b[39m\u001b[38;5;28;01mTrue\u001b[39;00m, inplace\u001b[38;5;241m=\u001b[39m\u001b[38;5;28;01mTrue\u001b[39;00m)\n",
      "File \u001b[1;32m~\\Code\\simulation_copula\\venv_copula\\lib\\site-packages\\pandas\\core\\internals\\managers.py:389\u001b[0m, in \u001b[0;36mBaseBlockManager.setitem\u001b[1;34m(self, indexer, value)\u001b[0m\n\u001b[0;32m    384\u001b[0m \u001b[38;5;28;01mif\u001b[39;00m _using_copy_on_write() \u001b[38;5;129;01mand\u001b[39;00m \u001b[38;5;129;01mnot\u001b[39;00m \u001b[38;5;28mself\u001b[39m\u001b[38;5;241m.\u001b[39m_has_no_reference(\u001b[38;5;241m0\u001b[39m):\n\u001b[0;32m    385\u001b[0m     \u001b[38;5;66;03m# if being referenced -> perform Copy-on-Write and clear the reference\u001b[39;00m\n\u001b[0;32m    386\u001b[0m     \u001b[38;5;66;03m# this method is only called if there is a single block -> hardcoded 0\u001b[39;00m\n\u001b[0;32m    387\u001b[0m     \u001b[38;5;28mself\u001b[39m \u001b[38;5;241m=\u001b[39m \u001b[38;5;28mself\u001b[39m\u001b[38;5;241m.\u001b[39mcopy()\n\u001b[1;32m--> 389\u001b[0m \u001b[38;5;28;01mreturn\u001b[39;00m \u001b[38;5;28;43mself\u001b[39;49m\u001b[38;5;241;43m.\u001b[39;49m\u001b[43mapply\u001b[49m\u001b[43m(\u001b[49m\u001b[38;5;124;43m\"\u001b[39;49m\u001b[38;5;124;43msetitem\u001b[39;49m\u001b[38;5;124;43m\"\u001b[39;49m\u001b[43m,\u001b[49m\u001b[43m \u001b[49m\u001b[43mindexer\u001b[49m\u001b[38;5;241;43m=\u001b[39;49m\u001b[43mindexer\u001b[49m\u001b[43m,\u001b[49m\u001b[43m \u001b[49m\u001b[43mvalue\u001b[49m\u001b[38;5;241;43m=\u001b[39;49m\u001b[43mvalue\u001b[49m\u001b[43m)\u001b[49m\n",
      "File \u001b[1;32m~\\Code\\simulation_copula\\venv_copula\\lib\\site-packages\\pandas\\core\\internals\\managers.py:348\u001b[0m, in \u001b[0;36mBaseBlockManager.apply\u001b[1;34m(self, f, align_keys, ignore_failures, **kwargs)\u001b[0m\n\u001b[0;32m    346\u001b[0m         applied \u001b[38;5;241m=\u001b[39m b\u001b[38;5;241m.\u001b[39mapply(f, \u001b[38;5;241m*\u001b[39m\u001b[38;5;241m*\u001b[39mkwargs)\n\u001b[0;32m    347\u001b[0m     \u001b[38;5;28;01melse\u001b[39;00m:\n\u001b[1;32m--> 348\u001b[0m         applied \u001b[38;5;241m=\u001b[39m \u001b[38;5;28mgetattr\u001b[39m(b, f)(\u001b[38;5;241m*\u001b[39m\u001b[38;5;241m*\u001b[39mkwargs)\n\u001b[0;32m    349\u001b[0m \u001b[38;5;28;01mexcept\u001b[39;00m (\u001b[38;5;167;01mTypeError\u001b[39;00m, \u001b[38;5;167;01mNotImplementedError\u001b[39;00m):\n\u001b[0;32m    350\u001b[0m     \u001b[38;5;28;01mif\u001b[39;00m \u001b[38;5;129;01mnot\u001b[39;00m ignore_failures:\n",
      "File \u001b[1;32m~\\Code\\simulation_copula\\venv_copula\\lib\\site-packages\\pandas\\core\\internals\\blocks.py:985\u001b[0m, in \u001b[0;36mBlock.setitem\u001b[1;34m(self, indexer, value)\u001b[0m\n\u001b[0;32m    981\u001b[0m         \u001b[38;5;28;01mif\u001b[39;00m lib\u001b[38;5;241m.\u001b[39mis_list_like(vi):\n\u001b[0;32m    982\u001b[0m             \u001b[38;5;66;03m# checking lib.is_scalar here fails on\u001b[39;00m\n\u001b[0;32m    983\u001b[0m             \u001b[38;5;66;03m#  test_iloc_setitem_custom_object\u001b[39;00m\n\u001b[0;32m    984\u001b[0m             casted \u001b[38;5;241m=\u001b[39m setitem_datetimelike_compat(values, \u001b[38;5;28mlen\u001b[39m(vi), casted)\n\u001b[1;32m--> 985\u001b[0m     \u001b[43mvalues\u001b[49m\u001b[43m[\u001b[49m\u001b[43mindexer\u001b[49m\u001b[43m]\u001b[49m \u001b[38;5;241m=\u001b[39m casted\n\u001b[0;32m    986\u001b[0m \u001b[38;5;28;01mreturn\u001b[39;00m \u001b[38;5;28mself\u001b[39m\n",
      "\u001b[1;31mValueError\u001b[0m: shape mismatch: value array of shape (3,) could not be broadcast to indexing result of shape (2,)"
     ]
    }
   ],
   "source": [
    "rob_xy.approximate_robust_credal_set()"
   ]
  },
  {
   "cell_type": "code",
   "execution_count": null,
   "id": "2d16c1f9",
   "metadata": {},
   "outputs": [],
   "source": []
  }
 ],
 "metadata": {
  "kernelspec": {
   "display_name": "venv_copula",
   "language": "python",
   "name": "venv_copula"
  },
  "language_info": {
   "codemirror_mode": {
    "name": "ipython",
    "version": 3
   },
   "file_extension": ".py",
   "mimetype": "text/x-python",
   "name": "python",
   "nbconvert_exporter": "python",
   "pygments_lexer": "ipython3",
   "version": "3.10.7"
  }
 },
 "nbformat": 4,
 "nbformat_minor": 5
}
